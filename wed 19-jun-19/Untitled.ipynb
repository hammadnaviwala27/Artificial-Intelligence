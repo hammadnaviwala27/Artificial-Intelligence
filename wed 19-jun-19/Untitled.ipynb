{
 "cells": [
  {
   "cell_type": "code",
   "execution_count": 9,
   "metadata": {},
   "outputs": [],
   "source": [
    "class car():\n",
    "    def __init__(self,make,model,year):\n",
    "        self.make=make\n",
    "        self.model=model\n",
    "        self.year=year\n",
    "        self.odometer_reading=0\n",
    "    def get_descriptive_name(self):\n",
    "        long_name=str(self.year)+\" \"+self.make+\" \"+self.model\n",
    "        return long_name.title()\n",
    "    def read_odometer(self):\n",
    "        print(\"This car has \"+str(self.odometer_reading)+\" miles on it.\")\n",
    "        \n",
    "    def fill_gas(self):\n",
    "        print(' car ')\n",
    "        \n",
    "    def increment_odometer(self,mile):\n",
    "        self.odometer_reading+=mile\n",
    "    def update_odometer(self,mileage):\n",
    "        if mileage>=self.odometer_reading:\n",
    "            self.odometer_reading=mileage\n",
    "        else:\n",
    "            print(\"You cant roll back on odometer\")\n",
    "        return (f'Now car is showing {self.odometer_reading} mileage on it')"
   ]
  },
  {
   "cell_type": "code",
   "execution_count": 10,
   "metadata": {},
   "outputs": [
    {
     "name": "stdout",
     "output_type": "stream",
     "text": [
      "2016 Tesla ,Model S\n",
      "2019 Nesla ,New Model S\n"
     ]
    }
   ],
   "source": [
    "class electric_car(car):\n",
    "    def __init__(self,make,model,year):\n",
    "        super().__init__(make,model,year)\n",
    "        self.battery_size=70\n",
    "        \n",
    "    def describe_battery(self):\n",
    "        print(f\"THIS CAR HAS A { self.battery_size}  -KWH BATTERY \")\n",
    "    \n",
    "    def fill_gas(self):\n",
    "        print('Electric car does not need gas')\n",
    "#overwrite and show the new value of class in parameters but also remember and copy the previous one and can be obtained!!!\n",
    "my_tesla=electric_car(\"tesla\",\",Model s\",2016)\n",
    "new_tesla=electric_car(\"nesla\",\",new Model s\",2019)\n",
    "print(my_tesla.get_descriptive_name())\n",
    "print(new_tesla.get_descriptive_name())\n"
   ]
  },
  {
   "cell_type": "code",
   "execution_count": 11,
   "metadata": {},
   "outputs": [],
   "source": [
    "class Electriccar(car):\n",
    "    def __init__(self,make,model,year):\n",
    "        super().__init__(make,model,year)\n",
    "        self.battery_size=70\n",
    "        \n",
    "    def describe_battery(self):\n",
    "        print('This car has a ' + str(self.battery_size) + '-kwh battery')\n",
    "    \n",
    "   "
   ]
  },
  {
   "cell_type": "code",
   "execution_count": 12,
   "metadata": {},
   "outputs": [
    {
     "name": "stdout",
     "output_type": "stream",
     "text": [
      "This car has a 70-kwh battery\n",
      "None\n"
     ]
    }
   ],
   "source": [
    "#when print is written without return then you will get none !!!!!!!!!!!!\n",
    "hello=Electriccar('motar','vs yoyo',2018)\n",
    "print(hello.describe_battery())\n"
   ]
  },
  {
   "cell_type": "code",
   "execution_count": 20,
   "metadata": {},
   "outputs": [],
   "source": [
    "#This one is diff from the above example\n",
    "class Battery():\n",
    "    def __init__(self , manufacturer , cycles , amperes , battery_size=70):\n",
    "        self.manufacturer = manufacturer\n",
    "        self.cycles = cycles\n",
    "        self. amperes = amperes\n",
    "        self.battery_size = battery_size\n",
    "        \n",
    "    def describe_battery(self):\n",
    "        print('This battery is of ' + str(self.battery_size) + ' size')\n",
    " \n",
    "    "
   ]
  },
  {
   "cell_type": "code",
   "execution_count": 22,
   "metadata": {},
   "outputs": [
    {
     "name": "stdout",
     "output_type": "stream",
     "text": [
      "This battery is of 70 size\n",
      "None\n"
     ]
    }
   ],
   "source": [
    "class electric_car(car):\n",
    "    def __init__(self,make,model,year):\n",
    "        super().__init__(make,model,year)\n",
    "        self.battery=Battery('tp comp','whole','50 amp')\n",
    "        \n",
    "    \n",
    "\n",
    "new_tesla=electric_car(\"nesla\",\",new Model s\",2019)\n",
    "print(new_tesla.battery.describe_battery())"
   ]
  },
  {
   "cell_type": "code",
   "execution_count": null,
   "metadata": {},
   "outputs": [],
   "source": []
  },
  {
   "cell_type": "code",
   "execution_count": null,
   "metadata": {},
   "outputs": [],
   "source": []
  }
 ],
 "metadata": {
  "kernelspec": {
   "display_name": "Python 3",
   "language": "python",
   "name": "python3"
  },
  "language_info": {
   "codemirror_mode": {
    "name": "ipython",
    "version": 3
   },
   "file_extension": ".py",
   "mimetype": "text/x-python",
   "name": "python",
   "nbconvert_exporter": "python",
   "pygments_lexer": "ipython3",
   "version": "3.7.1"
  }
 },
 "nbformat": 4,
 "nbformat_minor": 2
}
