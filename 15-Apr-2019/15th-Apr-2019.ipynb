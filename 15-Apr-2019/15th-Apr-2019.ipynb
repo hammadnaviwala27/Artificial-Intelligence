{
 "cells": [
  {
   "cell_type": "code",
   "execution_count": 27,
   "metadata": {},
   "outputs": [
    {
     "name": "stdout",
     "output_type": "stream",
     "text": [
      "a 10\n",
      "b 20\n",
      "c 30\n"
     ]
    }
   ],
   "source": [
    "dict1={'a':10,'b':20,'c':30}\n",
    "for key1 , value1 in dict1.items():\n",
    "    print(key1,value1)"
   ]
  },
  {
   "cell_type": "code",
   "execution_count": 28,
   "metadata": {},
   "outputs": [
    {
     "name": "stdout",
     "output_type": "stream",
     "text": [
      "a\n",
      "b\n",
      "c\n"
     ]
    }
   ],
   "source": [
    "for key1 in dict1.keys():\n",
    "    print(key1)"
   ]
  },
  {
   "cell_type": "code",
   "execution_count": 29,
   "metadata": {},
   "outputs": [
    {
     "name": "stdout",
     "output_type": "stream",
     "text": [
      "10\n",
      "20\n",
      "30\n"
     ]
    }
   ],
   "source": [
    "for key1 in dict1.values():\n",
    "    print(key1)"
   ]
  },
  {
   "cell_type": "code",
   "execution_count": 30,
   "metadata": {},
   "outputs": [
    {
     "name": "stdout",
     "output_type": "stream",
     "text": [
      "john fav lang is : javas\n"
     ]
    }
   ],
   "source": [
    "fav_lang={'jen':'phython','sarah':'a++','john':'javas'}\n",
    "print(\"john fav lang is : \" + fav_lang['john'])"
   ]
  },
  {
   "cell_type": "code",
   "execution_count": 31,
   "metadata": {},
   "outputs": [
    {
     "name": "stdout",
     "output_type": "stream",
     "text": [
      "My Full Name is : Hammad Rizwan\n",
      " And My Age is : 17\n",
      " And I'm Living in : Karachi\n",
      "\n"
     ]
    }
   ],
   "source": [
    "data={'firstName':'Hammad','lastName':'Rizwan','Age':17,'city':'Karachi'}\n",
    "print(\"My Full Name is : \" + str(data['firstName']),str(data['lastName'])+\"\\n\",\"And My Age is : \"+str(data['Age'])+\"\\n\",\"And I'm Living in : \"+ str(data['city'])+\"\\n\")"
   ]
  },
  {
   "cell_type": "code",
   "execution_count": 32,
   "metadata": {},
   "outputs": [
    {
     "name": "stdout",
     "output_type": "stream",
     "text": [
      "My First Name is :Hammad\n",
      "My last Name is :Rizwan\n",
      "My Age is :17\n",
      "I'm Living in :Karachi\n"
     ]
    }
   ],
   "source": [
    "data={'firstName':'Hammad','lastName':'Rizwan','Age':17,'city':'Karachi'}\n",
    "print(\"My First Name is :{}\".format(data['firstName']))\n",
    "print(\"My last Name is :{}\".format(data['lastName']))\n",
    "print(\"My Age is :{}\".format(data['Age']))\n",
    "print(\"I'm Living in :{}\".format(data['city']))"
   ]
  },
  {
   "cell_type": "code",
   "execution_count": 33,
   "metadata": {},
   "outputs": [
    {
     "name": "stdout",
     "output_type": "stream",
     "text": [
      "\n",
      "key : Teacher\n",
      "value : Sir Nasir\n",
      "\n",
      "key : Assistant_Teacher\n",
      "value : Shahzad\n",
      "\n",
      "key : Student\n",
      "value : Hammad\n"
     ]
    }
   ],
   "source": [
    "user_0={'Teacher':'Sir Nasir','Assistant_Teacher':'Shahzad','Student':'Hammad'}\n",
    "for key ,value in user_0.items():\n",
    "    print('\\nkey : '+key)\n",
    "    print('value : '+value)"
   ]
  },
  {
   "cell_type": "code",
   "execution_count": 34,
   "metadata": {},
   "outputs": [
    {
     "name": "stdout",
     "output_type": "stream",
     "text": [
      "My firstName is : SHAHZAD and lastName is : AHSAN\n",
      "My firstName is : SARA ALI and lastName is : KHAN\n",
      "My firstName is : KOMAL and lastName is : AFTAB\n"
     ]
    }
   ],
   "source": [
    "name ={'shahzad':'Ahsan','Sara Ali':'Khan','Komal':'Aftab'}\n",
    "for firstName,lastName in name.items():\n",
    "    print('My firstName is : '+ firstName.upper()+ ' and lastName is : ' + lastName.upper())"
   ]
  },
  {
   "cell_type": "markdown",
   "metadata": {},
   "source": [
    "# Looping Through All the Keys in a Dictionary"
   ]
  },
  {
   "cell_type": "code",
   "execution_count": 38,
   "metadata": {},
   "outputs": [
    {
     "name": "stdout",
     "output_type": "stream",
     "text": [
      "Dict : apple\n",
      "Dict : AB\n",
      "Dict : Heavy\n",
      "Dict : Audi\n"
     ]
    }
   ],
   "source": [
    "words={'mobile':'apple','batsman':'AB','bike':'Heavy','car':'Audi'}\n",
    "for word in words.values():\n",
    "    print('Dict : ' + word )"
   ]
  },
  {
   "cell_type": "code",
   "execution_count": 39,
   "metadata": {},
   "outputs": [
    {
     "name": "stdout",
     "output_type": "stream",
     "text": [
      "Okay\n"
     ]
    }
   ],
   "source": [
    "alien1 = {'name':'lastname','color':'black','height':'5.7','weight':'67'}\n",
    "\n",
    "if 'lastname' not in alien1.values():\n",
    "    print(\"Please write your name\")\n",
    "else:\n",
    "    print('Okay')"
   ]
  },
  {
   "cell_type": "code",
   "execution_count": 37,
   "metadata": {},
   "outputs": [
    {
     "name": "stdout",
     "output_type": "stream",
     "text": [
      "Please write your name\n"
     ]
    }
   ],
   "source": [
    "alien1 = {'name':'Anas','color':'black','height':'5.7','weight':'67'}\n",
    "\n",
    "if 'lastname' not in alien1.keys():\n",
    "    print(\"Please write your name\")"
   ]
  },
  {
   "cell_type": "code",
   "execution_count": 44,
   "metadata": {},
   "outputs": [
    {
     "name": "stdout",
     "output_type": "stream",
     "text": [
      "['akbar', 'akram', 'ali', 'anas']\n"
     ]
    }
   ],
   "source": [
    "list=['ali','akram','akbar','anas']\n",
    "list.sort()\n",
    "print(list)\n",
    "\n"
   ]
  },
  {
   "cell_type": "markdown",
   "metadata": {},
   "source": [
    "# list in dictionary and Sort"
   ]
  },
  {
   "cell_type": "code",
   "execution_count": 48,
   "metadata": {},
   "outputs": [
    {
     "name": "stdout",
     "output_type": "stream",
     "text": [
      "Shehrayar\n",
      "Zohaib\n",
      "saif\n"
     ]
    }
   ],
   "source": [
    "name1 = {'Shehrayar':'zafar','saif':'Zafar','Zohaib':'owais'}\n",
    "for name in sorted(name1.keys()):\n",
    "    print(name)"
   ]
  },
  {
   "cell_type": "code",
   "execution_count": 55,
   "metadata": {},
   "outputs": [
    {
     "data": {
      "text/plain": [
       "[0, 1, 2, 3, 4, 9, 25, 28, 76, 673]"
      ]
     },
     "execution_count": 55,
     "metadata": {},
     "output_type": "execute_result"
    }
   ],
   "source": [
    "list=[1,3,4,673,28,76,25,0,9,2]\n",
    "ray=sorted(list) \n",
    "ray\n"
   ]
  },
  {
   "cell_type": "code",
   "execution_count": 3,
   "metadata": {},
   "outputs": [
    {
     "data": {
      "text/plain": [
       "list"
      ]
     },
     "execution_count": 3,
     "metadata": {},
     "output_type": "execute_result"
    }
   ],
   "source": [
    "list"
   ]
  },
  {
   "cell_type": "code",
   "execution_count": 29,
   "metadata": {},
   "outputs": [
    {
     "name": "stdout",
     "output_type": "stream",
     "text": [
      "<list_reverseiterator object at 0x00000237BC446518>\n"
     ]
    }
   ],
   "source": [
    "list=[1,3,4,673,28,76,25,0,9,2]\n",
    "print(reversed(list))"
   ]
  },
  {
   "cell_type": "markdown",
   "metadata": {},
   "source": [
    "# List of Dictionaries"
   ]
  },
  {
   "cell_type": "code",
   "execution_count": 71,
   "metadata": {},
   "outputs": [
    {
     "name": "stdout",
     "output_type": "stream",
     "text": [
      "color green\n",
      "points 5\n",
      "color yellow\n",
      "points 10\n",
      "color red\n",
      "points 15\n"
     ]
    }
   ],
   "source": [
    "alien0={'color':'green','points': 5}\n",
    "alien1={'color':'yellow','points': 10}\n",
    "alien2={'color':'red','points': 15}\n",
    "\n",
    "aliens=[alien0,alien1,alien2]\n",
    "\n",
    "for alien in aliens:\n",
    "    for key,value in alien.items():\n",
    "        print(key,value)\n"
   ]
  },
  {
   "cell_type": "code",
   "execution_count": 72,
   "metadata": {},
   "outputs": [
    {
     "name": "stdout",
     "output_type": "stream",
     "text": [
      "2*1 = 2\n",
      "2*2 = 4\n",
      "2*3 = 6\n",
      "2*4 = 8\n",
      "2*5 = 10\n",
      "2*6 = 12\n",
      "2*7 = 14\n",
      "2*8 = 16\n",
      "2*9 = 18\n",
      "2*10 = 20\n",
      "3*1 = 3\n",
      "3*2 = 6\n",
      "3*3 = 9\n",
      "3*4 = 12\n",
      "3*5 = 15\n",
      "3*6 = 18\n",
      "3*7 = 21\n",
      "3*8 = 24\n",
      "3*9 = 27\n",
      "3*10 = 30\n",
      "4*1 = 4\n",
      "4*2 = 8\n",
      "4*3 = 12\n",
      "4*4 = 16\n",
      "4*5 = 20\n",
      "4*6 = 24\n",
      "4*7 = 28\n",
      "4*8 = 32\n",
      "4*9 = 36\n",
      "4*10 = 40\n",
      "5*1 = 5\n",
      "5*2 = 10\n",
      "5*3 = 15\n",
      "5*4 = 20\n",
      "5*5 = 25\n",
      "5*6 = 30\n",
      "5*7 = 35\n",
      "5*8 = 40\n",
      "5*9 = 45\n",
      "5*10 = 50\n"
     ]
    }
   ],
   "source": [
    "numbers=[1,2,3,4,5,6,7,8,9,10]\n",
    "for table in [2,3,4,5]:\n",
    "    for num in numbers:\n",
    "        print(f\"{table}*{num} = {table*num}\")"
   ]
  },
  {
   "cell_type": "code",
   "execution_count": null,
   "metadata": {},
   "outputs": [],
   "source": []
  }
 ],
 "metadata": {
  "kernelspec": {
   "display_name": "Python 3",
   "language": "python",
   "name": "python3"
  },
  "language_info": {
   "codemirror_mode": {
    "name": "ipython",
    "version": 3
   },
   "file_extension": ".py",
   "mimetype": "text/x-python",
   "name": "python",
   "nbconvert_exporter": "python",
   "pygments_lexer": "ipython3",
   "version": "3.7.1"
  }
 },
 "nbformat": 4,
 "nbformat_minor": 2
}
