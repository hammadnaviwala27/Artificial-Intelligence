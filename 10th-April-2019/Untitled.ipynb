{
 "cells": [
  {
   "cell_type": "markdown",
   "metadata": {},
   "source": [
    "# TUPLE"
   ]
  },
  {
   "cell_type": "code",
   "execution_count": 1,
   "metadata": {},
   "outputs": [
    {
     "name": "stdout",
     "output_type": "stream",
     "text": [
      "('Karachi', 'Lahore', 'Islamabad', 'Quetta')\n",
      "<class 'tuple'>\n",
      "('America', 'Paris', 'London', 'New york', 'Ireland', 'Pakistan')\n",
      "<class 'tuple'>\n"
     ]
    },
    {
     "data": {
      "text/plain": [
       "'New york'"
      ]
     },
     "execution_count": 1,
     "metadata": {},
     "output_type": "execute_result"
    }
   ],
   "source": [
    "cities=(\"Karachi\",\"Lahore\",\"Islamabad\",\"Quetta\")\n",
    "country=(\"America\",\"Paris\",\"London\",\"New york\",\"Ireland\",\"Pakistan\")\n",
    "print(cities)\n",
    "print(type(cities))\n",
    "cities[3]\n",
    "print(country)\n",
    "print(type(country))\n",
    "country[3]\n"
   ]
  },
  {
   "cell_type": "code",
   "execution_count": 2,
   "metadata": {},
   "outputs": [
    {
     "name": "stdout",
     "output_type": "stream",
     "text": [
      "I Belong to KARACHI\n"
     ]
    }
   ],
   "source": [
    "print(\"I Belong to \"+cities[0].upper())"
   ]
  },
  {
   "cell_type": "code",
   "execution_count": 3,
   "metadata": {},
   "outputs": [
    {
     "name": "stdout",
     "output_type": "stream",
     "text": [
      "I Belong to Karachi\n"
     ]
    }
   ],
   "source": [
    "print(\"I Belong to \"+cities[0].title())"
   ]
  },
  {
   "cell_type": "code",
   "execution_count": 4,
   "metadata": {
    "scrolled": false
   },
   "outputs": [
    {
     "name": "stdout",
     "output_type": "stream",
     "text": [
      "cities[0]:  Karachi\n",
      "country[1:5]  ('Paris', 'London', 'New york', 'Ireland')\n"
     ]
    }
   ],
   "source": [
    "print(\"cities[0]: \",cities[0] )\n",
    "print(\"country[1:5] \",country[1:5] )"
   ]
  },
  {
   "cell_type": "code",
   "execution_count": 5,
   "metadata": {},
   "outputs": [
    {
     "name": "stdout",
     "output_type": "stream",
     "text": [
      "(12, 34.56, 'abc', 'def', 'ghi', 'xyz')\n"
     ]
    }
   ],
   "source": [
    "tup1 = (12,34.56)\n",
    "tup2 = (\"abc\",\"def\",\"ghi\",\"xyz\")\n",
    "tup3 = tup1 + tup2\n",
    "print(tup3)"
   ]
  },
  {
   "cell_type": "code",
   "execution_count": 6,
   "metadata": {},
   "outputs": [
    {
     "name": "stdout",
     "output_type": "stream",
     "text": [
      "('Physics', 'Chemistry', 1997, 2000)\n",
      "after deleting tup : \n"
     ]
    },
    {
     "ename": "NameError",
     "evalue": "name 'tup' is not defined",
     "output_type": "error",
     "traceback": [
      "\u001b[1;31m---------------------------------------------------------------------------\u001b[0m",
      "\u001b[1;31mNameError\u001b[0m                                 Traceback (most recent call last)",
      "\u001b[1;32m<ipython-input-6-768c1ff30eea>\u001b[0m in \u001b[0;36m<module>\u001b[1;34m\u001b[0m\n\u001b[0;32m      3\u001b[0m \u001b[1;32mdel\u001b[0m \u001b[0mtup\u001b[0m\u001b[1;33m\u001b[0m\u001b[1;33m\u001b[0m\u001b[0m\n\u001b[0;32m      4\u001b[0m \u001b[0mprint\u001b[0m\u001b[1;33m(\u001b[0m\u001b[1;34m\"after deleting tup : \"\u001b[0m\u001b[1;33m)\u001b[0m\u001b[1;33m\u001b[0m\u001b[1;33m\u001b[0m\u001b[0m\n\u001b[1;32m----> 5\u001b[1;33m \u001b[0mprint\u001b[0m\u001b[1;33m(\u001b[0m\u001b[0mtup\u001b[0m\u001b[1;33m)\u001b[0m\u001b[1;33m\u001b[0m\u001b[1;33m\u001b[0m\u001b[0m\n\u001b[0m",
      "\u001b[1;31mNameError\u001b[0m: name 'tup' is not defined"
     ]
    }
   ],
   "source": [
    "tup=(\"Physics\",\"Chemistry\",1997,2000)\n",
    "print(tup)\n",
    "del tup\n",
    "print(\"after deleting tup : \")\n",
    "print(tup)"
   ]
  },
  {
   "cell_type": "code",
   "execution_count": null,
   "metadata": {
    "scrolled": true
   },
   "outputs": [],
   "source": [
    "thisTup=(\"apple\",\"banana\",\"cherrry\")\n",
    "thisTup[1] = \"blackberry\"\n",
    "#The value remain unchaAnges\n",
    "print(thisTup)"
   ]
  },
  {
   "cell_type": "code",
   "execution_count": null,
   "metadata": {},
   "outputs": [],
   "source": [
    "thisTup=(\"apple\",\"banana\",\"cherrry\")\n",
    "for x in thisTup:\n",
    "    print(x)"
   ]
  },
  {
   "cell_type": "code",
   "execution_count": null,
   "metadata": {},
   "outputs": [],
   "source": [
    "thisTup=(\"apple\",\"banana\",\"cherrry\")\n",
    "if \"blackberry\" in thisTup:\n",
    "    print(\"yes,'apple is in the fruit tupple'\")\n",
    "else:\n",
    "    print(\"no strawberry is in the tupple\")\n",
    "    "
   ]
  },
  {
   "cell_type": "code",
   "execution_count": null,
   "metadata": {},
   "outputs": [],
   "source": [
    "thisTup=(\"apple\",\"banana\",\"cherrry\")\n",
    "if \"apple\" in thisTup:\n",
    "    print(\"yes,'apple is in the fruit tupple'\")\n",
    "else:\n",
    "    print(\"no strawberry is in the tupple\")\n",
    "    "
   ]
  },
  {
   "cell_type": "code",
   "execution_count": null,
   "metadata": {},
   "outputs": [],
   "source": [
    "print(len(thisTup))"
   ]
  },
  {
   "cell_type": "code",
   "execution_count": null,
   "metadata": {},
   "outputs": [],
   "source": [
    "titoo=\"a\",\"b\",\"c\"\n",
    "print(type(titoo))"
   ]
  },
  {
   "cell_type": "markdown",
   "metadata": {},
   "source": [
    "# DICTIONARY"
   ]
  },
  {
   "cell_type": "code",
   "execution_count": null,
   "metadata": {},
   "outputs": [],
   "source": [
    "#a={'key':'value'}\n",
    "#b={1 : 2 , 3: 4 , 4 :5 , 6 : 7}\n",
    "alien_0={\"color\" :\"green\",\"points\": 5}\n",
    "print(alien_0[\"color\"])\n",
    "print(alien_0[\"points\"])\n",
    "print(type(alien_0))\n",
    "print(type(\"key\"))\n",
    "print(type(\"value\"))"
   ]
  },
  {
   "cell_type": "code",
   "execution_count": null,
   "metadata": {},
   "outputs": [],
   "source": [
    "new_points=alien_0[\"points\"]\n",
    "print(\"You just earned \" + str(new_points) + \" points !\")"
   ]
  },
  {
   "cell_type": "code",
   "execution_count": 9,
   "metadata": {},
   "outputs": [
    {
     "name": "stdout",
     "output_type": "stream",
     "text": [
      "<class 'int'>\n"
     ]
    }
   ],
   "source": [
    "dic1={1 : 2}\n",
    "dic2={1 : \"pk\"}\n",
    "dic3={\"name\" : \"hamad\"}\n",
    "dic4={\"name\":\"hamad\",\"name\" : \"rizwan\"}\n",
    "dic5={1:(\"hi\",\"hey\")}\n",
    "print(type(dic1[1]))"
   ]
  },
  {
   "cell_type": "code",
   "execution_count": 11,
   "metadata": {},
   "outputs": [
    {
     "data": {
      "text/plain": [
       "333"
      ]
     },
     "execution_count": 11,
     "metadata": {},
     "output_type": "execute_result"
    }
   ],
   "source": [
    "dic6={1:{11:111,22:222,33:333},2:{44:444,55:555,66:666}}\n",
    "dic6[1][33]"
   ]
  },
  {
   "cell_type": "code",
   "execution_count": 14,
   "metadata": {},
   "outputs": [
    {
     "name": "stdout",
     "output_type": "stream",
     "text": [
      "{'color': 'green', 'points': 5}\n",
      "{'color': 'green', 'points': 5, 'a': 0, 'b': 25}\n"
     ]
    }
   ],
   "source": [
    "alien_0={\"color\" :\"green\",\"points\": 5}\n",
    "print(alien_0)\n",
    "alien_0['a']=0\n",
    "alien_0['b']=25\n",
    "print(alien_0)"
   ]
  },
  {
   "cell_type": "code",
   "execution_count": 37,
   "metadata": {},
   "outputs": [
    {
     "name": "stdout",
     "output_type": "stream",
     "text": [
      "balochi\n",
      "{'karahi': ['favourite', 'peshawari', 'balochi'], 'sheep': 'Boti kabab', 'khawas': 'yummy', 'BBQ': 'Malai Boti', 'shake': 'chocolate', 'ice Cream': {'a': ['apple', 'orange', 'mango'], 'b': ['11', '22', '33'], 'c': ['biryani', 'cheery', 'kabab']}}\n",
      "kabab\n"
     ]
    }
   ],
   "source": [
    "foods={}\n",
    "foods['karahi']=['favourite','peshawari','balochi']\n",
    "foods['sheep']='Boti kabab'\n",
    "foods['khawas']='yummy'\n",
    "foods['BBQ']='Malai Boti'\n",
    "foods['shake']='chocolate'\n",
    "foods['ice Cream']={\"a\":[\"apple\",\"orange\",\"mango\"],\"b\":[\"11\",\"22\",\"33\"],\"c\":[\"biryani\",\"cheery\",\"kabab\"]}\n",
    "print(foods['karahi'][2])\n",
    "print(foods)\n",
    "print(foods['ice Cream'][\"c\"][2])"
   ]
  },
  {
   "cell_type": "code",
   "execution_count": 40,
   "metadata": {},
   "outputs": [
    {
     "name": "stdout",
     "output_type": "stream",
     "text": [
      "Shane watson is a AUSTRALIAN INTERNATIONAL CRICKETER\n"
     ]
    }
   ],
   "source": [
    "players={\"watson\":\"Australian International Cricketer\"}\n",
    "print(\"Shane watson is a \"+ players['watson'].upper())\n",
    "\n"
   ]
  },
  {
   "cell_type": "code",
   "execution_count": 44,
   "metadata": {},
   "outputs": [
    {
     "name": "stdout",
     "output_type": "stream",
     "text": [
      "Karachi is a : Kings\n",
      "PSL 4 zalmi : won2\n"
     ]
    }
   ],
   "source": [
    "psl = {\"Karachi\":\"Kings\" , \"Multan\":\"sultan\" , \"zalmi\" : \"won\"}\n",
    "print(\"Karachi is a : \" + str(psl[\"Karachi\"]))\n",
    "\n",
    "if psl[\"zalmi\"]==\"loser\":\n",
    "    x_increment = 1\n",
    "    \n",
    "elif psl[\"zalmi\"]==\"won\":\n",
    "    x_increment = 2\n",
    "    \n",
    "else:\n",
    "    x_increment = 3\n",
    "    \n",
    "psl[\"zalmi\"]=psl[\"zalmi\"] + str(x_increment)\n",
    "print(\"PSL 4 zalmi : \" + str(psl[\"zalmi\"]))"
   ]
  },
  {
   "cell_type": "code",
   "execution_count": 50,
   "metadata": {},
   "outputs": [
    {
     "name": "stdout",
     "output_type": "stream",
     "text": [
      "alien_0 has a greenish Color\n"
     ]
    }
   ],
   "source": [
    "alien_0={\"color\" :\"green\",\"points\": 5}\n",
    "\n",
    "if alien_0[\"color\"]==\"yellow\":\n",
    "    x_increment=\"blue\"\n",
    "\n",
    "elif alien_0[\"color\"]==\"green\":\n",
    "    x_increment=\"ish\"\n",
    "    \n",
    "else:\n",
    "    x_increment=\"ii\"\n",
    "    \n",
    "alien_0[\"color\"]=alien_0[\"color\"]  + str(x_increment) \n",
    "print(\"alien_0 has a \" + str(alien_0[\"color\"]) + \" Color\")"
   ]
  },
  {
   "cell_type": "code",
   "execution_count": null,
   "metadata": {},
   "outputs": [],
   "source": []
  }
 ],
 "metadata": {
  "kernelspec": {
   "display_name": "Python 3",
   "language": "python",
   "name": "python3"
  },
  "language_info": {
   "codemirror_mode": {
    "name": "ipython",
    "version": 3
   },
   "file_extension": ".py",
   "mimetype": "text/x-python",
   "name": "python",
   "nbconvert_exporter": "python",
   "pygments_lexer": "ipython3",
   "version": "3.7.1"
  }
 },
 "nbformat": 4,
 "nbformat_minor": 2
}
