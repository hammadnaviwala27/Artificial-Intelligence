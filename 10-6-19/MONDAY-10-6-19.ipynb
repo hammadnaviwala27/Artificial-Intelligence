{
 "cells": [
  {
   "cell_type": "code",
   "execution_count": 2,
   "metadata": {},
   "outputs": [],
   "source": [
    "def full_name() : \n",
    "    print('Hammad')"
   ]
  },
  {
   "cell_type": "code",
   "execution_count": 3,
   "metadata": {},
   "outputs": [
    {
     "name": "stdout",
     "output_type": "stream",
     "text": [
      "Hammad\n"
     ]
    }
   ],
   "source": [
    "full_name()"
   ]
  },
  {
   "cell_type": "code",
   "execution_count": 7,
   "metadata": {},
   "outputs": [],
   "source": [
    "def full_name1() : \n",
    "    print('Hammad')\n",
    "    print('Rizwan')"
   ]
  },
  {
   "cell_type": "code",
   "execution_count": 8,
   "metadata": {},
   "outputs": [
    {
     "name": "stdout",
     "output_type": "stream",
     "text": [
      "Hammad\n",
      "Rizwan\n"
     ]
    }
   ],
   "source": [
    "full_name1()"
   ]
  },
  {
   "cell_type": "code",
   "execution_count": 11,
   "metadata": {},
   "outputs": [],
   "source": [
    "def student (h) : \n",
    "    print(h)"
   ]
  },
  {
   "cell_type": "code",
   "execution_count": 13,
   "metadata": {},
   "outputs": [
    {
     "name": "stdout",
     "output_type": "stream",
     "text": [
      "hammad\n"
     ]
    }
   ],
   "source": [
    "student('hammad')"
   ]
  },
  {
   "cell_type": "code",
   "execution_count": 14,
   "metadata": {},
   "outputs": [
    {
     "name": "stdout",
     "output_type": "stream",
     "text": [
      "1213\n"
     ]
    }
   ],
   "source": [
    "student(1213)"
   ]
  },
  {
   "cell_type": "code",
   "execution_count": 15,
   "metadata": {},
   "outputs": [
    {
     "name": "stdout",
     "output_type": "stream",
     "text": [
      "True\n"
     ]
    }
   ],
   "source": [
    "student(True)"
   ]
  },
  {
   "cell_type": "code",
   "execution_count": 17,
   "metadata": {},
   "outputs": [
    {
     "name": "stdout",
     "output_type": "stream",
     "text": [
      "['hammad', 'Rizwan']\n"
     ]
    }
   ],
   "source": [
    "student(['hammad','Rizwan'])"
   ]
  },
  {
   "cell_type": "code",
   "execution_count": 60,
   "metadata": {},
   "outputs": [],
   "source": [
    "def calc(num1,oper,num2):\n",
    "    if oper=='+':\n",
    "        print(num1 + num2 )\n",
    "    elif oper =='-':\n",
    "        print(num1 - num2)\n",
    "    elif oper =='*':\n",
    "        print(num1 * num2)\n",
    "    elif oper == '/':\n",
    "        print(num1 / num2)\n",
    "    else : \n",
    "        print('Invalid Operation')\n",
    "    \n",
    "    "
   ]
  },
  {
   "cell_type": "code",
   "execution_count": 62,
   "metadata": {},
   "outputs": [
    {
     "name": "stdout",
     "output_type": "stream",
     "text": [
      "9.116666666666667\n"
     ]
    }
   ],
   "source": [
    "calc(547,'/',60)"
   ]
  },
  {
   "cell_type": "code",
   "execution_count": 10,
   "metadata": {},
   "outputs": [
    {
     "name": "stdout",
     "output_type": "stream",
     "text": [
      "Hammad\n"
     ]
    }
   ],
   "source": [
    "def myname(fname):\n",
    "    return fname\n",
    "name1 = myname('Hammad')\n",
    "print(name1)"
   ]
  },
  {
   "cell_type": "code",
   "execution_count": 11,
   "metadata": {},
   "outputs": [],
   "source": [
    "def family(son_name , father_name):\n",
    "    print(f'son name is {son_name}')\n",
    "    print(f\"father name is {father_name}\")\n",
    "    "
   ]
  },
  {
   "cell_type": "code",
   "execution_count": 12,
   "metadata": {},
   "outputs": [
    {
     "name": "stdout",
     "output_type": "stream",
     "text": [
      "son name is ahsan\n",
      "father name is shahzad\n"
     ]
    }
   ],
   "source": [
    "family('ahsan','shahzad')"
   ]
  },
  {
   "cell_type": "code",
   "execution_count": 13,
   "metadata": {},
   "outputs": [],
   "source": [
    "def frnd(lol):\n",
    "    for frd in lol:\n",
    "        print(frd)"
   ]
  },
  {
   "cell_type": "code",
   "execution_count": 15,
   "metadata": {},
   "outputs": [
    {
     "name": "stdout",
     "output_type": "stream",
     "text": [
      "hamad\n",
      "rizwan\n",
      "taha\n",
      "riaz\n",
      "rafay\n",
      "haseeb\n",
      "hadi\n",
      "naviwala\n"
     ]
    }
   ],
   "source": [
    "abc = [\"hamad\",'rizwan',\"taha\",'riaz','rafay','haseeb','hadi','naviwala']\n",
    "frnd(abc)"
   ]
  },
  {
   "cell_type": "code",
   "execution_count": 16,
   "metadata": {},
   "outputs": [],
   "source": [
    "def my_full_name (f_name , m_name , l_name):\n",
    "    full_name = f_name + m_name + l_name\n",
    "    print(full_name)"
   ]
  },
  {
   "cell_type": "code",
   "execution_count": 22,
   "metadata": {},
   "outputs": [
    {
     "name": "stdout",
     "output_type": "stream",
     "text": [
      " hamad rizwan naviwala\n"
     ]
    }
   ],
   "source": [
    "my_full_name(' hamad',' rizwan',' naviwala')"
   ]
  },
  {
   "cell_type": "code",
   "execution_count": 25,
   "metadata": {},
   "outputs": [],
   "source": [
    "#m_name is set as a default and must be come at the end of the code\n",
    "def my_full_name (f_name , l_name ,m_name=' '):\n",
    "    full_name = f_name + m_name + l_name\n",
    "    print(full_name)"
   ]
  },
  {
   "cell_type": "code",
   "execution_count": 26,
   "metadata": {},
   "outputs": [
    {
     "name": "stdout",
     "output_type": "stream",
     "text": [
      "abdul  rafay\n"
     ]
    }
   ],
   "source": [
    "my_full_name('abdul ' , 'rafay')"
   ]
  },
  {
   "cell_type": "code",
   "execution_count": 47,
   "metadata": {},
   "outputs": [],
   "source": [
    "def shopping(shop,tax=' '):\n",
    "    if shop>=5000:\n",
    "        tax=10\n",
    "        print(f'TAX {tax}% will be applied on your shopping ')\n",
    "    else:\n",
    "        tax=5\n",
    "        print(f'TAX {tax}% will be applied on your shopping ')\n"
   ]
  },
  {
   "cell_type": "code",
   "execution_count": 48,
   "metadata": {},
   "outputs": [
    {
     "name": "stdout",
     "output_type": "stream",
     "text": [
      "TAX 10% will be applied on your shopping \n"
     ]
    }
   ],
   "source": [
    "shopping(5000)"
   ]
  },
  {
   "cell_type": "code",
   "execution_count": 49,
   "metadata": {},
   "outputs": [
    {
     "name": "stdout",
     "output_type": "stream",
     "text": [
      "TAX 5% will be applied on your shopping \n"
     ]
    }
   ],
   "source": [
    "shopping(4999)"
   ]
  },
  {
   "cell_type": "code",
   "execution_count": 54,
   "metadata": {},
   "outputs": [
    {
     "name": "stdout",
     "output_type": "stream",
     "text": [
      "TAX 5% will be applied on your shopping \n"
     ]
    }
   ],
   "source": [
    "shopping(4999.99999999999)"
   ]
  },
  {
   "cell_type": "code",
   "execution_count": 19,
   "metadata": {},
   "outputs": [],
   "source": [
    "def val(*names):\n",
    "    print('my Family members are : ')\n",
    "    for name in names :\n",
    "        print(name)"
   ]
  },
  {
   "cell_type": "code",
   "execution_count": 20,
   "metadata": {},
   "outputs": [
    {
     "name": "stdout",
     "output_type": "stream",
     "text": [
      "my Family members are : \n",
      "hammad\n"
     ]
    }
   ],
   "source": [
    "val(\"hammad\")"
   ]
  },
  {
   "cell_type": "code",
   "execution_count": 21,
   "metadata": {},
   "outputs": [
    {
     "name": "stdout",
     "output_type": "stream",
     "text": [
      "my Family members are : \n",
      "rizwan\n",
      "naviwala\n"
     ]
    }
   ],
   "source": [
    "val(\"rizwan\",\"naviwala\")"
   ]
  },
  {
   "cell_type": "code",
   "execution_count": null,
   "metadata": {},
   "outputs": [],
   "source": []
  }
 ],
 "metadata": {
  "kernelspec": {
   "display_name": "Python 3",
   "language": "python",
   "name": "python3"
  },
  "language_info": {
   "codemirror_mode": {
    "name": "ipython",
    "version": 3
   },
   "file_extension": ".py",
   "mimetype": "text/x-python",
   "name": "python",
   "nbconvert_exporter": "python",
   "pygments_lexer": "ipython3",
   "version": "3.7.1"
  }
 },
 "nbformat": 4,
 "nbformat_minor": 2
}
