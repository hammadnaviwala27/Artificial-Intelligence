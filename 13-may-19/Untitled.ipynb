{
 "cells": [
  {
   "cell_type": "markdown",
   "metadata": {},
   "source": [
    "# FUNCTIONS\n"
   ]
  },
  {
   "cell_type": "code",
   "execution_count": null,
   "metadata": {},
   "outputs": [],
   "source": [
    "def couples(hname,wname):\n",
    "    print('The name of husband is :',hname)\n",
    "    print('The name of wife is :',wname)\n",
    "    \n",
    "couples(wname = 'fatima' , hname = 'Ali')"
   ]
  },
  {
   "cell_type": "code",
   "execution_count": null,
   "metadata": {},
   "outputs": [],
   "source": [
    "def couples(hname,wname):\n",
    "    print('The name of husband is :',hname)\n",
    "    print('The name of wife is :',wname)\n",
    "    \n",
    "couples('Ali','Fatima')"
   ]
  },
  {
   "cell_type": "code",
   "execution_count": null,
   "metadata": {},
   "outputs": [],
   "source": [
    "def couples(hname , wname ):\n",
    "    print(f'The name of husband is : {hname} and the name of wife is : {wname}.')\n",
    "couples('Ali','Fatima')"
   ]
  },
  {
   "cell_type": "code",
   "execution_count": 7,
   "metadata": {},
   "outputs": [],
   "source": [
    "def calculator():\n",
    "    print('\\t\\t\\t\\t\\t CALCULATOR')\n",
    "    print('Press + to Add')\n",
    "    print('Press - to Subtract')\n",
    "    print('Press * to Multiply')\n",
    "    print('Press / to Divide')\n",
    "    print('Press Quit to Exit only in Operation \\n')\n",
    "    while True:\n",
    "        num1=int(input('Enter a Number:'))\n",
    "        num2=int(input('Enter a Another Number:'))\n",
    "        operation=input('Enter any opertion: ').lower()\n",
    "        if operation=='+':\n",
    "            x=num1+num2\n",
    "            print(x)\n",
    "        elif operation=='-':\n",
    "            x=num1-num2\n",
    "            print(x)\n",
    "        elif operation=='*':\n",
    "            x=num1*num2\n",
    "            print(x)\n",
    "        elif operation=='/':\n",
    "            x=num1/num2\n",
    "            print(x)\n",
    "        elif operation=='quit':\n",
    "            break;\n",
    "            "
   ]
  },
  {
   "cell_type": "code",
   "execution_count": null,
   "metadata": {},
   "outputs": [
    {
     "name": "stdout",
     "output_type": "stream",
     "text": [
      "\t\t\t\t\t CALCULATOR\n",
      "Press + to Add\n",
      "Press - to Subtract\n",
      "Press * to Multiply\n",
      "Press / to Divide\n",
      "Press Quit to Exit only in Operation \n",
      "\n",
      "Enter a Number:24\n",
      "Enter a Another Number:12\n",
      "Enter any opertion: /\n",
      "2.0\n"
     ]
    }
   ],
   "source": [
    "calculator()"
   ]
  },
  {
   "cell_type": "code",
   "execution_count": 2,
   "metadata": {},
   "outputs": [
    {
     "name": "stdout",
     "output_type": "stream",
     "text": [
      "hello Ali\n",
      "hello Ahmed\n",
      "hello Faraz\n"
     ]
    }
   ],
   "source": [
    "def my_list(name):\n",
    "    for name1 in name:\n",
    "        print('hello',name1)\n",
    "\n",
    "a=['Ali',\"Ahmed\",\"Faraz\"]\n",
    "my_list(a)"
   ]
  },
  {
   "cell_type": "code",
   "execution_count": 9,
   "metadata": {},
   "outputs": [
    {
     "name": "stdout",
     "output_type": "stream",
     "text": [
      "Your data is :  Hammad\n",
      "Your data is :   Rizwan\n",
      "Your data is :   17 \n",
      "Your data is :   Male\n"
     ]
    }
   ],
   "source": [
    "def data(details):\n",
    "    for detail1 in details:\n",
    "        print('Your data is : ',detail1)\n",
    "\n",
    "a=['Hammad',\" Rizwan\" , \" 17 \",\" Male\"] \n",
    "data(a)"
   ]
  },
  {
   "cell_type": "code",
   "execution_count": null,
   "metadata": {},
   "outputs": [],
   "source": []
  }
 ],
 "metadata": {
  "kernelspec": {
   "display_name": "Python 3",
   "language": "python",
   "name": "python3"
  },
  "language_info": {
   "codemirror_mode": {
    "name": "ipython",
    "version": 3
   },
   "file_extension": ".py",
   "mimetype": "text/x-python",
   "name": "python",
   "nbconvert_exporter": "python",
   "pygments_lexer": "ipython3",
   "version": "3.7.1"
  }
 },
 "nbformat": 4,
 "nbformat_minor": 2
}
