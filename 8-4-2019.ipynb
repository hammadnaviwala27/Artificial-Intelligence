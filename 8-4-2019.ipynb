{
 "cells": [
  {
   "cell_type": "code",
   "execution_count": 27,
   "metadata": {},
   "outputs": [
    {
     "name": "stdout",
     "output_type": "stream",
     "text": [
      "My friend pizzas are : \n",
      "Fajita\n",
      "Vegetable\n",
      "cheessy\n",
      "tikka\n",
      "New Pizzas are : \n",
      "Fajita\n",
      "Vegetable\n",
      "cheessy\n",
      "groomy\n"
     ]
    }
   ],
   "source": [
    "friendPizza=[\"Fajita\",\"Vegetable\",\"cheessy\"]\n",
    "newPizza=friendPizza.copy()\n",
    "friendPizza.append(\"tikka\")\n",
    "newPizza.append(\"groomy\")\n",
    "print(\"My friend pizzas are : \")\n",
    "for a in friendPizza:\n",
    "    print(a)\n",
    "print(\"New Pizzas are : \")\n",
    "for b in newPizza :\n",
    "    print(b)\n"
   ]
  },
  {
   "cell_type": "code",
   "execution_count": 28,
   "metadata": {},
   "outputs": [
    {
     "name": "stdout",
     "output_type": "stream",
     "text": [
      "'ali' You need to enter a new UserName\n",
      "\n",
      "'akram' this userName is available\n",
      "\n",
      "'sham' this userName is available\n",
      "\n",
      "'hamza' this userName is available\n",
      "\n",
      "'umer' You need to enter a new UserName\n",
      "\n",
      "'baburao' You need to enter a new UserName\n",
      "\n",
      "'tooba' this userName is available\n",
      "\n"
     ]
    }
   ],
   "source": [
    "current_users=[\"'ali'\",\"'akbar'\",\"'ahsan'\",\"'baburao'\",\"'umer'\"]\n",
    "new_users=[\"'ali'\",\"'akram'\",\"'sham'\",\"'hamza'\",\"'umer'\",\"'baburao'\",\"'tooba'\"]\n",
    "for a in new_users: \n",
    "    if a in current_users :\n",
    "        print(a + \" You need to enter a new UserName\\n\")\n",
    "    else :\n",
    "        print( a + \" this userName is available\\n\")\n",
    "        "
   ]
  },
  {
   "cell_type": "code",
   "execution_count": 29,
   "metadata": {},
   "outputs": [
    {
     "data": {
      "text/plain": [
       "'i'"
      ]
     },
     "execution_count": 29,
     "metadata": {},
     "output_type": "execute_result"
    }
   ],
   "source": [
    "s=\"Pakistan\"\n",
    "s[3]"
   ]
  },
  {
   "cell_type": "code",
   "execution_count": 30,
   "metadata": {},
   "outputs": [
    {
     "data": {
      "text/plain": [
       "1"
      ]
     },
     "execution_count": 30,
     "metadata": {},
     "output_type": "execute_result"
    }
   ],
   "source": [
    "s.find(\"a\")"
   ]
  },
  {
   "cell_type": "code",
   "execution_count": 31,
   "metadata": {},
   "outputs": [
    {
     "data": {
      "text/plain": [
       "2"
      ]
     },
     "execution_count": 31,
     "metadata": {},
     "output_type": "execute_result"
    }
   ],
   "source": [
    "s.index(\"k\")"
   ]
  },
  {
   "cell_type": "code",
   "execution_count": 32,
   "metadata": {},
   "outputs": [
    {
     "name": "stdout",
     "output_type": "stream",
     "text": [
      "My friend name is : 'fahad' and his father name is : 'ali'\n"
     ]
    }
   ],
   "source": [
    "name=\"'fahad'\"\n",
    "f_name=\"'ali'\"\n",
    "print(\"My friend name is : \" + name + \" and his father name is : \"+ f_name)"
   ]
  },
  {
   "cell_type": "code",
   "execution_count": 38,
   "metadata": {},
   "outputs": [
    {
     "name": "stdout",
     "output_type": "stream",
     "text": [
      "My friend name is : 'fahad' and his father name is : 'ali'\n"
     ]
    }
   ],
   "source": [
    "print(\"My friend name is : {} and his father name is : {}\".format(name,f_name))"
   ]
  },
  {
   "cell_type": "code",
   "execution_count": 39,
   "metadata": {},
   "outputs": [
    {
     "name": "stdout",
     "output_type": "stream",
     "text": [
      " My friend name is : 'fahad' and his father name is : 'ali'\n"
     ]
    }
   ],
   "source": [
    "print(f\" My friend name is : {name} and his father name is : {f_name}\" )"
   ]
  },
  {
   "cell_type": "code",
   "execution_count": 41,
   "metadata": {},
   "outputs": [
    {
     "name": "stdout",
     "output_type": "stream",
     "text": [
      "my name is asad and my number is 45 num\n"
     ]
    }
   ],
   "source": [
    "num=45\n",
    "name=\"asad\"\n",
    "print(f\"my name is {name} and my number is {num} num\")"
   ]
  },
  {
   "cell_type": "code",
   "execution_count": 42,
   "metadata": {},
   "outputs": [
    {
     "name": "stdout",
     "output_type": "stream",
     "text": [
      "my name is nasir\n"
     ]
    }
   ],
   "source": [
    "person=\"nasir\"\n",
    "print(\"my name is {}\".format(person))"
   ]
  },
  {
   "cell_type": "code",
   "execution_count": 43,
   "metadata": {},
   "outputs": [
    {
     "name": "stdout",
     "output_type": "stream",
     "text": [
      "my name is : nasir\n"
     ]
    }
   ],
   "source": [
    "print(f\"my name is : {person}\")"
   ]
  },
  {
   "cell_type": "code",
   "execution_count": 48,
   "metadata": {},
   "outputs": [
    {
     "name": "stdout",
     "output_type": "stream",
     "text": [
      " my number is 123\n"
     ]
    }
   ],
   "source": [
    "d={\"a\":123, \"b\":456, \"c\":789}\n",
    "print(f\" my number is {d['a']}\")"
   ]
  },
  {
   "cell_type": "code",
   "execution_count": 49,
   "metadata": {},
   "outputs": [
    {
     "name": "stdout",
     "output_type": "stream",
     "text": [
      "my number is 3\n"
     ]
    }
   ],
   "source": [
    "myList=[1,2,3]\n",
    "print(f\"my number is {myList[2]}\")\n",
    "      "
   ]
  },
  {
   "cell_type": "code",
   "execution_count": 55,
   "metadata": {},
   "outputs": [
    {
     "data": {
      "text/plain": [
       "[('author', 'topic', 'pages'),\n",
       " ('nasir', 'deeplearning', 300),\n",
       " ('ahmed', 'phython', 500),\n",
       " ('zia', 'kube', 300)]"
      ]
     },
     "execution_count": 55,
     "metadata": {},
     "output_type": "execute_result"
    }
   ],
   "source": [
    "library=[(\"author\",\"topic\",\"pages\"),\n",
    "        (\"nasir\",\"deeplearning\",300),\n",
    "        (\"ahmed\",\"phython\",500),\n",
    "        (\"zia\",\"kube\",300)]\n",
    "library"
   ]
  },
  {
   "cell_type": "code",
   "execution_count": 56,
   "metadata": {},
   "outputs": [
    {
     "name": "stdout",
     "output_type": "stream",
     "text": [
      "my frnds name is india and his father name is america\n"
     ]
    }
   ],
   "source": [
    "dictionary={1:\"india\",2:\"america\"}\n",
    "print(f\"my frnds name is {dictionary[1]} and his father name is {dictionary[2]}\")"
   ]
  },
  {
   "cell_type": "markdown",
   "metadata": {},
   "source": [
    "# TUPPLE IS IMMUTABLE"
   ]
  },
  {
   "cell_type": "code",
   "execution_count": 57,
   "metadata": {},
   "outputs": [
    {
     "data": {
      "text/plain": [
       "tuple"
      ]
     },
     "execution_count": 57,
     "metadata": {},
     "output_type": "execute_result"
    }
   ],
   "source": [
    "myTupple=(\"apple\",\"orange\",\"lemon\",\"pineapple\")\n",
    "type(myTupple)\n"
   ]
  },
  {
   "cell_type": "code",
   "execution_count": 65,
   "metadata": {},
   "outputs": [
    {
     "data": {
      "text/plain": [
       "(12, 3456, 789)"
      ]
     },
     "execution_count": 65,
     "metadata": {},
     "output_type": "execute_result"
    }
   ],
   "source": [
    "a= 12 , 3456 , 789   #Packing of Values\n",
    "a"
   ]
  },
  {
   "cell_type": "code",
   "execution_count": 67,
   "metadata": {},
   "outputs": [
    {
     "data": {
      "text/plain": [
       "12"
      ]
     },
     "execution_count": 67,
     "metadata": {},
     "output_type": "execute_result"
    }
   ],
   "source": [
    "b,c,d = a           #Unpacking of Values\n",
    "b\n"
   ]
  },
  {
   "cell_type": "code",
   "execution_count": 68,
   "metadata": {},
   "outputs": [
    {
     "data": {
      "text/plain": [
       "3456"
      ]
     },
     "execution_count": 68,
     "metadata": {},
     "output_type": "execute_result"
    }
   ],
   "source": [
    "c"
   ]
  },
  {
   "cell_type": "code",
   "execution_count": 69,
   "metadata": {},
   "outputs": [
    {
     "data": {
      "text/plain": [
       "789"
      ]
     },
     "execution_count": 69,
     "metadata": {},
     "output_type": "execute_result"
    }
   ],
   "source": [
    "d"
   ]
  },
  {
   "cell_type": "code",
   "execution_count": null,
   "metadata": {},
   "outputs": [],
   "source": []
  }
 ],
 "metadata": {
  "kernelspec": {
   "display_name": "Python 3",
   "language": "python",
   "name": "python3"
  },
  "language_info": {
   "codemirror_mode": {
    "name": "ipython",
    "version": 3
   },
   "file_extension": ".py",
   "mimetype": "text/x-python",
   "name": "python",
   "nbconvert_exporter": "python",
   "pygments_lexer": "ipython3",
   "version": "3.7.1"
  }
 },
 "nbformat": 4,
 "nbformat_minor": 2
}
