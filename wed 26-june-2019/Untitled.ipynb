{
 "cells": [
  {
   "cell_type": "markdown",
   "metadata": {},
   "source": [
    "# file assumptions\n"
   ]
  },
  {
   "cell_type": "code",
   "execution_count": 10,
   "metadata": {},
   "outputs": [
    {
     "name": "stdout",
     "output_type": "stream",
     "text": [
      "3.82637862376\n",
      "73892738927\n",
      "283789243786\n"
     ]
    }
   ],
   "source": [
    "filename='pi.txt'\n",
    "with open(filename) as file_object:\n",
    "    for i in file_object:\n",
    "        print(i.rstrip())"
   ]
  },
  {
   "cell_type": "code",
   "execution_count": 19,
   "metadata": {},
   "outputs": [
    {
     "name": "stdout",
     "output_type": "stream",
     "text": [
      "2677362372873789273289\n",
      "22\n"
     ]
    }
   ],
   "source": [
    "filename='pi_digits.txt'\n",
    "with open(filename) as file_objects:\n",
    "    lines = file_objects.readlines()\n",
    "pi_strings= ''\n",
    "for line in lines:\n",
    "    pi_strings+=line.strip()\n",
    "print(pi_strings)\n",
    "print(len(pi_strings))"
   ]
  },
  {
   "cell_type": "markdown",
   "metadata": {},
   "source": [
    "# Exceptions"
   ]
  },
  {
   "cell_type": "code",
   "execution_count": 27,
   "metadata": {},
   "outputs": [
    {
     "name": "stdout",
     "output_type": "stream",
     "text": [
      "hello\n"
     ]
    }
   ],
   "source": [
    "5/0\n",
    "print(\"hello\")"
   ]
  },
  {
   "cell_type": "code",
   "execution_count": 25,
   "metadata": {},
   "outputs": [
    {
     "name": "stdout",
     "output_type": "stream",
     "text": [
      "Enter a num5\n",
      "Enter a num0\n",
      "Exception is caught ZeroDivisionError\n"
     ]
    }
   ],
   "source": [
    "a = int(input('Enter a num'))\n",
    "b = int(input('Enter a num'))\n",
    "try:\n",
    "    c=a/b\n",
    "    print(c)\n",
    "except ZeroDivisionError:\n",
    "    print(\"Exception is caught ZeroDivisionError\")"
   ]
  },
  {
   "cell_type": "code",
   "execution_count": 31,
   "metadata": {},
   "outputs": [
    {
     "name": "stdout",
     "output_type": "stream",
     "text": [
      "Enter a num5\n",
      "Enter a num5\n",
      "1.0\n"
     ]
    }
   ],
   "source": [
    "a = int(input('Enter a num'))\n",
    "b = int(input('Enter a num'))\n",
    "try:\n",
    "    c=a/b\n",
    "except ZeroDivisionError:\n",
    "    print(\"Exception is caught ZeroDivisionError\")\n",
    "else:\n",
    "    print(c)"
   ]
  },
  {
   "cell_type": "code",
   "execution_count": 32,
   "metadata": {},
   "outputs": [
    {
     "name": "stdout",
     "output_type": "stream",
     "text": [
      "first\n",
      "Enter a num5\n",
      "Enter a num5\n",
      "1.0\n",
      "last\n"
     ]
    }
   ],
   "source": [
    "print('first')\n",
    "a = int(input('Enter a num'))\n",
    "b = int(input('Enter a num'))\n",
    "try:\n",
    "    c=a/b\n",
    "except ZeroDivisionError:\n",
    "    print(\"Exception is caught ZeroDivisionError\")\n",
    "else:\n",
    "    print(c)\n",
    "print('last')"
   ]
  },
  {
   "cell_type": "code",
   "execution_count": 38,
   "metadata": {},
   "outputs": [
    {
     "name": "stdout",
     "output_type": "stream",
     "text": [
      "first\n",
      "Enter a num10\n",
      "Enter a num0\n",
      "Exception is caught ZeroDivisionError\n"
     ]
    }
   ],
   "source": [
    "print('first')\n",
    "a = int(input('Enter a num'))\n",
    "b = int(input('Enter a num'))\n",
    "try:\n",
    "    c=a/b\n",
    "    e=d[5]\n",
    "except ZeroDivisionError:\n",
    "    print(\"Exception is caught ZeroDivisionError\")\n",
    "except IndexError:\n",
    "    print('Exception is caught in IndexError' )\n",
    "else:\n",
    "    print(c)\n",
    "    print(e)"
   ]
  },
  {
   "cell_type": "code",
   "execution_count": 2,
   "metadata": {},
   "outputs": [
    {
     "name": "stdout",
     "output_type": "stream",
     "text": [
      "Enter a num4\n",
      "Enter a num0\n",
      "exceptions\n"
     ]
    }
   ],
   "source": [
    "\n",
    "a = int(input('Enter a num'))\n",
    "b = int(input('Enter a num'))\n",
    "try:\n",
    "    c=a/b\n",
    "    e=d[5]\n",
    "except:\n",
    "    print('exceptions')\n",
    "        \n",
    "else:\n",
    "    print(c)"
   ]
  },
  {
   "cell_type": "code",
   "execution_count": 5,
   "metadata": {},
   "outputs": [
    {
     "name": "stdout",
     "output_type": "stream",
     "text": [
      "Enter a num5\n",
      "Enter a num5\n",
      "exception ==name 'd' is not defined\n",
      "hello world\n"
     ]
    }
   ],
   "source": [
    "a = int(input('Enter a num'))\n",
    "b = int(input('Enter a num'))\n",
    "try:\n",
    "    '''hello world how are you hope to be fine loloololollllll   lol           lol !!!!!!!!'''\n",
    "    c=a/b\n",
    "    e=d[5]\n",
    "except Exception as e:\n",
    "    print('exception =='+str(e) )\n",
    "        \n",
    "else:\n",
    "    print(c)\n",
    "print('hello world')"
   ]
  },
  {
   "cell_type": "code",
   "execution_count": 9,
   "metadata": {},
   "outputs": [
    {
     "name": "stdout",
     "output_type": "stream",
     "text": [
      "Enter a num5\n",
      "Enter a num0\n",
      "Exception is caught\n",
      "Finally\n"
     ]
    }
   ],
   "source": [
    "\n",
    "a = int(input('Enter a num'))\n",
    "b = int(input('Enter a num'))\n",
    "try:\n",
    "    c=a/b\n",
    "    \n",
    "except IndexError:\n",
    "    print(\"Handle exception\")\n",
    "except :\n",
    "    print('Exception is caught' )\n",
    "else:\n",
    "    print(c)\n",
    "finally:\n",
    "    print('Finally')"
   ]
  },
  {
   "cell_type": "markdown",
   "metadata": {},
   "source": [
    "# RAISING OUR OWN EXCEPTION"
   ]
  },
  {
   "cell_type": "code",
   "execution_count": 15,
   "metadata": {},
   "outputs": [],
   "source": [
    "class Student():\n",
    "    def __init__(self,name,age):\n",
    "        if age>80 or age<16:\n",
    "            raise Exception('Age can not be greater than 80 and less than 16')\n",
    "        self.name=name\n",
    "        self.age=age"
   ]
  },
  {
   "cell_type": "code",
   "execution_count": 19,
   "metadata": {},
   "outputs": [
    {
     "name": "stdout",
     "output_type": "stream",
     "text": [
      "Enter students age : 79\n",
      "79\n"
     ]
    }
   ],
   "source": [
    "age=int(input('Enter students age : '))\n",
    "st=Student('Hello',age)\n",
    "print(st.age)"
   ]
  },
  {
   "cell_type": "code",
   "execution_count": null,
   "metadata": {},
   "outputs": [],
   "source": [
    "class Student():\n",
    "    def __init__(self,name,age):\n",
    "        if age>80 or age<16:\n",
    "            raise Exception('Age can not be greater than 80 and less than 16')\n",
    "        self.name=name\n",
    "        self.age=age\n",
    "class StudentAgeException(Exception):\n",
    "    pass\n"
   ]
  },
  {
   "cell_type": "code",
   "execution_count": null,
   "metadata": {},
   "outputs": [],
   "source": [
    "age=int(input('Enter students age : '))\n",
    "st=Student('Hello',age)\n",
    "print(st.age)"
   ]
  }
 ],
 "metadata": {
  "kernelspec": {
   "display_name": "Python 3",
   "language": "python",
   "name": "python3"
  },
  "language_info": {
   "codemirror_mode": {
    "name": "ipython",
    "version": 3
   },
   "file_extension": ".py",
   "mimetype": "text/x-python",
   "name": "python",
   "nbconvert_exporter": "python",
   "pygments_lexer": "ipython3",
   "version": "3.7.1"
  }
 },
 "nbformat": 4,
 "nbformat_minor": 2
}
