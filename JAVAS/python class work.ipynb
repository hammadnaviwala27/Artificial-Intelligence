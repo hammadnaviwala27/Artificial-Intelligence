{
 "cells": [
  {
   "cell_type": "code",
   "execution_count": 3,
   "metadata": {},
   "outputs": [
    {
     "name": "stdout",
     "output_type": "stream",
     "text": [
      "take first no\n"
     ]
    },
    {
     "ename": "ValueError",
     "evalue": "invalid literal for int() with base 10: ''",
     "output_type": "error",
     "traceback": [
      "\u001b[1;31m---------------------------------------------------------------------------\u001b[0m",
      "\u001b[1;31mValueError\u001b[0m                                Traceback (most recent call last)",
      "\u001b[1;32m<ipython-input-3-41c9e629bc6a>\u001b[0m in \u001b[0;36m<module>\u001b[1;34m\u001b[0m\n\u001b[1;32m----> 1\u001b[1;33m \u001b[0mnum1\u001b[0m\u001b[1;33m=\u001b[0m\u001b[0mint\u001b[0m \u001b[1;33m(\u001b[0m\u001b[0minput\u001b[0m\u001b[1;33m(\u001b[0m\u001b[1;34m\"take first no\"\u001b[0m\u001b[1;33m)\u001b[0m\u001b[1;33m)\u001b[0m\u001b[1;33m\u001b[0m\u001b[1;33m\u001b[0m\u001b[0m\n\u001b[0m\u001b[0;32m      2\u001b[0m \u001b[0mnum2\u001b[0m\u001b[1;33m=\u001b[0m\u001b[0mint\u001b[0m\u001b[1;33m(\u001b[0m\u001b[0minput\u001b[0m\u001b[1;33m(\u001b[0m\u001b[1;34m\"take second no\"\u001b[0m\u001b[1;33m)\u001b[0m\u001b[1;33m)\u001b[0m\u001b[1;33m\u001b[0m\u001b[1;33m\u001b[0m\u001b[0m\n\u001b[0;32m      3\u001b[0m \u001b[0mtotal\u001b[0m\u001b[1;33m=\u001b[0m\u001b[0mnum1\u001b[0m\u001b[1;33m+\u001b[0m\u001b[0mnum2\u001b[0m\u001b[1;33m\u001b[0m\u001b[1;33m\u001b[0m\u001b[0m\n\u001b[0;32m      4\u001b[0m \u001b[0mprint\u001b[0m\u001b[1;33m(\u001b[0m\u001b[0mtotal\u001b[0m\u001b[1;33m)\u001b[0m\u001b[1;33m\u001b[0m\u001b[1;33m\u001b[0m\u001b[0m\n",
      "\u001b[1;31mValueError\u001b[0m: invalid literal for int() with base 10: ''"
     ]
    }
   ],
   "source": [
    "num1=int (input(\"take first no\"))\n",
    "num2=int(input(\"take second no\"))\n",
    "total=num1+num2\n",
    "print(total)"
   ]
  },
  {
   "cell_type": "code",
   "execution_count": 4,
   "metadata": {},
   "outputs": [
    {
     "name": "stdout",
     "output_type": "stream",
     "text": [
      "give your first digit:\n"
     ]
    },
    {
     "ename": "ValueError",
     "evalue": "invalid literal for int() with base 10: ''",
     "output_type": "error",
     "traceback": [
      "\u001b[1;31m---------------------------------------------------------------------------\u001b[0m",
      "\u001b[1;31mValueError\u001b[0m                                Traceback (most recent call last)",
      "\u001b[1;32m<ipython-input-4-9d09ae8ded56>\u001b[0m in \u001b[0;36m<module>\u001b[1;34m\u001b[0m\n\u001b[1;32m----> 1\u001b[1;33m \u001b[0mnum1\u001b[0m\u001b[1;33m=\u001b[0m\u001b[0mint\u001b[0m\u001b[1;33m(\u001b[0m\u001b[0minput\u001b[0m\u001b[1;33m(\u001b[0m\u001b[1;34m\"give your first digit:\"\u001b[0m\u001b[1;33m)\u001b[0m\u001b[1;33m)\u001b[0m\u001b[1;33m\u001b[0m\u001b[1;33m\u001b[0m\u001b[0m\n\u001b[0m\u001b[0;32m      2\u001b[0m \u001b[0mnum2\u001b[0m\u001b[1;33m=\u001b[0m\u001b[0mint\u001b[0m\u001b[1;33m(\u001b[0m\u001b[0minput\u001b[0m\u001b[1;33m(\u001b[0m\u001b[1;34m\"give your last digit :\"\u001b[0m\u001b[1;33m)\u001b[0m\u001b[1;33m)\u001b[0m\u001b[1;33m\u001b[0m\u001b[1;33m\u001b[0m\u001b[0m\n\u001b[0;32m      3\u001b[0m \u001b[0mprint\u001b[0m\u001b[1;33m(\u001b[0m\u001b[1;34m\"the sum of first and last digit is\"\u001b[0m\u001b[1;33m+\u001b[0m\u001b[1;33m(\u001b[0m\u001b[0mstr\u001b[0m\u001b[1;33m(\u001b[0m\u001b[0mnum1\u001b[0m\u001b[1;33m+\u001b[0m\u001b[0mnum2\u001b[0m\u001b[1;33m)\u001b[0m\u001b[1;33m)\u001b[0m\u001b[1;33m)\u001b[0m\u001b[1;33m\u001b[0m\u001b[1;33m\u001b[0m\u001b[0m\n",
      "\u001b[1;31mValueError\u001b[0m: invalid literal for int() with base 10: ''"
     ]
    }
   ],
   "source": [
    "num1=int(input(\"give your first digit:\"))\n",
    "num2=int(input(\"give your last digit :\"))\n",
    "print(\"the sum of first and last digit is\"+(str(num1+num2))) "
   ]
  },
  {
   "cell_type": "code",
   "execution_count": 5,
   "metadata": {},
   "outputs": [
    {
     "name": "stdout",
     "output_type": "stream",
     "text": [
      "raza dsl fb\n"
     ]
    }
   ],
   "source": [
    "print(\"raza\",\"dsl\",\"fb\",)"
   ]
  },
  {
   "cell_type": "code",
   "execution_count": 6,
   "metadata": {},
   "outputs": [
    {
     "name": "stdout",
     "output_type": "stream",
     "text": [
      "raza========dsl========fb\n"
     ]
    }
   ],
   "source": [
    "print(\"raza\",\"dsl\",\"fb\",sep=\"========\")"
   ]
  },
  {
   "cell_type": "code",
   "execution_count": 7,
   "metadata": {},
   "outputs": [
    {
     "name": "stdout",
     "output_type": "stream",
     "text": [
      "younus raza\n"
     ]
    }
   ],
   "source": [
    "print(\"younus\",end=\" \")\n",
    "print(\"raza\")"
   ]
  },
  {
   "cell_type": "code",
   "execution_count": 8,
   "metadata": {},
   "outputs": [
    {
     "name": "stdout",
     "output_type": "stream",
     "text": [
      "younus raza\n"
     ]
    }
   ],
   "source": [
    "print(\"younus\",end=\" \")\n",
    "print(\"raza\")"
   ]
  },
  {
   "cell_type": "code",
   "execution_count": 9,
   "metadata": {},
   "outputs": [
    {
     "name": "stdout",
     "output_type": "stream",
     "text": [
      "younus\traza\n"
     ]
    }
   ],
   "source": [
    "print(\"younus\",end=\"\\t\")\n",
    "print(\"raza\")"
   ]
  },
  {
   "cell_type": "code",
   "execution_count": 10,
   "metadata": {},
   "outputs": [
    {
     "name": "stdout",
     "output_type": "stream",
     "text": [
      "younusiamseparatorraza "
     ]
    }
   ],
   "source": [
    "print(\"younus\",\"raza\",sep=\"iamseparator\",end=\" \")\n"
   ]
  },
  {
   "cell_type": "code",
   "execution_count": 11,
   "metadata": {},
   "outputs": [
    {
     "name": "stdout",
     "output_type": "stream",
     "text": [
      "your marks in maths sub:\n"
     ]
    },
    {
     "ename": "ValueError",
     "evalue": "invalid literal for int() with base 10: ''",
     "output_type": "error",
     "traceback": [
      "\u001b[1;31m---------------------------------------------------------------------------\u001b[0m",
      "\u001b[1;31mValueError\u001b[0m                                Traceback (most recent call last)",
      "\u001b[1;32m<ipython-input-11-47d90b66b99c>\u001b[0m in \u001b[0;36m<module>\u001b[1;34m\u001b[0m\n\u001b[1;32m----> 1\u001b[1;33m \u001b[0mnum1\u001b[0m\u001b[1;33m=\u001b[0m\u001b[0mint\u001b[0m\u001b[1;33m(\u001b[0m\u001b[0minput\u001b[0m\u001b[1;33m(\u001b[0m\u001b[1;34m\"your marks in maths sub:\"\u001b[0m\u001b[1;33m)\u001b[0m\u001b[1;33m)\u001b[0m\u001b[1;33m\u001b[0m\u001b[1;33m\u001b[0m\u001b[0m\n\u001b[0m\u001b[0;32m      2\u001b[0m \u001b[0mnum2\u001b[0m\u001b[1;33m=\u001b[0m\u001b[0mint\u001b[0m\u001b[1;33m(\u001b[0m\u001b[0minput\u001b[0m\u001b[1;33m(\u001b[0m\u001b[1;34m\"your marks in english sub:\"\u001b[0m\u001b[1;33m)\u001b[0m\u001b[1;33m)\u001b[0m\u001b[1;33m\u001b[0m\u001b[1;33m\u001b[0m\u001b[0m\n\u001b[0;32m      3\u001b[0m \u001b[0mtotal\u001b[0m\u001b[1;33m=\u001b[0m\u001b[0mprint\u001b[0m\u001b[1;33m(\u001b[0m\u001b[1;34m\"avg marks in both sub are:\"\u001b[0m\u001b[1;33m+\u001b[0m\u001b[1;34m\" \"\u001b[0m\u001b[1;33m+\u001b[0m\u001b[1;33m(\u001b[0m\u001b[0mstr\u001b[0m\u001b[1;33m(\u001b[0m\u001b[0mnum1\u001b[0m\u001b[1;33m+\u001b[0m\u001b[0mnum2\u001b[0m\u001b[1;33m)\u001b[0m\u001b[1;33m)\u001b[0m\u001b[1;33m)\u001b[0m\u001b[1;33m\u001b[0m\u001b[1;33m\u001b[0m\u001b[0m\n",
      "\u001b[1;31mValueError\u001b[0m: invalid literal for int() with base 10: ''"
     ]
    }
   ],
   "source": [
    "num1=int(input(\"your marks in maths sub:\"))\n",
    "num2=int(input(\"your marks in english sub:\"))\n",
    "total=print(\"avg marks in both sub are:\"+\" \"+(str(num1+num2)))"
   ]
  },
  {
   "cell_type": "code",
   "execution_count": 12,
   "metadata": {},
   "outputs": [
    {
     "data": {
      "text/plain": [
       "False"
      ]
     },
     "execution_count": 12,
     "metadata": {},
     "output_type": "execute_result"
    }
   ],
   "source": [
    "a=10 #assign a value 10 to a variable a\n",
    "b=20\n",
    "a==b #compare the value of a with b "
   ]
  },
  {
   "cell_type": "code",
   "execution_count": 13,
   "metadata": {},
   "outputs": [
    {
     "data": {
      "text/plain": [
       "True"
      ]
     },
     "execution_count": 13,
     "metadata": {},
     "output_type": "execute_result"
    }
   ],
   "source": [
    "a=10 #assign a value 10 to a variable a\n",
    "b=20/2\n",
    "a==b #compare the value of a with b "
   ]
  },
  {
   "cell_type": "code",
   "execution_count": 14,
   "metadata": {},
   "outputs": [
    {
     "name": "stdout",
     "output_type": "stream",
     "text": [
      "buy 1 kg\n"
     ]
    }
   ],
   "source": [
    "a=10 #assign a value 10 to a variable a\n",
    "b=20/2\n",
    "a==b #compare the value of a with b \n",
    "tomatoprice=100\n",
    "if tomatoprice==100:\n",
    "    print(\"buy 1 kg\")#indentation\n",
    "else:\n",
    "    print(\"buy 1 kg\")"
   ]
  },
  {
   "cell_type": "code",
   "execution_count": null,
   "metadata": {},
   "outputs": [],
   "source": [
    "a=10 #assign a value 10 to a variable a\n",
    "b=20/2\n",
    "a==b #compare the value of a with b \n",
    "tomatoprice=110\n",
    "if tomatoprice==100:\n",
    "    print(\"buy 1 kg\")#indentation\n",
    "else:\n",
    "    print(\"buy 1/2 kg\")\n",
    "#string and no cant be compare    "
   ]
  },
  {
   "cell_type": "code",
   "execution_count": null,
   "metadata": {},
   "outputs": [],
   "source": [
    "num=int(input(\"give any no of your choice\"))\n",
    "if num % 2 == 0:\n",
    "    print(\"even\")\n",
    "else:\n",
    "    print(\"odd\")\n"
   ]
  },
  {
   "cell_type": "code",
   "execution_count": null,
   "metadata": {},
   "outputs": [],
   "source": [
    "2+2 "
   ]
  },
  {
   "cell_type": "code",
   "execution_count": null,
   "metadata": {},
   "outputs": [],
   "source": [
    "2-3.5"
   ]
  },
  {
   "cell_type": "code",
   "execution_count": null,
   "metadata": {},
   "outputs": [],
   "source": [
    "5.5-4.5 "
   ]
  },
  {
   "cell_type": "code",
   "execution_count": null,
   "metadata": {},
   "outputs": [],
   "source": [
    "1/1 #int divide by int give float"
   ]
  },
  {
   "cell_type": "code",
   "execution_count": null,
   "metadata": {},
   "outputs": [],
   "source": [
    "1//1 #// is a symbol so that it gives answer in int"
   ]
  },
  {
   "cell_type": "code",
   "execution_count": null,
   "metadata": {},
   "outputs": [],
   "source": [
    "5//2"
   ]
  },
  {
   "cell_type": "code",
   "execution_count": null,
   "metadata": {},
   "outputs": [],
   "source": [
    "5/2"
   ]
  },
  {
   "cell_type": "code",
   "execution_count": null,
   "metadata": {},
   "outputs": [],
   "source": [
    "print(\"print\"*3)"
   ]
  },
  {
   "cell_type": "code",
   "execution_count": null,
   "metadata": {},
   "outputs": [],
   "source": [
    "2**3 #**refer to power"
   ]
  },
  {
   "cell_type": "code",
   "execution_count": null,
   "metadata": {},
   "outputs": [],
   "source": [
    "10!=20 #!= refer to not equal"
   ]
  },
  {
   "cell_type": "code",
   "execution_count": null,
   "metadata": {},
   "outputs": [],
   "source": [
    "var1=100\n",
    "if var1:\n",
    "    print(\"1 - got a true expression value\")  #it will not get on else statement bcz both are true so it will print on if\n",
    "    print(var1)\n",
    "else :\n",
    "    print(\"1 - got a false exprssion value\")\n",
    "    print(var1)"
   ]
  },
  {
   "cell_type": "code",
   "execution_count": null,
   "metadata": {},
   "outputs": [],
   "source": [
    "Meaning                Math Symbol       Python symbol\n",
    "less than                  <                  <\n",
    "greater than               >                  >\n",
    "less than or equal         <                  <=\n",
    "                           -\n",
    "greater than or equal      >                  >=\n",
    "                           -\n",
    "equals                     =                   ==\n",
    "not equals                                     !=\n",
    "\n",
    "    "
   ]
  },
  {
   "cell_type": "code",
   "execution_count": null,
   "metadata": {},
   "outputs": [],
   "source": [
    "name = input(\"enter your name=\").upper()\n",
    "if name==\"RAZA\":\n",
    "    print(\"YOUR NAME IS:\"+name)\n",
    "else :\n",
    "    print(\"no\")\n",
    "    "
   ]
  },
  {
   "cell_type": "code",
   "execution_count": null,
   "metadata": {},
   "outputs": [],
   "source": [
    "temp=float(input(\"how much temprature? \"))\n",
    "if temp<25:\n",
    "    print(\"wear pant.\")\n",
    "else :\n",
    "    print(\"wear short\")\n",
    "print(\"get some exercise outside\")    \n",
    "            "
   ]
  },
  {
   "cell_type": "code",
   "execution_count": null,
   "metadata": {},
   "outputs": [],
   "source": [
    "weight=float(input(\"how much your lugage weight? \"))\n",
    "if weight>50:\n",
    "    print(\"there is a 25$ charge for your lugage its too heavy\")\n",
    "print (\"thnx for your business\")    \n",
    "            "
   ]
  },
  {
   "cell_type": "code",
   "execution_count": null,
   "metadata": {},
   "outputs": [],
   "source": [
    "x=float(input(\"enter your marks out of 100:\"))\n",
    "if x>=90:\n",
    "    print(\"grade A*\")\n",
    "elif x>=80:\n",
    "    print(\"grade A\")\n",
    "elif x>=70:\n",
    "    print(\"grade B\")\n",
    "elif x>=60:\n",
    "    print(\"grade C\")\n",
    "elif x>=50:\n",
    "    print(\"grade D\")\n",
    "else :\n",
    "    print(\"sorry you are fail\")\n",
    "   "
   ]
  },
  {
   "cell_type": "code",
   "execution_count": null,
   "metadata": {},
   "outputs": [],
   "source": [
    "English=float(input(\"Enter your english marks:\"))\n",
    "urdu=float(input(\"Enter your urdu marks:\"))\n",
    "maths=float(input(\"Enter your maths marks:\"))\n",
    "programming=float(input(\"Enter your programming marks:\"))\n",
    "islamiat=float(input(\"Enter your islamiat marks:\"))\n",
    "\n",
    "total=English+urdu+maths+programming+islamiat\n",
    "\n",
    "percentage=round(total/500*100,2)\n",
    "\n",
    "\n",
    "grade=\"no grade issued\"\n",
    "\n",
    "if percentage>100:\n",
    "    print(\"invalid input marks\")\n",
    "elif percentage>=90:\n",
    "    grade= \"A*\"\n",
    "elif percentage>=80:\n",
    "    grade =\"A\"\n",
    "elif percentage>=70:\n",
    "    grade=\"B\"\n",
    "elif percentage>=60:\n",
    "    grade=\"C\"\n",
    "elif percentage>=50:\n",
    "    grade =\"D\"\n",
    "else:\n",
    "    print(\"you are fail\")\n",
    "    \n",
    "print(\"your total marks are:\",total,\"\\n\",\"your total percentage\",percentage,\"\\n\",grade,sep=\"\")\n",
    "\n",
    "    \n",
    "\n",
    "\n",
    "\n"
   ]
  },
  {
   "cell_type": "code",
   "execution_count": null,
   "metadata": {},
   "outputs": [],
   "source": [
    "Ijazat=input(\"\\nAsk your mom.\\nIs she allow you to go to stadium.[Y/N]\").upper()\n",
    "Ticket=input(\"do you have ticket for todays match?[Y/N]\").upper()\n",
    "Time=input(\"Are you free on Sunday?[Y/N]\").upper()\n",
    "if Ijazat==\"Y\" and Ticket==\"Y\" and Time==\"Y\":\n",
    "    print(\"you are allow for the match\")\n",
    "else:\n",
    "    print(\"sorry!!!\")\n"
   ]
  },
  {
   "cell_type": "code",
   "execution_count": null,
   "metadata": {},
   "outputs": [],
   "source": [
    "print(\"\\t\\t\\t\\t\\t###CAST VOTE###\")\n",
    "age=int(input(\"whats your age:\"))\n",
    "RemainingAge=18-age\n",
    "\n",
    "if age>=18:\n",
    "    cnic =input(\"do you have your cnic card with you right now:[Y/N]\").upper()\n",
    "    voter_cast=input(\"is your name mention in voter casting list:[Y/N]\").upper()\n",
    "    if cnic==\"Y\" and voter_cast==\"Y\":\n",
    "        print(\"Go!and cast your vote\")\n",
    "    else :\n",
    "        print(\"sorry your vote cant be cast here\")\n",
    "else:\n",
    "    print(\"\\nyou are not officially able to cast vote\")\n",
    "    print(\"\\nyou will be able to cast vote after\"+\" \"+str(RemainingAge)+\" \"+\"years\")"
   ]
  },
  {
   "cell_type": "code",
   "execution_count": null,
   "metadata": {},
   "outputs": [],
   "source": [
    "cycle=[]\n",
    "cycle.append(\"1\")\n",
    "cycle.append(\"2\")\n",
    "cycle.append(\"3\")\n",
    "print(cycle)"
   ]
  },
  {
   "cell_type": "code",
   "execution_count": null,
   "metadata": {},
   "outputs": [],
   "source": [
    "favorite_language=' python '\n",
    "favorite_language.strip()"
   ]
  },
  {
   "cell_type": "code",
   "execution_count": null,
   "metadata": {},
   "outputs": [],
   "source": [
    "mylist=[\"khi\",\"lhr\",\"isl\",\"quetta\",\"multan\"]\n",
    "#index=0,1,2,3,4,5,6,7,8,9,\n",
    "#remove delete value vise\n",
    "#del delete index vise"
   ]
  },
  {
   "cell_type": "code",
   "execution_count": null,
   "metadata": {},
   "outputs": [],
   "source": [
    "print(mylist.index(\"lhr\"))"
   ]
  },
  {
   "cell_type": "code",
   "execution_count": null,
   "metadata": {},
   "outputs": [],
   "source": [
    "mylist.remove(\"khi\")\n",
    "print(mylist)"
   ]
  },
  {
   "cell_type": "code",
   "execution_count": null,
   "metadata": {},
   "outputs": [],
   "source": [
    "name=\" raza \"\n",
    "name.strip()"
   ]
  },
  {
   "cell_type": "code",
   "execution_count": null,
   "metadata": {},
   "outputs": [],
   "source": [
    "TASK_LIST=[\"task1\",\"task2\",\"task3\",\"task4\",\"task5\"]\n",
    "DONE_LIST=[]"
   ]
  },
  {
   "cell_type": "code",
   "execution_count": null,
   "metadata": {},
   "outputs": [],
   "source": [
    "\n",
    "user=input(\"Enter your taskNo\")\n",
    "if user in TASK_LIST:\n",
    "    y=(TASK_LIST.index(user))\n",
    "    user=TASK_LIST.pop(y)\n",
    "    DONE_LIST.append(user)\n",
    "    print(DONE_LIST)\n",
    "    print(TASK_LIST)\n",
    "else:\n",
    "    print(\"this task is not in list\")\n",
    "    "
   ]
  },
  {
   "cell_type": "code",
   "execution_count": null,
   "metadata": {},
   "outputs": [],
   "source": [
    "mylist=[\"khi\",\"lhr\",\"isl\",\"quetta\",\"multan\"]\n"
   ]
  },
  {
   "cell_type": "code",
   "execution_count": null,
   "metadata": {},
   "outputs": [],
   "source": [
    "#slicing\n",
    "#[start:end]-1 from end \n",
    "#slicing always from left to right otherwise empty  bracket will be answer either in positive digit or negative one\n",
    "mylist[3:5]"
   ]
  },
  {
   "cell_type": "code",
   "execution_count": null,
   "metadata": {},
   "outputs": [],
   "source": [
    "list=[1, 2, 3, 4, 5, 6, 7, 8, 9]\n",
    "slice1=list[2:5]\n",
    "print(slice1)"
   ]
  },
  {
   "cell_type": "code",
   "execution_count": null,
   "metadata": {},
   "outputs": [],
   "source": [
    "slice3=list[-5:-2]\n",
    "print(slice3)"
   ]
  },
  {
   "cell_type": "code",
   "execution_count": 2,
   "metadata": {},
   "outputs": [
    {
     "name": "stdout",
     "output_type": "stream",
     "text": [
      "[1, 2, 3, 4, 5, 6, 7, 8, 9]\n"
     ]
    }
   ],
   "source": [
    "list=[9,8,7,6,5,4,3,2,1]\n",
    "list.sort()\n",
    "print(list)"
   ]
  },
  {
   "cell_type": "code",
   "execution_count": 3,
   "metadata": {},
   "outputs": [
    {
     "name": "stdout",
     "output_type": "stream",
     "text": [
      "[9, 8, 7, 6, 5, 4, 3, 2, 1]\n"
     ]
    }
   ],
   "source": [
    "list=[1, 2, 3, 4, 5, 6, 7, 8, 9]\n",
    "list.sort(reverse=True)\n",
    "print(list)\n",
    "#reverse in decending order\n",
    "#reverse is bydefault false"
   ]
  },
  {
   "cell_type": "code",
   "execution_count": 4,
   "metadata": {},
   "outputs": [
    {
     "name": "stdout",
     "output_type": "stream",
     "text": [
      "['quetta', 'multan', 'lhr', 'khi', 'isl']\n"
     ]
    }
   ],
   "source": [
    "mylist=[\"khi\",\"lhr\",\"isl\",\"quetta\",\"multan\"]\n",
    "mylist.sort(reverse=True)\n",
    "print(mylist)\n",
    "#sort fuction dont give us in return unlike popping\n",
    "#dlice return you your list"
   ]
  },
  {
   "cell_type": "code",
   "execution_count": 5,
   "metadata": {},
   "outputs": [
    {
     "name": "stdout",
     "output_type": "stream",
     "text": [
      "['multan', 'quetta', 'isl', 'lhr', 'khi']\n"
     ]
    }
   ],
   "source": [
    "mylist=[\"khi\",\"lhr\",\"isl\",\"quetta\",\"multan\"]\n",
    "mylist.reverse()\n",
    "print(mylist)"
   ]
  },
  {
   "cell_type": "code",
   "execution_count": null,
   "metadata": {},
   "outputs": [],
   "source": [
    "GUEST=[\"Ali\",\"ahmed\",\"farhan\",]\n",
    "print(\"Your are invited by me on dinner on wednesday\",GUEST[0])\n",
    "print(\"You are invited by me on dinner on wednesday\",GUEST[1])\n",
    "print(\"You are invited by me on dinner on wednesday\",GUEST[2])\n"
   ]
  },
  {
   "cell_type": "code",
   "execution_count": null,
   "metadata": {
    "scrolled": true
   },
   "outputs": [],
   "source": [
    "GUEST.insert(0,\"Younus\")\n",
    "GUEST.insert(2,\"Raza\")\n",
    "GUEST.append(\"Amjad\")\n",
    "print(\"You are invited by me on dinner on wednesday\",GUEST[0])\n",
    "print(\"You are invited by me on dinner on wednesday\",GUEST[1])\n",
    "print(\"You are invited by me on dinner on wednesday\",GUEST[2])\n",
    "print(\"You are invited by me on dinner on wednesday\",GUEST[3])\n",
    "\n",
    "print(\"\\t\\t\\t###I have a found a new big table### \")\n",
    "\n",
    "print(\"You are invited by me on dinner on wednesday\",GUEST[4])\n",
    "print(\"You are invited by me on dinner on wednesday\",GUEST[5])\n",
    "\n"
   ]
  },
  {
   "cell_type": "code",
   "execution_count": null,
   "metadata": {},
   "outputs": [],
   "source": [
    "q=[1,4,4,4,2,3,4,5,6,7,8]\n",
    "\n",
    "q.count(4)\n",
    "q.count(8)\n",
    "\n",
    "#no of same value in a list\n"
   ]
  },
  {
   "cell_type": "code",
   "execution_count": null,
   "metadata": {},
   "outputs": [],
   "source": [
    "v=extend(\"raza\")\n",
    "print()\n"
   ]
  },
  {
   "cell_type": "code",
   "execution_count": null,
   "metadata": {},
   "outputs": [],
   "source": [
    "a=[0,1,2,3,45,66,78,9]\n",
    "sum(a)"
   ]
  },
  {
   "cell_type": "code",
   "execution_count": null,
   "metadata": {},
   "outputs": [],
   "source": [
    "a[5]+a[6]"
   ]
  },
  {
   "cell_type": "code",
   "execution_count": null,
   "metadata": {},
   "outputs": [],
   "source": [
    "q.extend(\"8888888\")\n",
    "print(q)"
   ]
  },
  {
   "cell_type": "code",
   "execution_count": null,
   "metadata": {},
   "outputs": [],
   "source": [
    "for a in range(10):\n",
    "    print(a, \"PAKISTAN\") \n",
    "    print(\"zindabad\")"
   ]
  },
  {
   "cell_type": "code",
   "execution_count": null,
   "metadata": {},
   "outputs": [],
   "source": [
    "for num in range(10,15):\n",
    "    print(num,\"raza\")"
   ]
  },
  {
   "cell_type": "code",
   "execution_count": null,
   "metadata": {},
   "outputs": [],
   "source": [
    "for num in range(1,10,2):    #steping(for function:shift+tab)\n",
    "    print(num,\"raza\")"
   ]
  },
  {
   "cell_type": "code",
   "execution_count": null,
   "metadata": {},
   "outputs": [],
   "source": [
    "list1=[11,22,\"3\",55,66,77,88,99,\"raza\",True,False]"
   ]
  },
  {
   "cell_type": "code",
   "execution_count": null,
   "metadata": {},
   "outputs": [],
   "source": [
    "for num in list1:\n",
    "    print(num,type(num))"
   ]
  },
  {
   "cell_type": "code",
   "execution_count": null,
   "metadata": {},
   "outputs": [],
   "source": [
    "list=[11,22,33,44,55,66,77,88,99,]\n"
   ]
  },
  {
   "cell_type": "code",
   "execution_count": null,
   "metadata": {},
   "outputs": [],
   "source": [
    "for num in list:\n",
    "    if num%2!=1:\n",
    "        print(num,\"is even\")\n",
    "    else :\n",
    "        print (str(num)+\"is odd\")"
   ]
  },
  {
   "cell_type": "code",
   "execution_count": null,
   "metadata": {},
   "outputs": [],
   "source": [
    "oddList=[]\n",
    "evenList=[]\n",
    "messsage=\"\"\n",
    "\n",
    "list1=[1,2,3,4,5,6,7,8,9,10]\n",
    "\n",
    "for num in list1:\n",
    "    if num%2==0:\n",
    "        evenList.append(num)\n",
    "    else:\n",
    "        oddList.append(num)\n",
    "print(\"even\")\n"
   ]
  },
  {
   "cell_type": "code",
   "execution_count": null,
   "metadata": {},
   "outputs": [],
   "source": [
    "list1=[1,2,3,4,5,6,7,8,9,10]"
   ]
  },
  {
   "cell_type": "code",
   "execution_count": null,
   "metadata": {},
   "outputs": [],
   "source": [
    "oddList=[]\n",
    "evenList=[]\n",
    "message=\"\"\n",
    "\n",
    "list1=[1,2,3,4,5,6,7,8,9,10]\n",
    "\n",
    "for num in list1:\n",
    "    if num%2!=0:\n",
    "        oddList.append(num)\n",
    "    else:\n",
    "        evenList.append(num)\n",
    "        \n",
    "message+=\"These are odd numbers:\"\n",
    "\n",
    "for odd in oddList:\n",
    "    message+=str(odd)+\",\"\n",
    "    \n",
    "message+=\"and \"\n",
    "\n",
    "for even in evenList:\n",
    "    message+=str(even)+\",\"\n",
    "    \n",
    "message+=\"are even numbers\"\n",
    "\n",
    "print(message)"
   ]
  },
  {
   "cell_type": "code",
   "execution_count": null,
   "metadata": {},
   "outputs": [],
   "source": [
    "even=[]\n",
    "odd=[]\n",
    "\n",
    "list1=[0,1,2,3,4,5,6,7,8,9]\n",
    "for num in list1:\n",
    "    if num%2==0:\n",
    "        even.append(num)\n",
    "    else :\n",
    "        odd.append(num)\n",
    "print(\"EVEN\")\n",
    "for ev in even:\n",
    "    print(ev,end=\",\")#\\n(by default) is replace by \" \" or \",\"\n",
    "print(\"\\nodd\")   \n",
    "for od in odd:\n",
    "    print(od,end=\",\")"
   ]
  },
  {
   "cell_type": "code",
   "execution_count": null,
   "metadata": {},
   "outputs": [],
   "source": [
    "friends=[\"ahmed\",\"farhan\",\"hammad\",\"saleem\",\"faheem\",\"bilal\"]\n",
    "relative=[\"hamid\",\"faizan\",\"anas\",\"hamza\",\"samad\",\"ahmed\",\"farhan\"]\n",
    "\n",
    "\n",
    "#similar element home assignment \n",
    "\n",
    "\n",
    "       \n"
   ]
  },
  {
   "cell_type": "code",
   "execution_count": null,
   "metadata": {},
   "outputs": [],
   "source": [
    "name=[\"hamid\",\"faizan\",\"anas\",\"hamza\",\"samad\",\"ahmed\",\"farhan\"]\n",
    "for names in name[2:]:\n",
    "    print(names)"
   ]
  },
  {
   "cell_type": "code",
   "execution_count": null,
   "metadata": {},
   "outputs": [],
   "source": [
    "name=[\"hamid\",\"faizan\",\"anas\",\"hamza\",\"samad\",\"ahmed\",\"farhan\"]\n",
    "for names in name[2:]:\n",
    "    print(names.upper())"
   ]
  },
  {
   "cell_type": "code",
   "execution_count": null,
   "metadata": {},
   "outputs": [],
   "source": [
    "print(r\"c\\doc\\naveed\")"
   ]
  },
  {
   "cell_type": "code",
   "execution_count": null,
   "metadata": {},
   "outputs": [],
   "source": [
    "print('raza\\'s book')"
   ]
  },
  {
   "cell_type": "code",
   "execution_count": null,
   "metadata": {},
   "outputs": [],
   "source": [
    "friend_pizza=[\"pepparoni\",\"double cheez\"]\n",
    "my_pizza=[]\n",
    "for a in friend_pizza:\n",
    "    my_pizza.append(a)\n",
    "\n",
    "\n",
    "friend_pizza.append(\"tikka\")\n",
    "my_pizza.append(\"vegetable\")\n",
    "\n",
    "print(\"my favorite pizza are\")\n",
    "for c in my_pizza:\n",
    "    print(c)\n",
    "    \n",
    "print(\"\\nmy friends favorite pizza are\")\n",
    "for d in friend_pizza:\n",
    "    print(d)\n",
    "    "
   ]
  },
  {
   "cell_type": "code",
   "execution_count": null,
   "metadata": {},
   "outputs": [],
   "source": [
    "current_user=[\"tariq\",\"farhan\",\"raza\",\"ali\",\"wasif\",\"yousuf\"]\n",
    "new_user=[\"haseeb\",\"husnain\",\"hunain\",\"hamza\",\"ali\",\"raza\",\"imran\",\"faizan\"]\n"
   ]
  },
  {
   "cell_type": "code",
   "execution_count": null,
   "metadata": {},
   "outputs": [],
   "source": [
    "for new_users in new_user:\n",
    "    if new_users in current_user:\n",
    "        print(new_users+\" \"+\"already exist\")\n",
    "        print(\"enter new name\\n \")\n",
    "    else :\n",
    "        print(new_users+\" \"+\" is added to database\\n\")\n",
    "        "
   ]
  },
  {
   "cell_type": "code",
   "execution_count": null,
   "metadata": {},
   "outputs": [],
   "source": [
    "s=\"pakistan\"   #slicing can also be perform on string just like list\n",
    "               #can not perform rewrite or del on strings[2:3]\n",
    "               #pythonstring.docs\n",
    "               #pyhton-reference.readthedocs.io"
   ]
  },
  {
   "cell_type": "code",
   "execution_count": null,
   "metadata": {},
   "outputs": [],
   "source": [
    "s=\"pakistan\"\n",
    "s.find(\"a\")"
   ]
  },
  {
   "cell_type": "code",
   "execution_count": null,
   "metadata": {},
   "outputs": [],
   "source": [
    "s.rfind(\"a\")#last occuring "
   ]
  },
  {
   "cell_type": "code",
   "execution_count": null,
   "metadata": {},
   "outputs": [],
   "source": [
    "name=\"younus\"\n",
    "f_name=\"raza\"\n",
    "print(\"my friend name is {} and is father name is {}.\".format(name,f_name))#formate"
   ]
  },
  {
   "cell_type": "code",
   "execution_count": null,
   "metadata": {},
   "outputs": [],
   "source": [
    "name=\"younus\"\n",
    "f_name=\"raza\"\n",
    "print(\"my friend name is {0} and is father name is {0}. \".format(name,f_name))#formate"
   ]
  },
  {
   "cell_type": "code",
   "execution_count": null,
   "metadata": {},
   "outputs": [],
   "source": [
    "name=\"younus\"\n",
    "f_name=\"raza\"\n",
    "print(\"my friend name is {1} and is father name is {1} .\".format(name,f_name))#formate"
   ]
  },
  {
   "cell_type": "code",
   "execution_count": null,
   "metadata": {},
   "outputs": [],
   "source": [
    "#new_method\n",
    "print(f\"my friend name is {name} and is father name is {f_name}.\")"
   ]
  },
  {
   "cell_type": "code",
   "execution_count": null,
   "metadata": {},
   "outputs": [],
   "source": [
    "num=45\n",
    "name=\"asad\"\n",
    "\n",
    "print(f\"my name is {name} and his age is {num}.\")"
   ]
  },
  {
   "cell_type": "code",
   "execution_count": null,
   "metadata": {},
   "outputs": [],
   "source": [
    "person=\"nasir\""
   ]
  },
  {
   "cell_type": "code",
   "execution_count": null,
   "metadata": {},
   "outputs": [],
   "source": [
    "print(\"my name is {}\".format(person))"
   ]
  },
  {
   "cell_type": "code",
   "execution_count": null,
   "metadata": {},
   "outputs": [],
   "source": [
    "d={'a':123,'b':456,'c':789}"
   ]
  },
  {
   "cell_type": "code",
   "execution_count": null,
   "metadata": {},
   "outputs": [],
   "source": [
    "print(f\"my number is {d['a']}\")"
   ]
  },
  {
   "cell_type": "code",
   "execution_count": null,
   "metadata": {},
   "outputs": [],
   "source": [
    "mylist=[1,2,3]"
   ]
  },
  {
   "cell_type": "code",
   "execution_count": null,
   "metadata": {},
   "outputs": [],
   "source": [
    "print(f\"my number is {mylist[2]}\")"
   ]
  },
  {
   "cell_type": "code",
   "execution_count": null,
   "metadata": {},
   "outputs": [],
   "source": [
    "library=[('Author','Topic','Pages'),\n",
    "        ('Nasir','DeepLearning',300),\n",
    "        ('Ahmed','python',500),('Zia','kube',300)]"
   ]
  },
  {
   "cell_type": "code",
   "execution_count": null,
   "metadata": {},
   "outputs": [],
   "source": [
    "library"
   ]
  },
  {
   "cell_type": "code",
   "execution_count": null,
   "metadata": {},
   "outputs": [],
   "source": [
    "a=12,13,14,15 #packing of values"
   ]
  },
  {
   "cell_type": "code",
   "execution_count": null,
   "metadata": {},
   "outputs": [],
   "source": [
    "a   #inform of tuple"
   ]
  },
  {
   "cell_type": "code",
   "execution_count": null,
   "metadata": {},
   "outputs": [],
   "source": [
    "b,c=a  #unpack"
   ]
  },
  {
   "cell_type": "code",
   "execution_count": null,
   "metadata": {},
   "outputs": [],
   "source": [
    "b,c,d,e=a"
   ]
  },
  {
   "cell_type": "code",
   "execution_count": null,
   "metadata": {},
   "outputs": [],
   "source": [
    "b"
   ]
  },
  {
   "cell_type": "code",
   "execution_count": null,
   "metadata": {},
   "outputs": [],
   "source": [
    "name=\"raza\"\n",
    "age=\"19\"\n"
   ]
  },
  {
   "cell_type": "code",
   "execution_count": null,
   "metadata": {},
   "outputs": [],
   "source": [
    "print(\"my name is {} and age is {}\".format(name,age))"
   ]
  },
  {
   "cell_type": "markdown",
   "metadata": {},
   "source": [
    "# TUPLE"
   ]
  },
  {
   "cell_type": "code",
   "execution_count": null,
   "metadata": {},
   "outputs": [],
   "source": [
    "cities=(\"karachi\",\"lahore\",\"islmabad\",\"quetta\")"
   ]
  },
  {
   "cell_type": "code",
   "execution_count": null,
   "metadata": {},
   "outputs": [],
   "source": [
    "print(cities)\n",
    "print(type(cities))"
   ]
  },
  {
   "cell_type": "code",
   "execution_count": null,
   "metadata": {},
   "outputs": [],
   "source": [
    "del cities"
   ]
  },
  {
   "cell_type": "code",
   "execution_count": null,
   "metadata": {},
   "outputs": [],
   "source": [
    "print(cities)"
   ]
  },
  {
   "cell_type": "code",
   "execution_count": null,
   "metadata": {},
   "outputs": [],
   "source": [
    "tup1=(\"phy\",\"chem\",1997,2000)\n",
    "tup2=(1,2,3,4,5,6,7,8,9)\n",
    "print(\"tup1[0]:\",tup1[0:2])\n",
    "print(\"tup2[1:5]:\",tup2[1:5])\n"
   ]
  },
  {
   "cell_type": "code",
   "execution_count": null,
   "metadata": {},
   "outputs": [],
   "source": [
    "tup1=(12,34.56)\n",
    "tup2=(\"abc\",\"xyz\")\n",
    "\n",
    "tup3=tup2+tup1\n",
    "print(tup3)\n",
    "print(type(tup3))"
   ]
  },
  {
   "cell_type": "code",
   "execution_count": null,
   "metadata": {},
   "outputs": [],
   "source": [
    "tup=(\"physics\",\"chemistry\",1997,2000)\n",
    "print(tup)\n",
    "del tup\n",
    "print(\"after deleting tup:\")\n",
    "print(tup)"
   ]
  },
  {
   "cell_type": "code",
   "execution_count": null,
   "metadata": {},
   "outputs": [],
   "source": [
    "thistuple=(\"apple\",\"banana\",\"cherry\")\n",
    "thistuple[1]=\"blackcurrant\"\n",
    "print(thistuple)"
   ]
  },
  {
   "cell_type": "code",
   "execution_count": null,
   "metadata": {},
   "outputs": [],
   "source": [
    "thistuple=(\"apple\",\"banana\",\"cherry\")\n",
    "for x in thistuple:\n",
    "    print(x)"
   ]
  },
  {
   "cell_type": "code",
   "execution_count": null,
   "metadata": {},
   "outputs": [],
   "source": [
    "thistuple=(\"apple\",\"banana\",\"cherry\")\n",
    "if \"apple\" in thistuple:\n",
    "    print(\"yes,'apple in tuple'\")"
   ]
  },
  {
   "cell_type": "code",
   "execution_count": null,
   "metadata": {},
   "outputs": [],
   "source": [
    "thistuple=(\"blackberry\",\"banana\",\"cherry\")\n",
    "if \"apple\" in thistuple:\n",
    "    print(\"yes,'apple in tuple'\")\n",
    "else:\n",
    "    print(\"ERROR\")"
   ]
  },
  {
   "cell_type": "code",
   "execution_count": null,
   "metadata": {},
   "outputs": [],
   "source": [
    "thistuple=(\"blackberry\",\"banana\",\"cherry\")\n",
    "print(len(thistuple))\n"
   ]
  },
  {
   "cell_type": "code",
   "execution_count": null,
   "metadata": {},
   "outputs": [],
   "source": [
    "tup3=\"a\",\"b\",\"c\",\"d\"\n",
    "print(type(tup3))"
   ]
  },
  {
   "cell_type": "markdown",
   "metadata": {},
   "source": [
    "# DICTIONARIES"
   ]
  },
  {
   "cell_type": "code",
   "execution_count": null,
   "metadata": {},
   "outputs": [],
   "source": [
    "a=['key':'value']"
   ]
  },
  {
   "cell_type": "code",
   "execution_count": null,
   "metadata": {},
   "outputs": [],
   "source": [
    "alien_0 = {'colour':'green','points':5}\n",
    "print(alien_0['colour'])\n",
    "print(alien_0['points'])\n"
   ]
  },
  {
   "cell_type": "markdown",
   "metadata": {},
   "source": [
    "# DICT TYPE"
   ]
  },
  {
   "cell_type": "code",
   "execution_count": null,
   "metadata": {},
   "outputs": [],
   "source": [
    "myDic={1:23,3:56,7:100}"
   ]
  },
  {
   "cell_type": "code",
   "execution_count": null,
   "metadata": {},
   "outputs": [],
   "source": [
    "myDic1={1:\"PK\",2:\"US\"}"
   ]
  },
  {
   "cell_type": "code",
   "execution_count": null,
   "metadata": {},
   "outputs": [],
   "source": [
    "myDic2={\"name\":\"RAZA\",\"f_name\":\"KHAN\"}"
   ]
  },
  {
   "cell_type": "code",
   "execution_count": null,
   "metadata": {},
   "outputs": [],
   "source": [
    "myDic3={\"name\":\"Dhoraji\",\"type\":\"ASSOCIATION\",\"work\":\"ASSOCIATION\"}"
   ]
  },
  {
   "cell_type": "code",
   "execution_count": null,
   "metadata": {},
   "outputs": [],
   "source": [
    "myDic4={\"type\":\"Dhoraji\",\"type\":\"ASSOCIATION\",\"work\":\"ASSOCIATION\"}"
   ]
  },
  {
   "cell_type": "code",
   "execution_count": null,
   "metadata": {
    "scrolled": true
   },
   "outputs": [],
   "source": [
    "myDic4[\"type\"]#overwrite value for type key"
   ]
  },
  {
   "cell_type": "code",
   "execution_count": null,
   "metadata": {},
   "outputs": [],
   "source": [
    "myDic5={1:[\"PK\",\"US\",\"UNO\"]} #LIST"
   ]
  },
  {
   "cell_type": "code",
   "execution_count": null,
   "metadata": {},
   "outputs": [],
   "source": [
    "myDic6={1:(\"PK\",\"US\",\"UNO\")} #TUPLE"
   ]
  },
  {
   "cell_type": "code",
   "execution_count": null,
   "metadata": {},
   "outputs": [],
   "source": [
    "myDic6[1][2]"
   ]
  },
  {
   "cell_type": "code",
   "execution_count": null,
   "metadata": {},
   "outputs": [],
   "source": [
    "myDic7={1:{11:111,22:222,33:333},2:{22:222,33:333,44:444}}"
   ]
  },
  {
   "cell_type": "code",
   "execution_count": null,
   "metadata": {},
   "outputs": [],
   "source": [
    "myDic7[2][44]"
   ]
  },
  {
   "cell_type": "code",
   "execution_count": null,
   "metadata": {},
   "outputs": [],
   "source": [
    "if 1 in{1:100,2:200}:\n",
    "    print(\"hello\")"
   ]
  },
  {
   "cell_type": "markdown",
   "metadata": {},
   "source": [
    "# EXAMPLE"
   ]
  },
  {
   "cell_type": "code",
   "execution_count": null,
   "metadata": {},
   "outputs": [],
   "source": [
    "alien_0 = {'colour':'green','points':5}\n",
    "new_points=alien_0['points']\n",
    "print(\"you just earned\"+\" \"+str(new_points))"
   ]
  },
  {
   "cell_type": "code",
   "execution_count": null,
   "metadata": {},
   "outputs": [],
   "source": [
    "alien_0={'colour':'green','points':5}\n",
    "print(alien_0)\n",
    "alien_0['x_position']=0\n",
    "alien_0['y_position']=25\n",
    "print(alien_0)"
   ]
  },
  {
   "cell_type": "code",
   "execution_count": null,
   "metadata": {},
   "outputs": [],
   "source": [
    "foods={}\n",
    "foods['Karachi']='favourite'\n",
    "foods['sheep']='Boti Kabab'\n",
    "foods['khawasa']='yummy'\n",
    "foods['BBQ']='MALAI BOTI'\n",
    "foods['shake']='choclate'\n",
    "foods['ice creame']=\" 12\"\n",
    "\n",
    "print(foods)"
   ]
  },
  {
   "cell_type": "code",
   "execution_count": null,
   "metadata": {},
   "outputs": [],
   "source": [
    "\n",
    "foods['ice Cream']={\"a\":[\"apple\",\"orange\",\"mango\"],\"b\":[\"11\",\"22\",\"33\"],\"c\":[\"biryani\",\"cheery\",\"kabab\"]}"
   ]
  },
  {
   "cell_type": "code",
   "execution_count": null,
   "metadata": {},
   "outputs": [],
   "source": [
    "print(foods['ice Cream'][\"c\"][2])"
   ]
  },
  {
   "cell_type": "code",
   "execution_count": null,
   "metadata": {},
   "outputs": [],
   "source": [
    "players={'Watson':'Australian International Cricketer'}\n",
    "print(\"SHANE ROBERT WATSON is a \"+players['Watson'].upper()+'.')"
   ]
  },
  {
   "cell_type": "code",
   "execution_count": null,
   "metadata": {},
   "outputs": [],
   "source": [
    "psl = {\"Karachi\":\"Kings\" , \"Multan\":\"sultan\" , \"zalmi\" : \"won\"}\n",
    "print(\"Karachi is a : \" + str(psl[\"Karachi\"]))\n",
    "\n",
    "if psl[\"zalmi\"]==\"loser\":\n",
    "    x_increment = 1\n",
    "    \n",
    "elif psl[\"zalmi\"]==\"won\":\n",
    "    x_increment = 2\n",
    "    \n",
    "psl[\"zalmi\"]=psl[\"zalmi\"] + str(x_increment)\n",
    "print(\"PSL 4 zalmi : \" + str(psl[\"zalmi\"]))"
   ]
  },
  {
   "cell_type": "code",
   "execution_count": null,
   "metadata": {},
   "outputs": [],
   "source": [
    "alien_0 = {'colour':\"green\",'colour1':\"blue\",'points':50}\n",
    "\n",
    "if alien_0['points']==0:\n",
    "    x_increment =-1\n",
    "    \n",
    "elif alien_0['points']==25:\n",
    "    x_increment = 2\n",
    "else :\n",
    "    print(\"high score\")\n",
    "    \n",
    "    \n",
    "\n",
    "print(\"YOUR POINTS ARE\" + str(alien_0)\n",
    "    "
   ]
  },
  {
   "cell_type": "markdown",
   "metadata": {},
   "source": [
    "# 15 APRIL DICTIONARY\n"
   ]
  },
  {
   "cell_type": "code",
   "execution_count": null,
   "metadata": {},
   "outputs": [],
   "source": [
    "dict1={\"a\":11,\"b\":20,\"c\":30}\n",
    "for key1,value1 in dict1.items():\n",
    "    print(key1,value1)"
   ]
  },
  {
   "cell_type": "code",
   "execution_count": null,
   "metadata": {},
   "outputs": [],
   "source": [
    "for key1 in dict1.keys():\n",
    "    print(key1)"
   ]
  },
  {
   "cell_type": "code",
   "execution_count": null,
   "metadata": {},
   "outputs": [],
   "source": [
    "for key1 in dict1.values():\n",
    "    print(key1)"
   ]
  },
  {
   "cell_type": "code",
   "execution_count": null,
   "metadata": {},
   "outputs": [],
   "source": [
    "favorite_language={\"raza\":\"python\",\"anas\":\"java\",\"waseem\":\"c++\",\"faheem\":\"ruby\"}\n",
    "print(\"Raza favorite language is \"+favorite_language[\"raza\"]+\" .\")\n",
    "print(\"Anas favorite language is \"+favorite_language[\"anas\"]+\" .\")\n"
   ]
  },
  {
   "cell_type": "code",
   "execution_count": null,
   "metadata": {},
   "outputs": [],
   "source": [
    "Information={\"First_name\":\"Younus\",\"Last_name\":\"Raza\",\"Age\":19,\"City\":\"Karchi\"}\n",
    "\n",
    "print(\"FIRST NAME:\"+Information[\"First_name\"]+\"\\n\"+\"LAST NAME:\"+Information[\"Last_name\"]+\"\\n\"+\"Age:\"+str(Information[\"Age\"])+\"\\n\"+\":\"+Information[\"City\"])"
   ]
  },
  {
   "cell_type": "code",
   "execution_count": 14,
   "metadata": {},
   "outputs": [],
   "source": [
    "Information={\"First_name\":\"Younus\",\"Last_name\":\"Raza\",\"Age\":19,\"City\":\"Karchi\"}\n"
   ]
  },
  {
   "cell_type": "code",
   "execution_count": 20,
   "metadata": {},
   "outputs": [
    {
     "name": "stdout",
     "output_type": "stream",
     "text": [
      "my favourite language is Younus\n",
      "my favourite language is Raza\n",
      "my favourite language is 19\n",
      "my favourite language is Karchi\n"
     ]
    }
   ],
   "source": [
    "print(\"my favourite language is {}\".format(Information[\"First_name\"]))\n",
    "print(\"my favourite language is {}\".format(Information[\"Last_name\"]))\n",
    "print(\"my favourite language is {}\".format(Information[\"Age\"]))\n",
    "print(\"my favourite language is {}\".format(Information[\"City\"]))"
   ]
  },
  {
   "cell_type": "markdown",
   "metadata": {},
   "source": [
    "# LOOPING THROUGH DICT"
   ]
  },
  {
   "cell_type": "code",
   "execution_count": 27,
   "metadata": {},
   "outputs": [
    {
     "name": "stdout",
     "output_type": "stream",
     "text": [
      "my first Name is Shahzad and my last name is ahsan.\n",
      "my first Name is Sara Ali and my last name is khan.\n",
      "my first Name is Yaqoob and my last name is farhan.\n",
      "my first Name is Younus and my last name is raza.\n"
     ]
    }
   ],
   "source": [
    "names={\"shahzad\":\"ahsan\",\"sara ali\":\"khan\",\"yaqoob\":\"farhan\",\"younus\":\"raza\"}\n",
    "for first_name,last_name in names.items():\n",
    "    print(\"my first Name is \"+first_name.title()+\" and my last name is \"+last_name+\".\")"
   ]
  },
  {
   "cell_type": "markdown",
   "metadata": {},
   "source": [
    "# LOOPING THROUGH ALL THE KEYS IN A DICT\n"
   ]
  },
  {
   "cell_type": "code",
   "execution_count": 30,
   "metadata": {},
   "outputs": [
    {
     "name": "stdout",
     "output_type": "stream",
     "text": [
      "Dict:apple\n",
      "Dict:AB\n",
      "Dict:heavy\n",
      "Dict:audi\n"
     ]
    }
   ],
   "source": [
    "words={\"mobile\":\"apple\" , \"batsman\":\"AB\" ,\"bike\":\"heavy\" ,\"car\":\"audi\"}\n",
    "\n",
    "for word in words.values():\n",
    "    print(\"Dict:\"+word)"
   ]
  },
  {
   "cell_type": "code",
   "execution_count": 32,
   "metadata": {},
   "outputs": [],
   "source": [
    "user_0={\"teacher\":\"Sir Nasir\",\"Teacher_assistant\":\"shahxad\",\"student\":\"ali\"}"
   ]
  },
  {
   "cell_type": "code",
   "execution_count": 38,
   "metadata": {},
   "outputs": [
    {
     "name": "stdout",
     "output_type": "stream",
     "text": [
      "\n",
      "key:teacher\n",
      "Vlue:Sir Nasir\n",
      "\n",
      "key:Teacher_assistant\n",
      "Vlue:shahxad\n",
      "\n",
      "key:student\n",
      "Vlue:ali\n"
     ]
    }
   ],
   "source": [
    "for key,value in user_0.items():\n",
    "    print(\"\\nkey:\"+key)\n",
    "    print(\"Vlue:\"+value)"
   ]
  },
  {
   "cell_type": "code",
   "execution_count": 6,
   "metadata": {},
   "outputs": [],
   "source": [
    "alien1 ={\"name\":\"alien\",\"colour\":\"green\",\"height\":\"5.7\",\"weight\":\"67\"}"
   ]
  },
  {
   "cell_type": "code",
   "execution_count": 16,
   "metadata": {},
   "outputs": [
    {
     "ename": "NameError",
     "evalue": "name 'alien1' is not defined",
     "output_type": "error",
     "traceback": [
      "\u001b[1;31m---------------------------------------------------------------------------\u001b[0m",
      "\u001b[1;31mNameError\u001b[0m                                 Traceback (most recent call last)",
      "\u001b[1;32m<ipython-input-16-a3c290af5f2a>\u001b[0m in \u001b[0;36m<module>\u001b[1;34m\u001b[0m\n\u001b[1;32m----> 1\u001b[1;33m \u001b[1;32mif\u001b[0m \u001b[1;34m\"last_name\"\u001b[0m \u001b[1;32mnot\u001b[0m \u001b[1;32min\u001b[0m  \u001b[0malien1\u001b[0m\u001b[1;33m.\u001b[0m\u001b[0mkeys\u001b[0m\u001b[1;33m(\u001b[0m\u001b[1;33m)\u001b[0m\u001b[1;33m:\u001b[0m\u001b[1;33m\u001b[0m\u001b[1;33m\u001b[0m\u001b[0m\n\u001b[0m\u001b[0;32m      2\u001b[0m     \u001b[0mprint\u001b[0m\u001b[1;33m(\u001b[0m\u001b[1;34m\"please write your last name...\"\u001b[0m\u001b[1;33m)\u001b[0m\u001b[1;33m\u001b[0m\u001b[1;33m\u001b[0m\u001b[0m\n",
      "\u001b[1;31mNameError\u001b[0m: name 'alien1' is not defined"
     ]
    }
   ],
   "source": [
    "if \"last_name\" not in  alien1.keys():\n",
    "    print(\"please write your last name...\")"
   ]
  },
  {
   "cell_type": "code",
   "execution_count": 17,
   "metadata": {},
   "outputs": [],
   "source": [
    "name1={'sheryar':'zafar','younus':'raza','zaidi':'farhan','owais':'rafiq','muhammad':'zafar'}"
   ]
  },
  {
   "cell_type": "code",
   "execution_count": 18,
   "metadata": {},
   "outputs": [
    {
     "name": "stdout",
     "output_type": "stream",
     "text": [
      "MUHAMMAD,have a good day\n",
      "OWAIS,have a good day\n",
      "SHERYAR,have a good day\n",
      "YOUNUS,have a good day\n",
      "ZAIDI,have a good day\n",
      "{'sheryar': 'zafar', 'younus': 'raza', 'zaidi': 'farhan', 'owais': 'rafiq', 'muhammad': 'zafar'}\n"
     ]
    }
   ],
   "source": [
    "for new_names in sorted(name1.keys()):\n",
    "    print(new_names.upper()+',have a good day')\n",
    "print(name1)    "
   ]
  },
  {
   "cell_type": "code",
   "execution_count": 37,
   "metadata": {},
   "outputs": [],
   "source": [
    "raza=[1111,2,3,34,45,56,67]\n",
    "q=sorted(raza,reverse=True)   #in sort function we dont get anything in result\n",
    "                 #in sorted function we dont get anything in result"
   ]
  },
  {
   "cell_type": "code",
   "execution_count": 25,
   "metadata": {},
   "outputs": [
    {
     "name": "stdout",
     "output_type": "stream",
     "text": [
      "[1111, 67, 56, 45, 34, 3, 2]\n"
     ]
    }
   ],
   "source": [
    "print(q)"
   ]
  },
  {
   "cell_type": "code",
   "execution_count": 34,
   "metadata": {},
   "outputs": [
    {
     "name": "stdout",
     "output_type": "stream",
     "text": [
      "<list_reverseiterator object at 0x000001D8B4A27F28>\n"
     ]
    }
   ],
   "source": [
    "# For list \n",
    "seqList = [1, 2, 4, 3, 5] \n",
    "print(reversed(seqList))"
   ]
  },
  {
   "cell_type": "markdown",
   "metadata": {},
   "source": [
    "# A LIST OF DICT\n",
    "'"
   ]
  },
  {
   "cell_type": "code",
   "execution_count": 77,
   "metadata": {},
   "outputs": [
    {
     "name": "stdout",
     "output_type": "stream",
     "text": [
      "colour green\n",
      "points 5\n",
      "colour yellow\n",
      "points 10\n",
      "colour blue\n",
      "points 15\n"
     ]
    }
   ],
   "source": [
    "alien_0={'colour':'green','points':5}\n",
    "alien_1={'colour':'yellow','points':10}\n",
    "alien_2={'colour':'blue','points':15}\n",
    "\n",
    "aliens=[alien_0,alien_1,alien_2]\n",
    "for alien in aliens:\n",
    "    for key,value in alien.items():\n",
    "        print(key,value)    #nested loop\n"
   ]
  },
  {
   "cell_type": "code",
   "execution_count": 10,
   "metadata": {},
   "outputs": [
    {
     "name": "stdout",
     "output_type": "stream",
     "text": [
      "2 * 1=2\n",
      "2 * 2=4\n",
      "2 * 3=6\n",
      "2 * 4=8\n",
      "2 * 5=10\n",
      "2 * 6=12\n",
      "2 * 7=14\n",
      "2 * 8=16\n",
      "2 * 9=18\n",
      "2 * 10=20\n"
     ]
    }
   ],
   "source": [
    "numbers=[1,2,3,4,5,6,7,8,9,10]\n",
    "for table in [2]:\n",
    "    for num in numbers:\n",
    "        print(f\"{table} * {num}={table*num}\")  #nested loop #tables"
   ]
  },
  {
   "cell_type": "markdown",
   "metadata": {},
   "source": [
    "# DICTIONARY IN DICTIONARY"
   ]
  },
  {
   "cell_type": "code",
   "execution_count": 16,
   "metadata": {},
   "outputs": [
    {
     "name": "stdout",
     "output_type": "stream",
     "text": [
      "\n",
      "Username: sheikh\n",
      "\tFull_name: Shahxzad Ahsan\n",
      "\tlocation: Bahadurabad\n",
      "\n",
      "Username: sir\n",
      "\tFull_name: Nasir Husain\n",
      "\tlocation: Gulshan\n"
     ]
    }
   ],
   "source": [
    "users={'sheikh':{'first':'shahxzad','last':'ahsan','location':'bahadurabad',},'sir':{'first':'nasir','last':'husain','location':'gulshan',}}\n",
    "for username ,user_info in users.items():\n",
    "    print(\"\\nUsername: \"+username)\n",
    "    full_name=user_info['first'] + \" \"+user_info['last']\n",
    "    location=user_info['location']\n",
    "    print(\"\\tFull_name: \"+full_name.title())\n",
    "    print(\"\\tlocation: \"+location.title())"
   ]
  },
  {
   "cell_type": "markdown",
   "metadata": {},
   "source": [
    "# WHILE LOOP"
   ]
  },
  {
   "cell_type": "code",
   "execution_count": 2,
   "metadata": {},
   "outputs": [
    {
     "name": "stdout",
     "output_type": "stream",
     "text": [
      "10 Hello\n",
      "9 Hello\n",
      "8 Hello\n",
      "7 Hello\n",
      "6 Hello\n",
      "5 Hello\n",
      "4 Hello\n",
      "3 Hello\n",
      "2 Hello\n",
      "1 Hello\n"
     ]
    }
   ],
   "source": [
    "a=10\n",
    "while a>0:\n",
    "    print(a,\"Hello\")\n",
    "    a -=1\n"
   ]
  },
  {
   "cell_type": "code",
   "execution_count": 7,
   "metadata": {},
   "outputs": [
    {
     "name": "stdout",
     "output_type": "stream",
     "text": [
      "10 Hello\n",
      "9 Hello\n",
      "8 Hello\n",
      "7 Hello\n",
      "6 Hello\n",
      "5 Hello\n",
      "4 Hello\n",
      "3 Hello\n",
      "2 Hello\n",
      "1 Hello\n",
      "0 Hello\n"
     ]
    }
   ],
   "source": [
    "a=10\n",
    "while a>=0:\n",
    "    print(a,\"Hello\")\n",
    "    a -=1"
   ]
  },
  {
   "cell_type": "code",
   "execution_count": 8,
   "metadata": {},
   "outputs": [
    {
     "name": "stdout",
     "output_type": "stream",
     "text": [
      "0 HELLO\n",
      "1 HELLO\n",
      "2 HELLO\n",
      "3 HELLO\n",
      "4 HELLO\n",
      "5 HELLO\n",
      "6 HELLO\n",
      "7 HELLO\n",
      "8 HELLO\n",
      "9 HELLO\n"
     ]
    }
   ],
   "source": [
    "for a in range(0,10):\n",
    "    print(a,\"HELLO\")"
   ]
  },
  {
   "cell_type": "code",
   "execution_count": 1,
   "metadata": {},
   "outputs": [
    {
     "name": "stdout",
     "output_type": "stream",
     "text": [
      "2\n",
      "4\n",
      "6\n",
      "8\n",
      "10\n"
     ]
    }
   ],
   "source": [
    "a=2\n",
    "while a<=10:\n",
    "    print(a)\n",
    "    a+=2"
   ]
  },
  {
   "cell_type": "code",
   "execution_count": 9,
   "metadata": {},
   "outputs": [
    {
     "name": "stdout",
     "output_type": "stream",
     "text": [
      "2\n",
      "4\n",
      "6\n",
      "8\n",
      "10\n"
     ]
    }
   ],
   "source": [
    "a=int(input())\n",
    "while a<10:\n",
    "    if a%2==0:\n",
    "        print(a+2)\n",
    "        a+=2\n",
    "    else:\n",
    "        print(a+2)\n",
    "        a+=2"
   ]
  },
  {
   "cell_type": "code",
   "execution_count": null,
   "metadata": {},
   "outputs": [],
   "source": [
    "num=int(input(\"enter number: \"))\n",
    "while num==9:\n",
    "    print(\"nine is entered\")\n",
    "    "
   ]
  },
  {
   "cell_type": "code",
   "execution_count": null,
   "metadata": {},
   "outputs": [
    {
     "name": "stdout",
     "output_type": "stream",
     "text": [
      "enter number: 23\n",
      "THe square of number is 529\n",
      "enter number: 36\n",
      "THe square of number is 1296\n",
      "enter number: 32\n",
      "THe square of number is 1024\n",
      "enter number: 35\n",
      "THe square of number is 1225\n",
      "enter number: 25\n",
      "THe square of number is 625\n"
     ]
    }
   ],
   "source": [
    "condition=True\n",
    "while condition:\n",
    "    num=input(\"enter number: \")\n",
    "    if num=='q':\n",
    "        print(\"TERMINATED\")\n",
    "        condition=False\n",
    "    else :\n",
    "        print(\"THe square of number is\",int(num)**2)"
   ]
  },
  {
   "cell_type": "code",
   "execution_count": null,
   "metadata": {},
   "outputs": [
    {
     "name": "stdout",
     "output_type": "stream",
     "text": [
      "GIVE YOUR FIRST NUMBER: 12\n",
      "GIVE YOUR SECOND NUMBER: \n",
      "12\n",
      "PRESS 1 FOR ADDITION\n",
      "PRESS 2 FOR SUBTRATION\n",
      "PRESS 3 FOR MULITIPLICATION\n",
      "PRESS 4 FOR DIVISION1\n"
     ]
    }
   ],
   "source": [
    "while True:\n",
    "    num=int(input(\"GIVE YOUR FIRST NUMBER: \"))\n",
    "    num1=int(input(\"GIVE YOUR SECOND NUMBER: \"+\"\\n\"))\n",
    "    num2=input(\"PRESS 1 FOR ADDITION\"+\"\\n\"+\"PRESS 2 FOR SUBTRATION\"+\"\\n\"+\"PRESS 3 FOR MULITIPLICATION\"+\"\\n\"+\"PRESS 4 FOR DIVISION\")\n",
    "    if num2==\"1\":\n",
    "        ADD=num+num1\n",
    "        print\n",
    "    elif num2==\"2\":\n",
    "        SUBTRACT=num-num1\n",
    "        print(SUBTRACT)\n",
    "    elif num2==\"3\":\n",
    "        MULTIPLY=num*num1\n",
    "        print(MULTIPLY)\n",
    "    else :\n",
    "        DIVIDE=num/num1\n",
    "        print(DIVIDE)\n",
    "    \n",
    "    #if and elif shpuld be in the same body "
   ]
  },
  {
   "cell_type": "code",
   "execution_count": 14,
   "metadata": {},
   "outputs": [
    {
     "name": "stdout",
     "output_type": "stream",
     "text": [
      "GIVE YOUR PIZZA ORDER\n",
      "What flavour you want..... chicken\n",
      "You order flavour:chicken\n",
      "what size you want: large\n",
      "your selected size is:large\n",
      "select topping :1\n",
      "select topping :\n",
      "select topping :21\n",
      "select topping :quit\n",
      "1\n",
      "\n",
      "21\n"
     ]
    }
   ],
   "source": [
    "print(\"GIVE YOUR PIZZA ORDER\")\n",
    "topping=[]\n",
    "while True:\n",
    "    a=input(\"What flavour you want..... \")\n",
    "    if a=='quit':\n",
    "        break\n",
    "    else:\n",
    "        print(\"You order flavour:\"+a )\n",
    "        break\n",
    "while True:\n",
    "    \n",
    "    b=input(\"what size you want: \")\n",
    "    if b==\"quit\":\n",
    "        break\n",
    "    else:\n",
    "        print(\"your selected size is:\"+b )\n",
    "        break\n",
    "while True:\n",
    "    c=input(\"select topping :\")\n",
    "    if c==\"quit\":\n",
    "        break\n",
    "    else:\n",
    "        topping.append(c)\n",
    "for z in topping:\n",
    "    print(z)\n",
    "    \n",
    "        \n",
    "\n",
    "#print(\"\\nyou order pizza is of flavour :\"+a)\n",
    "#print(\"you order pizza is of size:\"+b)\n",
    "#print (\"you order pizza is of topping :\"+c)\n",
    "\n",
    "\n",
    "    \n",
    "\n"
   ]
  },
  {
   "cell_type": "code",
   "execution_count": 1,
   "metadata": {},
   "outputs": [
    {
     "data": {
      "text/plain": [
       "0"
      ]
     },
     "execution_count": 1,
     "metadata": {},
     "output_type": "execute_result"
    }
   ],
   "source": [
    "4%2\n"
   ]
  },
  {
   "cell_type": "code",
   "execution_count": 2,
   "metadata": {},
   "outputs": [
    {
     "data": {
      "text/plain": [
       "'unu'"
      ]
     },
     "execution_count": 2,
     "metadata": {},
     "output_type": "execute_result"
    }
   ],
   "source": [
    "string=\"younus\"\n",
    "string[2:5]"
   ]
  },
  {
   "cell_type": "code",
   "execution_count": 4,
   "metadata": {},
   "outputs": [
    {
     "data": {
      "text/plain": [
       "''"
      ]
     },
     "execution_count": 4,
     "metadata": {},
     "output_type": "execute_result"
    }
   ],
   "source": [
    "string=\"younus\"\n",
    "string[5:2]"
   ]
  },
  {
   "cell_type": "code",
   "execution_count": 5,
   "metadata": {},
   "outputs": [
    {
     "data": {
      "text/plain": [
       "''"
      ]
     },
     "execution_count": 5,
     "metadata": {},
     "output_type": "execute_result"
    }
   ],
   "source": [
    "string=\"younus\"\n",
    "string[-1:-4]"
   ]
  },
  {
   "cell_type": "code",
   "execution_count": 6,
   "metadata": {},
   "outputs": [
    {
     "data": {
      "text/plain": [
       "'unu'"
      ]
     },
     "execution_count": 6,
     "metadata": {},
     "output_type": "execute_result"
    }
   ],
   "source": [
    "string=\"younus\"\n",
    "string[-4:-1]\n"
   ]
  },
  {
   "cell_type": "code",
   "execution_count": 7,
   "metadata": {},
   "outputs": [
    {
     "data": {
      "text/plain": [
       "'yuu'"
      ]
     },
     "execution_count": 7,
     "metadata": {},
     "output_type": "execute_result"
    }
   ],
   "source": [
    "string=\"younus\"\n",
    "string[::2]"
   ]
  },
  {
   "cell_type": "code",
   "execution_count": 8,
   "metadata": {},
   "outputs": [
    {
     "data": {
      "text/plain": [
       "'sunuoy'"
      ]
     },
     "execution_count": 8,
     "metadata": {},
     "output_type": "execute_result"
    }
   ],
   "source": [
    "string=\"younus\"\n",
    "string[::-1]"
   ]
  },
  {
   "cell_type": "markdown",
   "metadata": {},
   "source": [
    "# TEST CODE"
   ]
  },
  {
   "cell_type": "code",
   "execution_count": 19,
   "metadata": {},
   "outputs": [
    {
     "name": "stdout",
     "output_type": "stream",
     "text": [
      "0\n",
      "1\n",
      "2\n",
      "3\n",
      "4\n"
     ]
    }
   ],
   "source": [
    "for i in range(10):\n",
    "    if i==5:\n",
    "        break\n",
    "    else:\n",
    "        print(i)\n",
    "else:\n",
    "    print(\"here\")"
   ]
  },
  {
   "cell_type": "code",
   "execution_count": 20,
   "metadata": {},
   "outputs": [
    {
     "name": "stdout",
     "output_type": "stream",
     "text": [
      "0\n",
      "1\n",
      "2\n",
      "3\n",
      "4\n",
      "5\n",
      "6\n",
      "7\n",
      "8\n",
      "9\n",
      "here\n"
     ]
    }
   ],
   "source": [
    "for i in range(10):\n",
    "    if i==15:\n",
    "        break\n",
    "    else:\n",
    "        print(i)\n",
    "else:\n",
    "    print(\"here\")"
   ]
  },
  {
   "cell_type": "code",
   "execution_count": 28,
   "metadata": {},
   "outputs": [
    {
     "name": "stdout",
     "output_type": "stream",
     "text": [
      "0\n",
      "1\n",
      "2\n"
     ]
    }
   ],
   "source": [
    "x=(i for i in range (3) )\n",
    "for i in x:\n",
    "    print(i)"
   ]
  },
  {
   "cell_type": "code",
   "execution_count": 3,
   "metadata": {},
   "outputs": [
    {
     "name": "stdout",
     "output_type": "stream",
     "text": [
      "my,name,is,x,"
     ]
    }
   ],
   "source": [
    "string=\"my name is x\"\n",
    "for i in string.split():#here in this() we have to pass any variable from where we have to split\n",
    "    print(i,end=\",\")"
   ]
  },
  {
   "cell_type": "code",
   "execution_count": 8,
   "metadata": {},
   "outputs": [
    {
     "name": "stdout",
     "output_type": "stream",
     "text": [
      "my,name,is,x,"
     ]
    }
   ],
   "source": [
    "string=\"my name is x\"\n",
    "for i in string.split():\n",
    "    print(i,end=\",\")"
   ]
  },
  {
   "cell_type": "code",
   "execution_count": 11,
   "metadata": {},
   "outputs": [
    {
     "ename": "SyntaxError",
     "evalue": "invalid syntax (<ipython-input-11-01a53513db72>, line 3)",
     "output_type": "error",
     "traceback": [
      "\u001b[1;36m  File \u001b[1;32m\"<ipython-input-11-01a53513db72>\"\u001b[1;36m, line \u001b[1;32m3\u001b[0m\n\u001b[1;33m    for i not in a:\u001b[0m\n\u001b[1;37m            ^\u001b[0m\n\u001b[1;31mSyntaxError\u001b[0m\u001b[1;31m:\u001b[0m invalid syntax\n"
     ]
    }
   ],
   "source": [
    "a=[0,1,2,3]\n",
    "i=-2\n",
    "for i not in a:\n",
    "    print(i)\n",
    "    i+=1"
   ]
  },
  {
   "cell_type": "code",
   "execution_count": 22,
   "metadata": {},
   "outputs": [
    {
     "data": {
      "text/plain": [
       "['good']"
      ]
     },
     "execution_count": 22,
     "metadata": {},
     "output_type": "execute_result"
    }
   ],
   "source": [
    "l=[\"good\",\"oh!\",\"ecellent!\",\"#450\"]\n",
    "[n for n in l if n.isalpha() or n.isdigit()]"
   ]
  },
  {
   "cell_type": "code",
   "execution_count": 27,
   "metadata": {},
   "outputs": [
    {
     "name": "stdout",
     "output_type": "stream",
     "text": [
      "[(6, 11), (7, 15), (7, 11), (8, 15)]\n"
     ]
    }
   ],
   "source": [
    "s1=[6,7]\n",
    "s2=[11,15]\n",
    "s3=list()\n",
    "i=0\n",
    "j=0\n",
    "for i in s1:\n",
    "    for  j in s2:\n",
    "        s3.append((i,j))\n",
    "        i+=1 #IMP POINTS\n",
    "        j+=1 #IMP POINTS\n",
    "print(s3)        "
   ]
  },
  {
   "cell_type": "code",
   "execution_count": 34,
   "metadata": {},
   "outputs": [
    {
     "name": "stdout",
     "output_type": "stream",
     "text": [
      "{2: 1, 1: [2, 3, 4]}\n",
      "[2, 3, 4]\n",
      "3\n"
     ]
    }
   ],
   "source": [
    "a={}   #here we make a dictionary\n",
    "a[2]=1\n",
    "a[1]=[2,3,4]\n",
    "print(a)\n",
    "print(a[1])\n",
    "print(a[1][1])"
   ]
  },
  {
   "cell_type": "code",
   "execution_count": 35,
   "metadata": {},
   "outputs": [
    {
     "name": "stdout",
     "output_type": "stream",
     "text": [
      "[]\n"
     ]
    }
   ],
   "source": [
    "a=[1,12,3,4,5]\n",
    "a.clear()\n",
    "print(a)"
   ]
  },
  {
   "cell_type": "code",
   "execution_count": 36,
   "metadata": {},
   "outputs": [],
   "source": [
    "#in pop function we have to pass argument in dict but not in list"
   ]
  },
  {
   "cell_type": "code",
   "execution_count": 38,
   "metadata": {},
   "outputs": [
    {
     "name": "stdout",
     "output_type": "stream",
     "text": [
      "{1, 2, 3, 4, 5, 6, 7, 23, 56}\n"
     ]
    }
   ],
   "source": [
    "a=[1,2,3,4,5,6,7,1,2,23,4,5,56]\n",
    "c=set(a)#shortest way to remove duplicate\n",
    "print(c)"
   ]
  },
  {
   "cell_type": "code",
   "execution_count": 6,
   "metadata": {},
   "outputs": [],
   "source": [
    "string=\"younus,raza,fasih\"\n",
    "raza,age,name=string.split(\",\")"
   ]
  },
  {
   "cell_type": "code",
   "execution_count": 7,
   "metadata": {},
   "outputs": [
    {
     "name": "stdout",
     "output_type": "stream",
     "text": [
      "younus\n",
      "raza\n",
      "fasih\n"
     ]
    }
   ],
   "source": [
    "print(raza)\n",
    "print(age)\n",
    "print(name)"
   ]
  },
  {
   "cell_type": "code",
   "execution_count": 9,
   "metadata": {},
   "outputs": [
    {
     "data": {
      "text/plain": [
       "'younus,raza'"
      ]
     },
     "execution_count": 9,
     "metadata": {},
     "output_type": "execute_result"
    }
   ],
   "source": [
    "liss=[\"younus\",\"raza\"]\n",
    "(\",\".join (liss))"
   ]
  },
  {
   "cell_type": "markdown",
   "metadata": {},
   "source": [
    "# FUNCTION"
   ]
  },
  {
   "cell_type": "code",
   "execution_count": 10,
   "metadata": {},
   "outputs": [],
   "source": [
    "def function1():\n",
    "    print(\"HEllo FUnction\")"
   ]
  },
  {
   "cell_type": "code",
   "execution_count": 11,
   "metadata": {},
   "outputs": [
    {
     "name": "stdout",
     "output_type": "stream",
     "text": [
      "HEllo FUnction\n"
     ]
    }
   ],
   "source": [
    "function1()"
   ]
  },
  {
   "cell_type": "code",
   "execution_count": 27,
   "metadata": {},
   "outputs": [],
   "source": [
    "def odd_even(n):\n",
    "    if n%2==0:\n",
    "        print(\"even\")\n",
    "    else:\n",
    "        print(\"odd\")"
   ]
  },
  {
   "cell_type": "code",
   "execution_count": 28,
   "metadata": {},
   "outputs": [
    {
     "name": "stdout",
     "output_type": "stream",
     "text": [
      "ENTER A NUMBER:2\n",
      "even\n"
     ]
    }
   ],
   "source": [
    "num=int(input(\"ENTER A NUMBER:\"))\n",
    "odd_even(num)"
   ]
  },
  {
   "cell_type": "code",
   "execution_count": 29,
   "metadata": {},
   "outputs": [
    {
     "name": "stdout",
     "output_type": "stream",
     "text": [
      "ENTER A NUMBER:45\n",
      "odd\n"
     ]
    }
   ],
   "source": [
    "num=int(input(\"ENTER A NUMBER:\"))\n",
    "odd_even(num)"
   ]
  },
  {
   "cell_type": "code",
   "execution_count": 10,
   "metadata": {},
   "outputs": [],
   "source": [
    "def name(myname):\n",
    "    print(\"hello\",myname,\"!\")\n",
    "    print(myname)"
   ]
  },
  {
   "cell_type": "code",
   "execution_count": 11,
   "metadata": {},
   "outputs": [
    {
     "name": "stdout",
     "output_type": "stream",
     "text": [
      "hello younus !\n",
      "younus\n"
     ]
    }
   ],
   "source": [
    "name(\"younus\")"
   ]
  },
  {
   "cell_type": "code",
   "execution_count": 12,
   "metadata": {},
   "outputs": [
    {
     "name": "stdout",
     "output_type": "stream",
     "text": [
      "18\n"
     ]
    }
   ],
   "source": [
    "def sum1(a,b,c):\n",
    "    return a*b-c\n",
    "\n",
    "d=sum1(4,5,2)\n",
    "print(d)"
   ]
  },
  {
   "cell_type": "code",
   "execution_count": 13,
   "metadata": {},
   "outputs": [
    {
     "data": {
      "text/plain": [
       "35"
      ]
     },
     "execution_count": 13,
     "metadata": {},
     "output_type": "execute_result"
    }
   ],
   "source": [
    "sum1(5,10,15) #POSITIONAL ARGUENT"
   ]
  },
  {
   "cell_type": "code",
   "execution_count": 14,
   "metadata": {},
   "outputs": [
    {
     "name": "stdout",
     "output_type": "stream",
     "text": [
      "12\n"
     ]
    }
   ],
   "source": [
    "def addition(a,b):\n",
    "    c=a+b\n",
    "    return(c)\n",
    "    \n",
    "d=addition(5,5) \n",
    "print(d+2)"
   ]
  },
  {
   "cell_type": "code",
   "execution_count": 15,
   "metadata": {},
   "outputs": [],
   "source": [
    "def result(name,m1,m2,m3):\n",
    "    print(\"\\t\\t\\t*****RESULT*****\")\n",
    "    print(\"\\nSTUDENT NAME IS:\"+name)\n",
    "    total_marks=int(m1)+int(m2)+int(m3)\n",
    "    \n",
    "    print(\"TOTAL MARKS ARE:\"+str(total_marks))\n",
    "    if total_marks>=240:\n",
    "        return(\"A+ grade\")\n",
    "    elif total_marks<240:\n",
    "        return('A grade')\n",
    "    else:\n",
    "        return('fail')\n",
    "        \n",
    "        \n",
    "   \n",
    "    \n",
    "    \n",
    "    "
   ]
  },
  {
   "cell_type": "code",
   "execution_count": 16,
   "metadata": {},
   "outputs": [
    {
     "name": "stdout",
     "output_type": "stream",
     "text": [
      "enter your name:\n",
      "marks in english subject:\n",
      "marks in physics subject:\n",
      "marks in maths subject:\n",
      "\t\t\t*****RESULT*****\n",
      "\n",
      "STUDENT NAME IS:\n"
     ]
    },
    {
     "ename": "ValueError",
     "evalue": "invalid literal for int() with base 10: ''",
     "output_type": "error",
     "traceback": [
      "\u001b[1;31m---------------------------------------------------------------------------\u001b[0m",
      "\u001b[1;31mValueError\u001b[0m                                Traceback (most recent call last)",
      "\u001b[1;32m<ipython-input-16-5af28123687f>\u001b[0m in \u001b[0;36m<module>\u001b[1;34m\u001b[0m\n\u001b[0;32m      5\u001b[0m \u001b[1;33m\u001b[0m\u001b[0m\n\u001b[0;32m      6\u001b[0m \u001b[1;33m\u001b[0m\u001b[0m\n\u001b[1;32m----> 7\u001b[1;33m \u001b[0mresult\u001b[0m\u001b[1;33m(\u001b[0m\u001b[0mname\u001b[0m\u001b[1;33m,\u001b[0m\u001b[0mm1\u001b[0m\u001b[1;33m,\u001b[0m\u001b[0mm2\u001b[0m\u001b[1;33m,\u001b[0m\u001b[0mm3\u001b[0m\u001b[1;33m)\u001b[0m\u001b[1;33m\u001b[0m\u001b[1;33m\u001b[0m\u001b[0m\n\u001b[0m",
      "\u001b[1;32m<ipython-input-15-30cb6887dd10>\u001b[0m in \u001b[0;36mresult\u001b[1;34m(name, m1, m2, m3)\u001b[0m\n\u001b[0;32m      2\u001b[0m     \u001b[0mprint\u001b[0m\u001b[1;33m(\u001b[0m\u001b[1;34m\"\\t\\t\\t*****RESULT*****\"\u001b[0m\u001b[1;33m)\u001b[0m\u001b[1;33m\u001b[0m\u001b[1;33m\u001b[0m\u001b[0m\n\u001b[0;32m      3\u001b[0m     \u001b[0mprint\u001b[0m\u001b[1;33m(\u001b[0m\u001b[1;34m\"\\nSTUDENT NAME IS:\"\u001b[0m\u001b[1;33m+\u001b[0m\u001b[0mname\u001b[0m\u001b[1;33m)\u001b[0m\u001b[1;33m\u001b[0m\u001b[1;33m\u001b[0m\u001b[0m\n\u001b[1;32m----> 4\u001b[1;33m     \u001b[0mtotal_marks\u001b[0m\u001b[1;33m=\u001b[0m\u001b[0mint\u001b[0m\u001b[1;33m(\u001b[0m\u001b[0mm1\u001b[0m\u001b[1;33m)\u001b[0m\u001b[1;33m+\u001b[0m\u001b[0mint\u001b[0m\u001b[1;33m(\u001b[0m\u001b[0mm2\u001b[0m\u001b[1;33m)\u001b[0m\u001b[1;33m+\u001b[0m\u001b[0mint\u001b[0m\u001b[1;33m(\u001b[0m\u001b[0mm3\u001b[0m\u001b[1;33m)\u001b[0m\u001b[1;33m\u001b[0m\u001b[1;33m\u001b[0m\u001b[0m\n\u001b[0m\u001b[0;32m      5\u001b[0m \u001b[1;33m\u001b[0m\u001b[0m\n\u001b[0;32m      6\u001b[0m     \u001b[0mprint\u001b[0m\u001b[1;33m(\u001b[0m\u001b[1;34m\"TOTAL MARKS ARE:\"\u001b[0m\u001b[1;33m+\u001b[0m\u001b[0mstr\u001b[0m\u001b[1;33m(\u001b[0m\u001b[0mtotal_marks\u001b[0m\u001b[1;33m)\u001b[0m\u001b[1;33m)\u001b[0m\u001b[1;33m\u001b[0m\u001b[1;33m\u001b[0m\u001b[0m\n",
      "\u001b[1;31mValueError\u001b[0m: invalid literal for int() with base 10: ''"
     ]
    }
   ],
   "source": [
    "name=input(\"enter your name:\")\n",
    "m1=input(\"marks in english subject:\")\n",
    "m2=input(\"marks in physics subject:\")\n",
    "m3=input(\"marks in maths subject:\")\n",
    "\n",
    "\n",
    "result(name,m1,m2,m3)"
   ]
  },
  {
   "cell_type": "code",
   "execution_count": 20,
   "metadata": {},
   "outputs": [],
   "source": [
    "def couples(hname,wname):\n",
    "    print(f\"The name of the husband is :{hname} and the name of the wife is: {wname} .\")"
   ]
  },
  {
   "cell_type": "code",
   "execution_count": 21,
   "metadata": {},
   "outputs": [
    {
     "name": "stdout",
     "output_type": "stream",
     "text": [
      "The name of the husband is :ahmed and the name of the wife is: wania .\n"
     ]
    }
   ],
   "source": [
    "couples(\"ahmed\",\"wania\")"
   ]
  },
  {
   "cell_type": "code",
   "execution_count": 22,
   "metadata": {},
   "outputs": [
    {
     "name": "stdout",
     "output_type": "stream",
     "text": [
      "The name of the husband is :ahmed and the name of the wife is: fatima .\n"
     ]
    }
   ],
   "source": [
    "couples(wname=\"fatima\",hname=\"ahmed\")  #KEYTWORD ARGUMNET"
   ]
  },
  {
   "cell_type": "code",
   "execution_count": 23,
   "metadata": {},
   "outputs": [],
   "source": [
    "def my_info(name,age):\n",
    "    print(f\"my name is {name}.\")\n",
    "    print(f\"I am {age} years old.\")"
   ]
  },
  {
   "cell_type": "code",
   "execution_count": 24,
   "metadata": {},
   "outputs": [
    {
     "name": "stdout",
     "output_type": "stream",
     "text": [
      "my name is raza.\n",
      "I am 19 years old.\n"
     ]
    }
   ],
   "source": [
    "my_info(\"raza\",19)"
   ]
  },
  {
   "cell_type": "code",
   "execution_count": 3,
   "metadata": {},
   "outputs": [],
   "source": [
    "def cal():\n",
    "    print(\"\\t\\t\\t\\tCALCULATOR\")\n",
    "    print(\"PRESS A TO ADD\")\n",
    "    print(\"PRESS B TO SUBTRACT\")\n",
    "    print(\"PRESS C TO MULTIPLY\")\n",
    "    print(\"PRESS D TO DIVIDE\")\n",
    "    print(\"PRESS QUIT TO EXIT \\n\")\n",
    "    while True:\n",
    "        a=int(input(\"enter a number:\"))\n",
    "        b=int(input(\"enter a number:\"))\n",
    "        opera=input(\"what function you want to perform: \")\n",
    "        if opera==\"A\":\n",
    "            c=a+b\n",
    "            print(c)\n",
    "        elif opera==\"B\":\n",
    "            c=a-b\n",
    "            print(c)\n",
    "        elif opera==\"C\":\n",
    "            c=a*b\n",
    "            print(c)\n",
    "        elif opera==\"D\":\n",
    "            c=a/b\n",
    "            print(c)\n",
    "        elif opera==\"QUIT\":\n",
    "            break\n",
    "        else:\n",
    "            print(\"invalid operator\")"
   ]
  },
  {
   "cell_type": "code",
   "execution_count": 4,
   "metadata": {},
   "outputs": [
    {
     "name": "stdout",
     "output_type": "stream",
     "text": [
      "\t\t\t\tCALCULATOR\n",
      "PRESS A TO ADD\n",
      "PRESS B TO SUBTRACT\n",
      "PRESS C TO MULTIPLY\n",
      "PRESS D TO DIVIDE\n",
      "PRESS QUIT TO EXIT \n",
      "\n",
      "enter a number:5\n",
      "enter a number:5\n",
      "what function you want to perform: QUIT\n"
     ]
    }
   ],
   "source": [
    "cal()"
   ]
  },
  {
   "cell_type": "markdown",
   "metadata": {},
   "source": [
    "# LIST IN A FUNCTION "
   ]
  },
  {
   "cell_type": "code",
   "execution_count": 14,
   "metadata": {},
   "outputs": [],
   "source": [
    "def my_list(a):\n",
    "    for list_1 in a:\n",
    "        print(\"hello\",list_1)"
   ]
  },
  {
   "cell_type": "code",
   "execution_count": 27,
   "metadata": {},
   "outputs": [],
   "source": [
    "def cal(a,b,c):\n",
    "    if c==\"+\":\n",
    "        return(a+b)\n",
    "    elif c==\"-\":\n",
    "        return(a-b)\n",
    "    elif c==\"*\":\n",
    "        return(a*b)\n",
    "    elif c==\"/\":\n",
    "        return(a/b)\n",
    "    else:\n",
    "        print(\"INVALID OPERATION \")"
   ]
  },
  {
   "cell_type": "code",
   "execution_count": 4,
   "metadata": {},
   "outputs": [],
   "source": [
    "def family(s_name,f_name):  ##keyword argument\n",
    "    print(f\"father name is {f_name}\")\n",
    "    print(f\"son name is {s_name}\")"
   ]
  },
  {
   "cell_type": "code",
   "execution_count": 5,
   "metadata": {},
   "outputs": [
    {
     "name": "stdout",
     "output_type": "stream",
     "text": [
      "father name is yousuf\n",
      "son name is younus\n"
     ]
    }
   ],
   "source": [
    "family(f_name=\"yousuf\",s_name=\"younus\")"
   ]
  },
  {
   "cell_type": "code",
   "execution_count": 6,
   "metadata": {},
   "outputs": [],
   "source": [
    "def friend(a):\n",
    "    for b in a:\n",
    "        print(b)"
   ]
  },
  {
   "cell_type": "code",
   "execution_count": 7,
   "metadata": {},
   "outputs": [
    {
     "name": "stdout",
     "output_type": "stream",
     "text": [
      "raza\n",
      "younus\n",
      "ahsan\n",
      "fahad\n",
      "saleem\n"
     ]
    }
   ],
   "source": [
    "c=[\"raza\",\"younus\",\"ahsan\",\"fahad\",\"saleem\"]\n",
    "\n",
    "friend(c)"
   ]
  },
  {
   "cell_type": "code",
   "execution_count": 22,
   "metadata": {},
   "outputs": [],
   "source": [
    "def my_full_name(f_name,l_name,m_name=\" \"):\n",
    "    if m_name:\n",
    "        print(f\"MY FULL NAME IS {f_name.upper()} {l_name.upper()} {m_name.upper()}\")\n",
    "    else:\n",
    "        print(f\"MY FULL NAME IS {f_name} {l_name} {m_name}\")\n",
    "        "
   ]
  },
  {
   "cell_type": "code",
   "execution_count": 23,
   "metadata": {},
   "outputs": [
    {
     "name": "stdout",
     "output_type": "stream",
     "text": [
      "MY FULL NAME IS MUHAMMAD YOUNUS RAZA\n"
     ]
    }
   ],
   "source": [
    " my_full_name(\"muhammad\",\"younus\",\"raza\")"
   ]
  },
  {
   "cell_type": "code",
   "execution_count": 24,
   "metadata": {},
   "outputs": [
    {
     "name": "stdout",
     "output_type": "stream",
     "text": [
      "MY FULL NAME IS MUHAMMAD YOUNUS  \n"
     ]
    }
   ],
   "source": [
    "my_full_name(\"muhammad\",\"younus\")"
   ]
  },
  {
   "cell_type": "code",
   "execution_count": 30,
   "metadata": {},
   "outputs": [],
   "source": [
    "def tax(shopping,tax=5):\n",
    "    if shopping>=5000:\n",
    "        tax=10\n",
    "        print(f\"TAX {tax}% WILL BE APPLIED ON YOUR SHOPPING\")\n",
    "    else:\n",
    "        print(f\"TAX {tax}% WILL BE APPLIED ON YOUR SHOPPING\")"
   ]
  },
  {
   "cell_type": "code",
   "execution_count": 31,
   "metadata": {},
   "outputs": [
    {
     "name": "stdout",
     "output_type": "stream",
     "text": [
      "TAX 10% WILL BE APPLIED ON YOUR SHOPPING\n"
     ]
    }
   ],
   "source": [
    "tax(5000)"
   ]
  },
  {
   "cell_type": "code",
   "execution_count": 32,
   "metadata": {},
   "outputs": [
    {
     "name": "stdout",
     "output_type": "stream",
     "text": [
      "TAX 5% WILL BE APPLIED ON YOUR SHOPPING\n"
     ]
    }
   ],
   "source": [
    "tax(4999)"
   ]
  },
  {
   "cell_type": "code",
   "execution_count": 52,
   "metadata": {},
   "outputs": [],
   "source": [
    "def number(*n):\n",
    "    total=0\n",
    "    for a in n:\n",
    "        total+=a\n",
    "    return total    "
   ]
  },
  {
   "cell_type": "code",
   "execution_count": 53,
   "metadata": {},
   "outputs": [
    {
     "data": {
      "text/plain": [
       "15"
      ]
     },
     "execution_count": 53,
     "metadata": {},
     "output_type": "execute_result"
    }
   ],
   "source": [
    "number(1,2,3,4,5)"
   ]
  },
  {
   "cell_type": "code",
   "execution_count": 3,
   "metadata": {},
   "outputs": [
    {
     "name": "stdout",
     "output_type": "stream",
     "text": [
      "I have a city .\n",
      "Its company is  HONDA\n"
     ]
    }
   ],
   "source": [
    "def mycar(name,company='HONDA',MODEL=2012):  #DEFAULT PARAMETER\n",
    "    print(\"I have a\",name,\".\")\n",
    "    print(\"Its company is \",company)\n",
    "    \n",
    "mycar(\"city\")    \n",
    "    "
   ]
  },
  {
   "cell_type": "code",
   "execution_count": 5,
   "metadata": {},
   "outputs": [
    {
     "name": "stdout",
     "output_type": "stream",
     "text": [
      "THE SIZE OF MY SHORT IS : 33\n",
      "the text i want to write on it is: APNA TIME AYGA!\n"
     ]
    }
   ],
   "source": [
    "def shirt(size,text=\"APNA TIME AYGA!\"):\n",
    "    print(\"THE SIZE OF MY SHORT IS :\",size)\n",
    "    print(\"the text i want to write on it is:\",text)\n",
    "shirt(33)"
   ]
  },
  {
   "cell_type": "code",
   "execution_count": 58,
   "metadata": {},
   "outputs": [],
   "source": [
    "def info(f_name,l_name,m_name=\"\"):\n",
    "    if m_name:\n",
    "        full_name=f_name+\" \"+m_name+\" \"+l_name\n",
    "    else:\n",
    "        full_name=f_name+\" \"+l_name\n",
    "    return full_name    \n",
    "  "
   ]
  },
  {
   "cell_type": "code",
   "execution_count": 59,
   "metadata": {},
   "outputs": [
    {
     "name": "stdout",
     "output_type": "stream",
     "text": [
      "younus  raza\n"
     ]
    }
   ],
   "source": [
    "a=info(\"younus\",\"raza\")\n",
    "print(a)"
   ]
  },
  {
   "cell_type": "code",
   "execution_count": 60,
   "metadata": {},
   "outputs": [
    {
     "name": "stdout",
     "output_type": "stream",
     "text": [
      "muhammad younus\n"
     ]
    }
   ],
   "source": [
    "b=info(\"muhammad\",\"younus\",'raza')\n",
    "print(b)"
   ]
  },
  {
   "cell_type": "code",
   "execution_count": 71,
   "metadata": {},
   "outputs": [],
   "source": [
    "def info_form(f_name,l_name,m_name=\"\",age=0,location=\"\"):\n",
    "    if m_name or age or location:\n",
    "        print(\"FIRST_NAME:\",f_name,\"\\nMIDDLE_NAME:\",m_name,\"\\nLAST_NAME:\",l_name,\"\\nAGE:\",str(age),\"\\nLOCATION:\",location)\n",
    "    else:\n",
    "         print(\"FIRST_NAME:\",f_name,\"\\nLAST_NAME:\",l_name)\n",
    "        "
   ]
  },
  {
   "cell_type": "code",
   "execution_count": 72,
   "metadata": {
    "scrolled": false
   },
   "outputs": [
    {
     "name": "stdout",
     "output_type": "stream",
     "text": [
      "FIRST_NAME: muhammad \n",
      "MIDDLE_NAME: raza \n",
      "LAST_NAME: younus \n",
      "AGE: 19 \n",
      "LOCATION: dhoraji\n"
     ]
    }
   ],
   "source": [
    "info_form(\"muhammad\",\"younus\",\"raza\",19,\"dhoraji\")"
   ]
  },
  {
   "cell_type": "code",
   "execution_count": 79,
   "metadata": {},
   "outputs": [
    {
     "name": "stdout",
     "output_type": "stream",
     "text": [
      "***HERE IS YOUR PIZZA***\n",
      "c\n",
      "h\n",
      "e\n",
      "e\n",
      "s\n",
      "e\n"
     ]
    }
   ],
   "source": [
    "def pizza(topping):\n",
    "    print(\"***HERE IS YOUR PIZZA***\")\n",
    "    for toppings in topping:\n",
    "        print(toppings)\n",
    "pizza(\"cheese\")        "
   ]
  },
  {
   "cell_type": "markdown",
   "metadata": {},
   "source": [
    "# * and ** function"
   ]
  },
  {
   "cell_type": "code",
   "execution_count": 88,
   "metadata": {},
   "outputs": [
    {
     "name": "stdout",
     "output_type": "stream",
     "text": [
      "('cheese', 'olive', 'mashroom')\n",
      "***HERE IS YOUR PIZZA***\n",
      "cheese\n",
      "olive\n",
      "mashroom\n"
     ]
    }
   ],
   "source": [
    "def pizza(*topping):\n",
    "    print(topping) #tupple\n",
    "    print(\"***HERE IS YOUR PIZZA***\")\n",
    "    for toppings in topping:\n",
    "        print(toppings)\n",
    "pizza(\"cheese\",\"olive\",'mashroom')"
   ]
  },
  {
   "cell_type": "code",
   "execution_count": 89,
   "metadata": {},
   "outputs": [],
   "source": [
    "##*will give in tuple form\n",
    "##**will give in list or dict form"
   ]
  },
  {
   "cell_type": "code",
   "execution_count": 90,
   "metadata": {},
   "outputs": [
    {
     "name": "stdout",
     "output_type": "stream",
     "text": [
      "***HERE IS YOUR PIZZA***\n",
      "cheese\n",
      "olive\n",
      "mashroom\n"
     ]
    }
   ],
   "source": [
    "def pizza(a,*topping):\n",
    "    print(\"***HERE IS YOUR PIZZA***\")\n",
    "    print(a)\n",
    "    for toppings in topping:\n",
    "        print(toppings)\n",
    "pizza(\"cheese\",\"olive\",'mashroom')"
   ]
  },
  {
   "cell_type": "code",
   "execution_count": 93,
   "metadata": {},
   "outputs": [
    {
     "name": "stdout",
     "output_type": "stream",
     "text": [
      "Malai botti Pepsi {'end': ['ice cream', 'chocloate']}\n"
     ]
    }
   ],
   "source": [
    "def kababjees(food,*drink,**sweet_dish):\n",
    "    print(food,drink[0],sweet_dish)\n",
    "   \n",
    "kababjees(\"Malai botti\",\"Pepsi\",end=[\"ice cream\",\"chocloate\"])"
   ]
  },
  {
   "cell_type": "markdown",
   "metadata": {},
   "source": [
    "# LIST COMPREHENSION"
   ]
  },
  {
   "cell_type": "code",
   "execution_count": 3,
   "metadata": {},
   "outputs": [
    {
     "name": "stdout",
     "output_type": "stream",
     "text": [
      "[0, 2, 4, 6, 8, 10, 12, 14, 16, 18, 20, 22, 24, 26, 28]\n"
     ]
    }
   ],
   "source": [
    "elist=[]\n",
    "for a in range (0,30):\n",
    "    if a%2==0:\n",
    "        elist.append(a)\n",
    "print(elist)        "
   ]
  },
  {
   "cell_type": "code",
   "execution_count": 4,
   "metadata": {},
   "outputs": [],
   "source": [
    "#WE CAN WRITE WHOLE IN SHORT FORM TO AVOID LINE WAISTING"
   ]
  },
  {
   "cell_type": "code",
   "execution_count": 8,
   "metadata": {},
   "outputs": [
    {
     "data": {
      "text/plain": [
       "[0, 2, 4, 6, 8, 10, 12, 14, 16, 18, 20, 22, 24, 26, 28]"
      ]
     },
     "execution_count": 8,
     "metadata": {},
     "output_type": "execute_result"
    }
   ],
   "source": [
    "elist=[a for a in range(0,30) if a%2==0]\n",
    "\n",
    "elist"
   ]
  },
  {
   "cell_type": "code",
   "execution_count": 10,
   "metadata": {},
   "outputs": [
    {
     "data": {
      "text/plain": [
       "[1, 4, 9, 16, 25, 36, 49, 64, 81]"
      ]
     },
     "execution_count": 10,
     "metadata": {},
     "output_type": "execute_result"
    }
   ],
   "source": [
    "[ x**2 for x in range(1,10)]"
   ]
  },
  {
   "cell_type": "code",
   "execution_count": 11,
   "metadata": {},
   "outputs": [
    {
     "data": {
      "text/plain": [
       "[1, 3, 5, 7, 9, 11, 13, 15, 17, 19, 21, 23, 25, 27, 29]"
      ]
     },
     "execution_count": 11,
     "metadata": {},
     "output_type": "execute_result"
    }
   ],
   "source": [
    "[a for a in range(1,30) if a%2!=0]"
   ]
  },
  {
   "cell_type": "code",
   "execution_count": 30,
   "metadata": {},
   "outputs": [
    {
     "data": {
      "text/plain": [
       "[(1, 3), (1, 4), (2, 3), (2, 1), (2, 4), (3, 1), (3, 4)]"
      ]
     },
     "execution_count": 30,
     "metadata": {},
     "output_type": "execute_result"
    }
   ],
   "source": [
    "[(x,y) for x in [1,2,3] for y in [3,1,4] if x!=y]"
   ]
  },
  {
   "cell_type": "markdown",
   "metadata": {},
   "source": [
    "# EXAMPLE"
   ]
  },
  {
   "cell_type": "code",
   "execution_count": 35,
   "metadata": {},
   "outputs": [],
   "source": [
    "vec=[-4,-2,0,2,4]"
   ]
  },
  {
   "cell_type": "code",
   "execution_count": 37,
   "metadata": {},
   "outputs": [
    {
     "data": {
      "text/plain": [
       "[-8, -4, 0, 4, 8]"
      ]
     },
     "execution_count": 37,
     "metadata": {},
     "output_type": "execute_result"
    }
   ],
   "source": [
    "[x*2 for x in vec]"
   ]
  },
  {
   "cell_type": "code",
   "execution_count": 38,
   "metadata": {},
   "outputs": [
    {
     "data": {
      "text/plain": [
       "[0, 2, 4]"
      ]
     },
     "execution_count": 38,
     "metadata": {},
     "output_type": "execute_result"
    }
   ],
   "source": [
    "[x for x in vec if x>=0]"
   ]
  },
  {
   "cell_type": "markdown",
   "metadata": {},
   "source": [
    "## absolute function "
   ]
  },
  {
   "cell_type": "code",
   "execution_count": 39,
   "metadata": {},
   "outputs": [
    {
     "data": {
      "text/plain": [
       "[4, 2, 0, 2, 4]"
      ]
     },
     "execution_count": 39,
     "metadata": {},
     "output_type": "execute_result"
    }
   ],
   "source": [
    "[abs(a) for a in vec]"
   ]
  },
  {
   "cell_type": "code",
   "execution_count": 41,
   "metadata": {},
   "outputs": [
    {
     "data": {
      "text/plain": [
       "['banana', 'apple', 'pineapple']"
      ]
     },
     "execution_count": 41,
     "metadata": {},
     "output_type": "execute_result"
    }
   ],
   "source": [
    "freshfruit=[' banana ',' apple ',' pineapple ']\n",
    "[weapon.strip() for weapon in freshfruit ]"
   ]
  },
  {
   "cell_type": "code",
   "execution_count": 42,
   "metadata": {},
   "outputs": [],
   "source": [
    "#create a 2-tuple of number and square"
   ]
  },
  {
   "cell_type": "code",
   "execution_count": 52,
   "metadata": {},
   "outputs": [
    {
     "data": {
      "text/plain": [
       "[(0, 0),\n",
       " (1, 1),\n",
       " (2, 4),\n",
       " (3, 9),\n",
       " (4, 16),\n",
       " (5, 25),\n",
       " (6, 36),\n",
       " (7, 49),\n",
       " (8, 64),\n",
       " (9, 81),\n",
       " (10, 100)]"
      ]
     },
     "execution_count": 52,
     "metadata": {},
     "output_type": "execute_result"
    }
   ],
   "source": [
    "[(x,x**2) for x in range(0,11) ]"
   ]
  },
  {
   "cell_type": "code",
   "execution_count": 53,
   "metadata": {},
   "outputs": [],
   "source": [
    "#flatten a list using a listcomp with two \"for\""
   ]
  },
  {
   "cell_type": "code",
   "execution_count": 54,
   "metadata": {},
   "outputs": [
    {
     "data": {
      "text/plain": [
       "[1, 2, 3, 4, 5, 6, 7, 8, 9]"
      ]
     },
     "execution_count": 54,
     "metadata": {},
     "output_type": "execute_result"
    }
   ],
   "source": [
    "vec = [[1,2,3], [4,5,6], [7,8,9]]\n",
    "[num for elem in vec for num in elem]"
   ]
  },
  {
   "cell_type": "markdown",
   "metadata": {},
   "source": [
    "# EXTRA FUNCTION"
   ]
  },
  {
   "cell_type": "raw",
   "metadata": {},
   "source": [
    "name='shahzad'"
   ]
  },
  {
   "cell_type": "code",
   "execution_count": 58,
   "metadata": {},
   "outputs": [
    {
     "data": {
      "text/plain": [
       "'           shahzad            '"
      ]
     },
     "execution_count": 58,
     "metadata": {},
     "output_type": "execute_result"
    }
   ],
   "source": [
    "name.center(30)   #30 is the total no of gaps"
   ]
  },
  {
   "cell_type": "code",
   "execution_count": 59,
   "metadata": {},
   "outputs": [
    {
     "data": {
      "text/plain": [
       "'shahzad------------------'"
      ]
     },
     "execution_count": 59,
     "metadata": {},
     "output_type": "execute_result"
    }
   ],
   "source": [
    "name.ljust(25,'-')"
   ]
  },
  {
   "cell_type": "code",
   "execution_count": 60,
   "metadata": {},
   "outputs": [
    {
     "data": {
      "text/plain": [
       "'------------------shahzad'"
      ]
     },
     "execution_count": 60,
     "metadata": {},
     "output_type": "execute_result"
    }
   ],
   "source": [
    "name.rjust(25,'-')"
   ]
  },
  {
   "cell_type": "code",
   "execution_count": 68,
   "metadata": {},
   "outputs": [],
   "source": [
    "vec = [[1,2,3], [4,5,6], [7,8,9]]"
   ]
  },
  {
   "cell_type": "code",
   "execution_count": 71,
   "metadata": {},
   "outputs": [],
   "source": [
    "a=[]\n",
    "for elem in vec:\n",
    "    for num in elem:\n",
    "        a.append(num)\n",
    "        "
   ]
  },
  {
   "cell_type": "code",
   "execution_count": 111,
   "metadata": {},
   "outputs": [
    {
     "name": "stdout",
     "output_type": "stream",
     "text": [
      "[1, 2, 3, 4, 5, 6, 7, 8, 9]\n"
     ]
    }
   ],
   "source": [
    "print(a)"
   ]
  },
  {
   "cell_type": "markdown",
   "metadata": {},
   "source": [
    "# OBJECT"
   ]
  },
  {
   "cell_type": "markdown",
   "metadata": {},
   "source": [
    "## CLASSES"
   ]
  },
  {
   "cell_type": "code",
   "execution_count": null,
   "metadata": {},
   "outputs": [],
   "source": [
    "human\n",
    "animal\n",
    "tree\n",
    "vehicle\n",
    "building\n",
    "machine\n",
    "food\n",
    "clothes\n",
    "matter"
   ]
  },
  {
   "cell_type": "code",
   "execution_count": 6,
   "metadata": {},
   "outputs": [],
   "source": [
    "class dog():   #behaviour as function and variable as property\n",
    "    def bark(): #pass is use to set an empty class and function\n",
    "        pass\n",
    "    def run():\n",
    "        pass\n"
   ]
  },
  {
   "cell_type": "markdown",
   "metadata": {},
   "source": [
    "# MAKING A CLASS"
   ]
  },
  {
   "cell_type": "code",
   "execution_count": 34,
   "metadata": {},
   "outputs": [],
   "source": [
    "class dog():\n",
    "    def __init__(self,name,age):\n",
    "        self.name=name\n",
    "        self.age=age\n",
    "    def sit(self):\n",
    "        print(self.name.title()+\" \"+\" is now sitting\")\n",
    "    def rol_over(self):\n",
    "        print(self.name.title+\"rolled over!\")"
   ]
  },
  {
   "cell_type": "markdown",
   "metadata": {},
   "source": [
    "## CREATING A CLASS"
   ]
  },
  {
   "cell_type": "code",
   "execution_count": 36,
   "metadata": {},
   "outputs": [],
   "source": [
    "a=dog(\"tommy\",5)"
   ]
  },
  {
   "cell_type": "code",
   "execution_count": 37,
   "metadata": {},
   "outputs": [],
   "source": [
    "b=dog(\"Helli\",4)"
   ]
  },
  {
   "cell_type": "code",
   "execution_count": 38,
   "metadata": {},
   "outputs": [],
   "source": [
    "c=dog(\"abcd\",3)"
   ]
  },
  {
   "cell_type": "code",
   "execution_count": 39,
   "metadata": {},
   "outputs": [
    {
     "data": {
      "text/plain": [
       "'tommy'"
      ]
     },
     "execution_count": 39,
     "metadata": {},
     "output_type": "execute_result"
    }
   ],
   "source": [
    "a.name"
   ]
  },
  {
   "cell_type": "code",
   "execution_count": 40,
   "metadata": {},
   "outputs": [
    {
     "data": {
      "text/plain": [
       "'abcd'"
      ]
     },
     "execution_count": 40,
     "metadata": {},
     "output_type": "execute_result"
    }
   ],
   "source": [
    "c.name"
   ]
  },
  {
   "cell_type": "code",
   "execution_count": 41,
   "metadata": {},
   "outputs": [
    {
     "name": "stdout",
     "output_type": "stream",
     "text": [
      "Abcd  is now sitting\n"
     ]
    }
   ],
   "source": [
    "c.sit()"
   ]
  },
  {
   "cell_type": "code",
   "execution_count": 67,
   "metadata": {},
   "outputs": [],
   "source": [
    "class car():\n",
    "    def __init__(self,model_name,colour,seating_capacity):\n",
    "        self.model_name=model_name\n",
    "        self.colour=colour\n",
    "        self.seating_capacity=seating_capacity\n",
    "    def run(self):\n",
    "        print(self.model_name +\" \"+\"can run at high speed\")\n",
    "    "
   ]
  },
  {
   "cell_type": "code",
   "execution_count": 68,
   "metadata": {},
   "outputs": [],
   "source": [
    "mehran=car(\"mehran_2006\",\"red\",\"4\")"
   ]
  },
  {
   "cell_type": "code",
   "execution_count": 69,
   "metadata": {},
   "outputs": [
    {
     "data": {
      "text/plain": [
       "'mehran_2006'"
      ]
     },
     "execution_count": 69,
     "metadata": {},
     "output_type": "execute_result"
    }
   ],
   "source": [
    "mehran.model_name"
   ]
  },
  {
   "cell_type": "code",
   "execution_count": 70,
   "metadata": {},
   "outputs": [
    {
     "name": "stdout",
     "output_type": "stream",
     "text": [
      "mehran_2006 can run at high speed\n"
     ]
    }
   ],
   "source": [
    "mehran.run()"
   ]
  },
  {
   "cell_type": "code",
   "execution_count": null,
   "metadata": {},
   "outputs": [],
   "source": []
  },
  {
   "cell_type": "code",
   "execution_count": 18,
   "metadata": {},
   "outputs": [],
   "source": [
    "class resturant():\n",
    "    def __init__(self,name,cuisine_type,open_close):\n",
    "        self.name=name\n",
    "        self.cuisine_type=cuisine_type\n",
    "        self.open_close=open_close\n",
    "        self.number_served=10\n",
    "    def describe_resturant(self):\n",
    "        print(f\"returant name is {self.name} and cuisine type is {self.cuisine_type}\")\n",
    "        \n",
    "    def open_returant(self):\n",
    "        print(f\"resturant is {self.open_close}\")\n",
    "        \n",
    "    def set_number_served(self,coustomer_served):\n",
    "        self.number_served=coustomer_served\n",
    "        return(f\"YOUR RESTURANT HAS SERVED {self.number_served} COUSTOMER TODAY.\")\n",
    "    \n",
    "    def increament_number(self,number_serve):\n",
    "        self.number_served+=number_serve\n",
    "        return(f\"YOUR RESTURANT HAS SERVED {self.number_served} COUSTOMER TODAY.\")\n",
    "        "
   ]
  },
  {
   "cell_type": "code",
   "execution_count": null,
   "metadata": {},
   "outputs": [],
   "source": []
  },
  {
   "cell_type": "code",
   "execution_count": 12,
   "metadata": {},
   "outputs": [],
   "source": [
    "a=resturant(\"HotNroll\",\"fast_food\",\"open\")"
   ]
  },
  {
   "cell_type": "code",
   "execution_count": 13,
   "metadata": {},
   "outputs": [
    {
     "data": {
      "text/plain": [
       "'HotNroll'"
      ]
     },
     "execution_count": 13,
     "metadata": {},
     "output_type": "execute_result"
    }
   ],
   "source": [
    "a.name"
   ]
  },
  {
   "cell_type": "code",
   "execution_count": 14,
   "metadata": {},
   "outputs": [
    {
     "name": "stdout",
     "output_type": "stream",
     "text": [
      "returant name is HotNroll and cuisine type is fast_food\n"
     ]
    }
   ],
   "source": [
    "a.describe_resturant()"
   ]
  },
  {
   "cell_type": "code",
   "execution_count": 15,
   "metadata": {},
   "outputs": [
    {
     "data": {
      "text/plain": [
       "10"
      ]
     },
     "execution_count": 15,
     "metadata": {},
     "output_type": "execute_result"
    }
   ],
   "source": [
    "a.number_served"
   ]
  },
  {
   "cell_type": "code",
   "execution_count": 16,
   "metadata": {},
   "outputs": [
    {
     "data": {
      "text/plain": [
       "'YOUR RESTURANT HAS SERVED 22 COUSTOMER TODAY.'"
      ]
     },
     "execution_count": 16,
     "metadata": {},
     "output_type": "execute_result"
    }
   ],
   "source": [
    "a.set_number_served(22)"
   ]
  },
  {
   "cell_type": "code",
   "execution_count": 17,
   "metadata": {},
   "outputs": [
    {
     "data": {
      "text/plain": [
       "'YOUR RESTURANT HAS SERVED 45 COUSTOMER TODAY.'"
      ]
     },
     "execution_count": 17,
     "metadata": {},
     "output_type": "execute_result"
    }
   ],
   "source": [
    "a.increament_number(23)"
   ]
  },
  {
   "cell_type": "code",
   "execution_count": null,
   "metadata": {},
   "outputs": [],
   "source": []
  },
  {
   "cell_type": "code",
   "execution_count": null,
   "metadata": {},
   "outputs": [],
   "source": []
  },
  {
   "cell_type": "code",
   "execution_count": 79,
   "metadata": {},
   "outputs": [],
   "source": [
    "class mobile():\n",
    "    def __init__(self,model,RAM,ROM,colour,front_camera,back_camera):\n",
    "        self.model=model\n",
    "        self.RAM=RAM\n",
    "        self.ROM=ROM\n",
    "        self.colour=colour\n",
    "        self.front_camera=front_camera\n",
    "        self.back_camera=back_camera\n",
    "        self.gurantee_remaining=2 \n",
    "    def water_proof(self):\n",
    "        print(f\"samsung {self.model}, in {self.colour} is waterproof\")\n",
    "    def unbreakable_glass(self):\n",
    "        print(f\"samsung{self.model},in {self.colour} has an unbreakable glass.\")\n",
    "    def update_life_use(self,used_life):\n",
    "        self.gurantee_remaining=2-used_life\n",
    "    def read_gurantee_remainig(self):\n",
    "        print(\"this mobile has\"+\" \"+str(self.gurantee_remaining)+\" \"+\" \"+\"year\"+\" \"+\"remaining\")\n",
    "    "
   ]
  },
  {
   "cell_type": "code",
   "execution_count": 80,
   "metadata": {},
   "outputs": [],
   "source": [
    "samsung=mobile(\"J7\",\"64\",\"32\",\"BLACK\",\"16MP\",\"22MP\")"
   ]
  },
  {
   "cell_type": "code",
   "execution_count": 81,
   "metadata": {},
   "outputs": [
    {
     "data": {
      "text/plain": [
       "'J7'"
      ]
     },
     "execution_count": 81,
     "metadata": {},
     "output_type": "execute_result"
    }
   ],
   "source": [
    "samsung.model"
   ]
  },
  {
   "cell_type": "code",
   "execution_count": 82,
   "metadata": {},
   "outputs": [
    {
     "data": {
      "text/plain": [
       "'BLACK'"
      ]
     },
     "execution_count": 82,
     "metadata": {},
     "output_type": "execute_result"
    }
   ],
   "source": [
    "samsung.colour"
   ]
  },
  {
   "cell_type": "code",
   "execution_count": 83,
   "metadata": {},
   "outputs": [
    {
     "name": "stdout",
     "output_type": "stream",
     "text": [
      "samsung J7, in BLACK is waterproof\n"
     ]
    }
   ],
   "source": [
    "samsung.water_proof()"
   ]
  },
  {
   "cell_type": "code",
   "execution_count": 84,
   "metadata": {},
   "outputs": [
    {
     "name": "stdout",
     "output_type": "stream",
     "text": [
      "samsungJ7,in BLACK has an unbreakable glass.\n"
     ]
    }
   ],
   "source": [
    "samsung.unbreakable_glass()"
   ]
  },
  {
   "cell_type": "code",
   "execution_count": 85,
   "metadata": {},
   "outputs": [],
   "source": [
    "samsung.update_life_use(1)"
   ]
  },
  {
   "cell_type": "code",
   "execution_count": 86,
   "metadata": {},
   "outputs": [
    {
     "name": "stdout",
     "output_type": "stream",
     "text": [
      "this mobile has 1  year remaining\n"
     ]
    }
   ],
   "source": [
    "samsung.read_gurantee_remainig()"
   ]
  },
  {
   "cell_type": "code",
   "execution_count": null,
   "metadata": {},
   "outputs": [],
   "source": []
  },
  {
   "cell_type": "code",
   "execution_count": 1,
   "metadata": {},
   "outputs": [],
   "source": [
    "class Patient():\n",
    "    pass"
   ]
  },
  {
   "cell_type": "code",
   "execution_count": 5,
   "metadata": {},
   "outputs": [],
   "source": [
    "class Patient():\n",
    "    def __init__(self,last_name):\n",
    "        self.last_name=last_name\n",
    "        pass"
   ]
  },
  {
   "cell_type": "code",
   "execution_count": 6,
   "metadata": {},
   "outputs": [],
   "source": [
    "pid4343=Patient(\"Taleb\")"
   ]
  },
  {
   "cell_type": "code",
   "execution_count": 4,
   "metadata": {},
   "outputs": [],
   "source": [
    "pid4344=Patient(\"ahsan\")\n",
    "pid4355=Patient(\"siraj\")\n",
    "pid4444=Patient(\"faraz\")"
   ]
  },
  {
   "cell_type": "code",
   "execution_count": 11,
   "metadata": {},
   "outputs": [],
   "source": [
    "class patient():\n",
    "    def __init__(self,last_name,first_name,age):\n",
    "        self.last_name=last_name\n",
    "        self.first_name=first_name\n",
    "        self.age=age\n",
    "        "
   ]
  },
  {
   "cell_type": "code",
   "execution_count": 14,
   "metadata": {},
   "outputs": [],
   "source": [
    "pid2222=patient(\"shahid\",\"anas\",34)\n",
    "pid4355=patient(\"siraj\",\"faisal\",45)\n",
    "pid4444=patient(\"faraz\",\"amajad\",34)"
   ]
  },
  {
   "cell_type": "code",
   "execution_count": 15,
   "metadata": {},
   "outputs": [
    {
     "data": {
      "text/plain": [
       "'faraz'"
      ]
     },
     "execution_count": 15,
     "metadata": {},
     "output_type": "execute_result"
    }
   ],
   "source": [
    "pid4444.last_name"
   ]
  },
  {
   "cell_type": "code",
   "execution_count": null,
   "metadata": {},
   "outputs": [],
   "source": []
  },
  {
   "cell_type": "code",
   "execution_count": 1,
   "metadata": {},
   "outputs": [],
   "source": [
    "class car():\n",
    "    def __init__(self,make,model,year):\n",
    "        self.make=make\n",
    "        self.model=model\n",
    "        self.year=year\n",
    "        self.odometer_reading=0\n",
    "        \n",
    "    def get_descriptive_name(self):\n",
    "        long_name=str(self.year)+\" \"+self.make+\" \"+self.model\n",
    "        return long_name.title()\n",
    "    \n",
    "    def read_odometer(self):\n",
    "        print(\"This car has \"+str(self.odometer_reading)+\" \"+\"miles on it.\")\n",
    "        \n",
    "    def update_odometer(self,mileage):\n",
    "        self.odometer_reading=mileage"
   ]
  },
  {
   "cell_type": "code",
   "execution_count": 4,
   "metadata": {},
   "outputs": [
    {
     "name": "stdout",
     "output_type": "stream",
     "text": [
      "This car has 60 miles on it.\n"
     ]
    }
   ],
   "source": [
    "my_new_car=car(\"audi\",\"a4\",2016)\n",
    "my_new_car.update_odometer(60)\n",
    "my_new_car.read_odometer()"
   ]
  },
  {
   "cell_type": "code",
   "execution_count": 3,
   "metadata": {},
   "outputs": [
    {
     "data": {
      "text/plain": [
       "'2016 Audi A4'"
      ]
     },
     "execution_count": 3,
     "metadata": {},
     "output_type": "execute_result"
    }
   ],
   "source": [
    "my_new_car.get_descriptive_name()"
   ]
  },
  {
   "cell_type": "code",
   "execution_count": 40,
   "metadata": {},
   "outputs": [],
   "source": [
    "class Dog():\n",
    "    def __init__(self,name,age):\n",
    "        self.name=name\n",
    "        self.age=age\n",
    "    @property    \n",
    "    def sit(self):\n",
    "        print(self.name.title()+\" \"+\"is now sitting .\")\n",
    "    def roll_over(self):\n",
    "        print(self.name.title() +\" \"+ \"rolled over!\")"
   ]
  },
  {
   "cell_type": "code",
   "execution_count": 41,
   "metadata": {},
   "outputs": [],
   "source": [
    "my_dog=Dog('willie', 6)\n",
    "your_dog=Dog(\"lucy\",3)"
   ]
  },
  {
   "cell_type": "code",
   "execution_count": 42,
   "metadata": {},
   "outputs": [
    {
     "data": {
      "text/plain": [
       "'willie'"
      ]
     },
     "execution_count": 42,
     "metadata": {},
     "output_type": "execute_result"
    }
   ],
   "source": [
    "my_dog.name"
   ]
  },
  {
   "cell_type": "code",
   "execution_count": 43,
   "metadata": {},
   "outputs": [
    {
     "name": "stdout",
     "output_type": "stream",
     "text": [
      "Willie is now sitting .\n"
     ]
    }
   ],
   "source": [
    "my_dog.sit"
   ]
  },
  {
   "cell_type": "code",
   "execution_count": 44,
   "metadata": {},
   "outputs": [
    {
     "name": "stdout",
     "output_type": "stream",
     "text": [
      "Willie rolled over!\n"
     ]
    }
   ],
   "source": [
    "my_dog.roll_over()"
   ]
  },
  {
   "cell_type": "code",
   "execution_count": 45,
   "metadata": {},
   "outputs": [
    {
     "data": {
      "text/plain": [
       "'lucy'"
      ]
     },
     "execution_count": 45,
     "metadata": {},
     "output_type": "execute_result"
    }
   ],
   "source": [
    "your_dog.name"
   ]
  },
  {
   "cell_type": "code",
   "execution_count": 46,
   "metadata": {},
   "outputs": [
    {
     "name": "stdout",
     "output_type": "stream",
     "text": [
      "Lucy rolled over!\n"
     ]
    }
   ],
   "source": [
    "your_dog.roll_over()"
   ]
  },
  {
   "cell_type": "code",
   "execution_count": 2,
   "metadata": {},
   "outputs": [],
   "source": [
    "class resturant():\n",
    "    def __init__(self,name,cuisine_type,open_close):\n",
    "        self.name=name\n",
    "        self.cuisine_type=cuisine_type\n",
    "        self.open_close=open_close\n",
    "    def describe_resturant(self):\n",
    "        print(f\"returant name is {self.name} and cuisine type is {self.cuisine_type}\")\n",
    "    def open_returant(self):\n",
    "        print(f\"resturant is {self.open_close}\")"
   ]
  },
  {
   "cell_type": "code",
   "execution_count": 1,
   "metadata": {},
   "outputs": [],
   "source": [
    "class car():\n",
    "    def __init__(self,make,model,year):\n",
    "        self.make=make\n",
    "        self.model=model\n",
    "        self.year=year\n",
    "        self.odometer_reading=0\n",
    "    def get_descriptive_name(self):\n",
    "        long_name=str(self.year)+\" \"+self.make+\" \"+self.model\n",
    "        return long_name.title()\n",
    "    def read_odometer(self):\n",
    "        print(\"This car has \"+str(self.odometer_reading)+\" miles on it.\")\n",
    "    def increment_odometer(self,mile):\n",
    "        self.odometer_reading+=mile\n",
    "    def update_odometer(self,mileage):\n",
    "        if mileage>=self.odometer_reading:\n",
    "            self.odometer_reading=mileage\n",
    "        else:\n",
    "            print(\"You cant roll back on odometer\")\n",
    "        return (f'Now car is showing {self.odometer_reading} mileage on it')"
   ]
  },
  {
   "cell_type": "code",
   "execution_count": 18,
   "metadata": {},
   "outputs": [
    {
     "name": "stdout",
     "output_type": "stream",
     "text": [
      "2016 Audi A4\n"
     ]
    }
   ],
   "source": [
    "my_new_car=car('audi',\"a4\",2016)\n",
    "print(my_new_car.get_descriptive_name())"
   ]
  },
  {
   "cell_type": "code",
   "execution_count": 19,
   "metadata": {},
   "outputs": [
    {
     "data": {
      "text/plain": [
       "'Now car is showing 60 mileage on it'"
      ]
     },
     "execution_count": 19,
     "metadata": {},
     "output_type": "execute_result"
    }
   ],
   "source": [
    "my_new_car. update_odometer(60)"
   ]
  },
  {
   "cell_type": "code",
   "execution_count": 20,
   "metadata": {},
   "outputs": [
    {
     "name": "stdout",
     "output_type": "stream",
     "text": [
      "You cant roll back on odometer\n"
     ]
    },
    {
     "data": {
      "text/plain": [
       "'Now car is showing 60 mileage on it'"
      ]
     },
     "execution_count": 20,
     "metadata": {},
     "output_type": "execute_result"
    }
   ],
   "source": [
    "my_new_car.update_odometer(40)"
   ]
  },
  {
   "cell_type": "code",
   "execution_count": 21,
   "metadata": {},
   "outputs": [],
   "source": [
    "my_new_car.increment_odometer(20)"
   ]
  },
  {
   "cell_type": "markdown",
   "metadata": {},
   "source": [
    "# INHERITENCE"
   ]
  },
  {
   "cell_type": "code",
   "execution_count": 6,
   "metadata": {},
   "outputs": [],
   "source": [
    "class car():\n",
    "    def __init__(self,make,model,year):\n",
    "        self.make=make\n",
    "        self.model=model\n",
    "        self.year=year\n",
    "        self.odometer_reading=0\n",
    "    def get_descriptive_name(self):\n",
    "        long_name=str(self.year)+\" \"+self.make+\" \"+self.model\n",
    "        return long_name.title()\n",
    "    def fill_gas(self):\n",
    "        print(\"the gas tank is fill\")\n",
    "    def read_odometer(self):\n",
    "        print(\"This car has \"+str(self.odometer_reading)+\" miles on it.\")\n",
    "    def increment_odometer(self,mile):\n",
    "        self.odometer_reading+=mile\n",
    "    def update_odometer(self,mileage):\n",
    "        if mileage>=self.odometer_reading:\n",
    "            self.odometer_reading=mileage\n",
    "        else:\n",
    "            print(\"You cant roll back on odometer\")\n",
    "        return (f'Now car is showing {self.odometer_reading} mileage on it')\n",
    "    "
   ]
  },
  {
   "cell_type": "code",
   "execution_count": 14,
   "metadata": {},
   "outputs": [
    {
     "name": "stdout",
     "output_type": "stream",
     "text": [
      "2016 Tesla ,Model S\n",
      "THIS CAR HAS A 70  -KWH BATTERY \n",
      "ELECTRIC CAR DOESNT NEED GAS\n"
     ]
    }
   ],
   "source": [
    "class electric_car(car):\n",
    "    def __init__(self,make,model,year):\n",
    "        super().__init__(make,model,year)  #HERE BATTERY IS GOING VERY LONG SO WE ARE MA\n",
    "        self.battery_size=70\n",
    "        self.manufacturer=\" \"\n",
    "        self.cycles=\" \"\n",
    "        self.no_of_pallets=\" \"\n",
    "        self.amperes=\" \"\n",
    "        \n",
    "        \n",
    "    def describe_battery(self):\n",
    "        print(f\"THIS CAR HAS A { self.battery_size}  -KWH BATTERY \")\n",
    "        \n",
    "    def fill_gas(self):\n",
    "        print(\"ELECTRIC CAR DOESNT NEED GAS\")    \n",
    "        \n",
    "        \n",
    "        \n",
    "my_tesla=electric_car(\"tesla\",\",Model s\",2016)\n",
    "print(my_tesla.get_descriptive_name())\n",
    "\n",
    "my_tesla.describe_battery()\n",
    "my_tesla.fill_gas()\n"
   ]
  },
  {
   "cell_type": "code",
   "execution_count": 7,
   "metadata": {},
   "outputs": [],
   "source": [
    "class Battery():\n",
    "    def __init__(self,amperes,no_of_pallets,cycles,manufacturer,battery_size=70):\n",
    "        self.battery_size=battery_size\n",
    "        self.manufacturer=manufacturer\n",
    "        self.cycles=cycles\n",
    "        self.no_of_pallets=no_of_pallets\n",
    "        self.amperes=amperes\n",
    "        \n",
    "    def describe_battery(self):\n",
    "        print(f\"THIS CAR HAS A { self.battery_size}  -KWH BATTERY \")    \n",
    "        \n",
    "        "
   ]
  },
  {
   "cell_type": "code",
   "execution_count": 18,
   "metadata": {},
   "outputs": [],
   "source": [
    "class electric_car(car):\n",
    "    def __init__(self,make,model,year):\n",
    "        super().__init__(make,model,year)  #HERE BATTERY IS GOING VERY LONG SO WE ARE HAVE MADE A NEW CLASS AND THAN LINK IT WITH IT\n",
    "        self.battery=Battery(100,5,6,\"osaka\")\n",
    "        \n",
    "    \n",
    "        \n",
    "    def fill_gas(self):\n",
    "        print(\"ELECTRIC CAR DOESNT NEED GAS\")    \n",
    "        \n",
    "        \n"
   ]
  },
  {
   "cell_type": "code",
   "execution_count": 20,
   "metadata": {},
   "outputs": [
    {
     "name": "stdout",
     "output_type": "stream",
     "text": [
      "THIS CAR HAS A 70  -KWH BATTERY \n"
     ]
    }
   ],
   "source": [
    "my_tesla=electric_car(\"tesla\",\"model s\",2016)\n",
    "my_tesla.battery.describe_battery()"
   ]
  },
  {
   "cell_type": "code",
   "execution_count": 4,
   "metadata": {},
   "outputs": [
    {
     "name": "stdout",
     "output_type": "stream",
     "text": [
      "Enter No Of Blocks6\n",
      "Height 3\n"
     ]
    }
   ],
   "source": [
    "blocks=int(input(\"Enter No Of Blocks\"))\n",
    "chk=1\n",
    "adder=2\n",
    "height=0\n",
    "while chk<=blocks:\n",
    "    chk+=adder\n",
    "    adder+=1\n",
    "    height+=1\n",
    "print(\"Height\",height)    "
   ]
  },
  {
   "cell_type": "markdown",
   "metadata": {},
   "source": [
    "# MODULES"
   ]
  },
  {
   "cell_type": "code",
   "execution_count": 11,
   "metadata": {},
   "outputs": [],
   "source": [
    "import math2"
   ]
  },
  {
   "cell_type": "code",
   "execution_count": 13,
   "metadata": {},
   "outputs": [
    {
     "data": {
      "text/plain": [
       "9"
      ]
     },
     "execution_count": 13,
     "metadata": {},
     "output_type": "execute_result"
    }
   ],
   "source": [
    "math2.add_list([2,3,4])"
   ]
  },
  {
   "cell_type": "code",
   "execution_count": 25,
   "metadata": {},
   "outputs": [],
   "source": [
    "from car import Car,electric_car"
   ]
  },
  {
   "cell_type": "code",
   "execution_count": 26,
   "metadata": {},
   "outputs": [],
   "source": [
    "toyota=Car(\"Toyota\",\"FX\",2002)\n",
    "my_tesla=electric_car(\"tesla\",\"model s\",2016)"
   ]
  },
  {
   "cell_type": "code",
   "execution_count": 27,
   "metadata": {},
   "outputs": [
    {
     "name": "stdout",
     "output_type": "stream",
     "text": [
      "THIS CAR HAS A 70  -KWH BATTERY \n"
     ]
    }
   ],
   "source": [
    "my_tesla.describe_battery()"
   ]
  },
  {
   "cell_type": "markdown",
   "metadata": {},
   "source": [
    "# File and Excemption"
   ]
  },
  {
   "cell_type": "code",
   "execution_count": 56,
   "metadata": {},
   "outputs": [
    {
     "name": "stdout",
     "output_type": "stream",
     "text": [
      "hello my name is pakistan\n"
     ]
    }
   ],
   "source": [
    "with open(\"abcd.txt\") as file_object:\n",
    "    contents = file_object.read()\n",
    "    print(contents)"
   ]
  },
  {
   "cell_type": "code",
   "execution_count": 57,
   "metadata": {},
   "outputs": [],
   "source": [
    "with open (\"abcd1.txt\",\"w\") as f:\n",
    "    f.write(\"HELLO PYTHON\")   #by help of w  if file does not exist it will make it\n",
    "                             #it will overwrite the previous data if we write on existing data"
   ]
  },
  {
   "cell_type": "code",
   "execution_count": 58,
   "metadata": {},
   "outputs": [
    {
     "name": "stdout",
     "output_type": "stream",
     "text": [
      "HELLO PYTHON\n"
     ]
    }
   ],
   "source": [
    "with open(\"abcd1.txt\") as file_object:\n",
    "    contents = file_object.read()\n",
    "    print(contents)"
   ]
  },
  {
   "cell_type": "code",
   "execution_count": 59,
   "metadata": {},
   "outputs": [
    {
     "name": "stdout",
     "output_type": "stream",
     "text": [
      "hello my name is pakistan\n"
     ]
    }
   ],
   "source": [
    "with open(\"abcd.txt\",\"r\") as file_object:\n",
    "    contents = file_object.read()\n",
    "    print(contents)"
   ]
  },
  {
   "cell_type": "code",
   "execution_count": 63,
   "metadata": {},
   "outputs": [],
   "source": [
    "with open (\"abcd.txt\",\"a\") as file:\n",
    "    c=file.write(\"hehhe\")\n",
    "    "
   ]
  },
  {
   "cell_type": "code",
   "execution_count": 64,
   "metadata": {},
   "outputs": [
    {
     "name": "stdout",
     "output_type": "stream",
     "text": [
      "hello my name is pakistanhehhehehhe\n"
     ]
    }
   ],
   "source": [
    "with open(\"abcd.txt\") as file_object:\n",
    "    contents = file_object.read()\n",
    "    print(contents)"
   ]
  },
  {
   "cell_type": "code",
   "execution_count": 69,
   "metadata": {},
   "outputs": [],
   "source": [
    "#if we use r+ it will go for read write mode both it will not create self file"
   ]
  },
  {
   "cell_type": "code",
   "execution_count": 2,
   "metadata": {},
   "outputs": [
    {
     "name": "stdout",
     "output_type": "stream",
     "text": [
      "123loo my name is pakistan\n"
     ]
    }
   ],
   "source": [
    "with open(\"abcd.txt\",\"r+\") as g:\n",
    "    g.write(\"123\")\n",
    "    g.seek(0)\n",
    "    t=g.read()\n",
    "    print(t)\n",
    "#to strt cursor with start seek is use\n",
    "#bcz cursor will strt next function at same time "
   ]
  },
  {
   "cell_type": "code",
   "execution_count": 7,
   "metadata": {},
   "outputs": [
    {
     "name": "stdout",
     "output_type": "stream",
     "text": [
      "123lo my name is pakistan\n"
     ]
    }
   ],
   "source": [
    "with open(\"abcd.txt\",\"r\") as file_object:\n",
    "    contents = file_object.read()\n",
    "    print(contents)"
   ]
  },
  {
   "cell_type": "code",
   "execution_count": 3,
   "metadata": {},
   "outputs": [],
   "source": [
    "myfile=open(\"hello.txt\",\"r\")  #here first line is not writing"
   ]
  },
  {
   "cell_type": "code",
   "execution_count": 20,
   "metadata": {},
   "outputs": [
    {
     "name": "stdout",
     "output_type": "stream",
     "text": [
      "['raza\\n', 'younus\\n', '++++']\n"
     ]
    }
   ],
   "source": [
    "for line in myfile:\n",
    "    cont=myfile.readlines()\n",
    "    print(cont)"
   ]
  },
  {
   "cell_type": "code",
   "execution_count": 21,
   "metadata": {},
   "outputs": [
    {
     "data": {
      "text/plain": [
       "['raza\\n', 'younus\\n', '++++']"
      ]
     },
     "execution_count": 21,
     "metadata": {},
     "output_type": "execute_result"
    }
   ],
   "source": [
    "cont"
   ]
  },
  {
   "cell_type": "code",
   "execution_count": 6,
   "metadata": {},
   "outputs": [],
   "source": [
    "m=open(\"greeting.txt\",\"r\")"
   ]
  },
  {
   "cell_type": "code",
   "execution_count": 7,
   "metadata": {},
   "outputs": [
    {
     "name": "stdout",
     "output_type": "stream",
     "text": [
      "['raza\\n', '123\\n', '123456789\\n']\n"
     ]
    }
   ],
   "source": [
    "for line in m:\n",
    "    cont=m.readlines()\n",
    "    print(cont)"
   ]
  },
  {
   "cell_type": "code",
   "execution_count": 8,
   "metadata": {},
   "outputs": [
    {
     "data": {
      "text/plain": [
       "['raza\\n', '123\\n', '123456789\\n']"
      ]
     },
     "execution_count": 8,
     "metadata": {},
     "output_type": "execute_result"
    }
   ],
   "source": [
    "cont"
   ]
  },
  {
   "cell_type": "code",
   "execution_count": 10,
   "metadata": {},
   "outputs": [
    {
     "name": "stdout",
     "output_type": "stream",
     "text": [
      "3.1415926535\n",
      "8979323846\n",
      "2643383279\n"
     ]
    }
   ],
   "source": [
    "with open(\"math.txt\") as file_object:\n",
    "    contents=file_object.read()\n",
    "print(contents)    "
   ]
  },
  {
   "cell_type": "code",
   "execution_count": 11,
   "metadata": {},
   "outputs": [
    {
     "name": "stdout",
     "output_type": "stream",
     "text": [
      "3.1415926535\n",
      "8979323846\n",
      "2643383279\n"
     ]
    }
   ],
   "source": [
    "print(contents.rstrip())"
   ]
  },
  {
   "cell_type": "code",
   "execution_count": 13,
   "metadata": {},
   "outputs": [
    {
     "name": "stdout",
     "output_type": "stream",
     "text": [
      "3.1415926535\n",
      "\n",
      "8979323846\n",
      "\n",
      "2643383279\n"
     ]
    }
   ],
   "source": [
    "pi=\"math.txt\"\n",
    "with open (pi) as file_object:\n",
    "    for line in file_object:\n",
    "        print(line)\n",
    "    "
   ]
  },
  {
   "cell_type": "code",
   "execution_count": 16,
   "metadata": {},
   "outputs": [
    {
     "name": "stdout",
     "output_type": "stream",
     "text": [
      "3.1415926535\n",
      "8979323846\n",
      "2643383279\n"
     ]
    }
   ],
   "source": [
    "file=\"math.txt\"\n",
    "with open(file) as a:\n",
    "    lines=a.readlines()\n",
    "for line in lines:\n",
    "    print(line.rstrip())"
   ]
  },
  {
   "cell_type": "code",
   "execution_count": 18,
   "metadata": {},
   "outputs": [
    {
     "name": "stdout",
     "output_type": "stream",
     "text": [
      "3.141592653589793238462643383279\n",
      "32\n"
     ]
    }
   ],
   "source": [
    "file=\"math.txt\"\n",
    "with open (file) as file_object:\n",
    "    lines=file_object.readlines()\n",
    "pi=''\n",
    "for line in lines:\n",
    "    pi+=line.strip()\n",
    "print(pi)\n",
    "print(len(pi))"
   ]
  },
  {
   "cell_type": "markdown",
   "metadata": {},
   "source": [
    "# EXCEPTION"
   ]
  },
  {
   "cell_type": "code",
   "execution_count": 19,
   "metadata": {},
   "outputs": [],
   "source": [
    "#they are logical error"
   ]
  },
  {
   "cell_type": "code",
   "execution_count": 21,
   "metadata": {},
   "outputs": [
    {
     "ename": "ZeroDivisionError",
     "evalue": "division by zero",
     "output_type": "error",
     "traceback": [
      "\u001b[1;31m---------------------------------------------------------------------------\u001b[0m",
      "\u001b[1;31mZeroDivisionError\u001b[0m                         Traceback (most recent call last)",
      "\u001b[1;32m<ipython-input-21-7608b414cfbd>\u001b[0m in \u001b[0;36m<module>\u001b[1;34m\u001b[0m\n\u001b[1;32m----> 1\u001b[1;33m \u001b[1;36m5\u001b[0m\u001b[1;33m/\u001b[0m\u001b[1;36m0\u001b[0m \u001b[1;31m#cant be divide be zero\u001b[0m\u001b[1;33m\u001b[0m\u001b[1;33m\u001b[0m\u001b[0m\n\u001b[0m\u001b[0;32m      2\u001b[0m \u001b[1;31m#program will be crashed due to exception\u001b[0m\u001b[1;33m\u001b[0m\u001b[1;33m\u001b[0m\u001b[1;33m\u001b[0m\u001b[0m\n\u001b[0;32m      3\u001b[0m \u001b[0mprint\u001b[0m\u001b[1;33m(\u001b[0m\u001b[1;34m\"hell\"\u001b[0m\u001b[1;33m)\u001b[0m\u001b[1;33m\u001b[0m\u001b[1;33m\u001b[0m\u001b[0m\n",
      "\u001b[1;31mZeroDivisionError\u001b[0m: division by zero"
     ]
    }
   ],
   "source": [
    "5/0 #cant be divide be zero \n",
    "#program will be crashed due to exception\n",
    "print(\"hell\")"
   ]
  },
  {
   "cell_type": "code",
   "execution_count": 2,
   "metadata": {},
   "outputs": [
    {
     "name": "stdout",
     "output_type": "stream",
     "text": [
      "ENTER A NUMBER:1\n",
      "ENTER A NUMBER:0\n",
      "Exception is caught   ZeroDivisionError \n"
     ]
    }
   ],
   "source": [
    "\n",
    "#EXCEPTION HANDLING\n",
    "\n",
    "a=int(input(\"ENTER A NUMBER:\"))\n",
    "b=int(input(\"ENTER A NUMBER:\"))\n",
    "try:\n",
    "    c=a/b #where exception can be raised is written in try block\n",
    "    print(c)\n",
    "except ZeroDivisionError: #if exception is raised is written in except block\n",
    "    print(\"Exception is caught   ZeroDivisionError \")\n",
    "    "
   ]
  },
  {
   "cell_type": "code",
   "execution_count": 1,
   "metadata": {},
   "outputs": [
    {
     "name": "stdout",
     "output_type": "stream",
     "text": [
      "ENTER A NUMBER:3\n",
      "ENTER A NUMBER:4\n",
      "0.75\n"
     ]
    }
   ],
   "source": [
    "a=int(input(\"ENTER A NUMBER:\"))\n",
    "b=int(input(\"ENTER A NUMBER:\"))\n",
    "try:\n",
    "    c=a/b #where exception can be raised is written in try block  \n",
    "except ZeroDivisionError: #if exception is raised is written in except block\n",
    "    print(\"Exception is caught   ZeroDivisionError \")\n",
    "else:\n",
    "    print(c)\n",
    "    \n",
    "            "
   ]
  },
  {
   "cell_type": "code",
   "execution_count": 3,
   "metadata": {},
   "outputs": [
    {
     "name": "stdout",
     "output_type": "stream",
     "text": [
      "ENTER A NUMBER:20\n",
      "ENTER A NUMBER:0\n",
      "Exception is caught   ZeroDivisionError \n",
      "last\n"
     ]
    }
   ],
   "source": [
    "a=int(input(\"ENTER A NUMBER:\"))\n",
    "b=int(input(\"ENTER A NUMBER:\"))\n",
    "try:\n",
    "    c=a/b \n",
    "    print(c)\n",
    "except ZeroDivisionError:\n",
    "    print(\"Exception is caught   ZeroDivisionError \")\n",
    "\n",
    "print(\"last\")    \n",
    "            "
   ]
  },
  {
   "cell_type": "code",
   "execution_count": null,
   "metadata": {},
   "outputs": [],
   "source": [
    "a=int(input(\"ENTER A NUMBER:\"))\n",
    "b=int(input(\"ENTER A NUMBER:\"))\n",
    "d=[]\n",
    "try:\n",
    "    c=a/b \n",
    "    e=d[5]\n",
    "    print(e)\n",
    "    \n",
    "except ZeroDivisionError:\n",
    "    print(\"Exception is caught   ZeroDivisionError \")\n",
    "\n",
    "print(\"last\")    \n",
    "            "
   ]
  },
  {
   "cell_type": "code",
   "execution_count": 1,
   "metadata": {},
   "outputs": [
    {
     "name": "stdout",
     "output_type": "stream",
     "text": [
      "ENTER A NUMBER:5\n",
      "ENTER A NUMBER:0\n",
      "Exception is caught   ZeroDivisionError \n",
      "last\n"
     ]
    }
   ],
   "source": [
    "a=int(input(\"ENTER A NUMBER:\"))\n",
    "b=int(input(\"ENTER A NUMBER:\"))\n",
    "d=[]\n",
    "try:\n",
    "    c=a/b \n",
    "    e=d[5]\n",
    "    \n",
    "except ZeroDivisionError:\n",
    "    print(\"Exception is caught   ZeroDivisionError \")\n",
    "except IndexError:\n",
    "    print(\"Exception is caught    IndexError\" )\n",
    "else:\n",
    "    print(c)\n",
    "\n",
    "print(\"last\")    \n",
    "            "
   ]
  },
  {
   "cell_type": "code",
   "execution_count": 2,
   "metadata": {},
   "outputs": [
    {
     "name": "stdout",
     "output_type": "stream",
     "text": [
      "ENTER A NUMBER:5\n",
      "ENTER A NUMBER:5\n",
      "Exception is caught    IndexError\n",
      "last\n"
     ]
    }
   ],
   "source": [
    "a=int(input(\"ENTER A NUMBER:\"))\n",
    "b=int(input(\"ENTER A NUMBER:\"))\n",
    "d=[]\n",
    "try:\n",
    "    c=a/b \n",
    "    e=d[5]\n",
    "    \n",
    "except ZeroDivisionError:\n",
    "    print(\"Exception is caught   ZeroDivisionError \")\n",
    "except IndexError:\n",
    "    print(\"Exception is caught    IndexError\" )\n",
    "else:\n",
    "    print(c)\n",
    "\n",
    "print(\"last\")    \n",
    "            "
   ]
  },
  {
   "cell_type": "code",
   "execution_count": 5,
   "metadata": {},
   "outputs": [
    {
     "name": "stdout",
     "output_type": "stream",
     "text": [
      "ENTER A NUMBER:5\n",
      "ENTER A NUMBER:0\n",
      "Exception is caught\n",
      "last\n"
     ]
    }
   ],
   "source": [
    "a=int(input(\"ENTER A NUMBER:\"))\n",
    "b=int(input(\"ENTER A NUMBER:\"))\n",
    "d=[]\n",
    "try:\n",
    "    c=a/b \n",
    "    e=d[5]\n",
    "except:\n",
    "    print(\"Exception is caught\")\n",
    "\n",
    "    \n",
    "else:\n",
    "    print(c)\n",
    "\n",
    "print(\"last\")    \n",
    "            "
   ]
  },
  {
   "cell_type": "code",
   "execution_count": 6,
   "metadata": {},
   "outputs": [
    {
     "name": "stdout",
     "output_type": "stream",
     "text": [
      "hello\n",
      "ENTER A NUMBER:5\n",
      "ENTER A NUMBER:0\n",
      "Exception is caught   ZeroDivisionError \n",
      "last\n"
     ]
    }
   ],
   "source": [
    "print(\"hello\")\n",
    "a=int(input(\"ENTER A NUMBER:\"))\n",
    "b=int(input(\"ENTER A NUMBER:\"))\n",
    "d=[]\n",
    "try:\n",
    "    c=a/b \n",
    "    e=d[5] \n",
    "except ZeroDivisionError:\n",
    "    print(\"Exception is caught   ZeroDivisionError \")\n",
    "else:\n",
    "    print(c)\n",
    "\n",
    "print(\"last\")    \n",
    "            "
   ]
  },
  {
   "cell_type": "code",
   "execution_count": 9,
   "metadata": {},
   "outputs": [
    {
     "name": "stdout",
     "output_type": "stream",
     "text": [
      "ENTER A NUMBER:5\n",
      "ENTER A NUMBER:5\n",
      "Exception is caught==list index out of range\n",
      "last\n"
     ]
    }
   ],
   "source": [
    "a=int(input(\"ENTER A NUMBER:\"))\n",
    "b=int(input(\"ENTER A NUMBER:\"))\n",
    "d=[]\n",
    "try:\n",
    "    c=a/b \n",
    "    e=d[5]\n",
    "except Exception as e:\n",
    "    print(\"Exception is caught\"+\"==\"+str(e))\n",
    "\n",
    "    #if there is any exception not mention in class so we have to made any except\n",
    "else: #general exception will be last\n",
    "    print(c)\n",
    "\n",
    "print(\"last\")    \n",
    "            "
   ]
  },
  {
   "cell_type": "code",
   "execution_count": 2,
   "metadata": {},
   "outputs": [
    {
     "name": "stdout",
     "output_type": "stream",
     "text": [
      "hello\n",
      "ENTER A NUMBER:4\n",
      "ENTER A NUMBER:4\n",
      "last\n"
     ]
    },
    {
     "ename": "IndexError",
     "evalue": "list index out of range",
     "output_type": "error",
     "traceback": [
      "\u001b[1;31m---------------------------------------------------------------------------\u001b[0m",
      "\u001b[1;31mIndexError\u001b[0m                                Traceback (most recent call last)",
      "\u001b[1;32m<ipython-input-2-268bea6809ff>\u001b[0m in \u001b[0;36m<module>\u001b[1;34m\u001b[0m\n\u001b[0;32m      5\u001b[0m \u001b[1;32mtry\u001b[0m\u001b[1;33m:\u001b[0m\u001b[1;33m\u001b[0m\u001b[1;33m\u001b[0m\u001b[0m\n\u001b[0;32m      6\u001b[0m     \u001b[0mc\u001b[0m\u001b[1;33m=\u001b[0m\u001b[0ma\u001b[0m\u001b[1;33m/\u001b[0m\u001b[0mb\u001b[0m\u001b[1;33m\u001b[0m\u001b[1;33m\u001b[0m\u001b[0m\n\u001b[1;32m----> 7\u001b[1;33m     \u001b[0me\u001b[0m\u001b[1;33m=\u001b[0m\u001b[0md\u001b[0m\u001b[1;33m[\u001b[0m\u001b[1;36m5\u001b[0m\u001b[1;33m]\u001b[0m\u001b[1;33m\u001b[0m\u001b[1;33m\u001b[0m\u001b[0m\n\u001b[0m\u001b[0;32m      8\u001b[0m \u001b[1;32mexcept\u001b[0m \u001b[0mZeroDivisionError\u001b[0m\u001b[1;33m:\u001b[0m\u001b[1;33m\u001b[0m\u001b[1;33m\u001b[0m\u001b[0m\n\u001b[0;32m      9\u001b[0m     \u001b[0mprint\u001b[0m\u001b[1;33m(\u001b[0m\u001b[1;34m\"Exception is caught   ZeroDivisionError \"\u001b[0m\u001b[1;33m)\u001b[0m\u001b[1;33m\u001b[0m\u001b[1;33m\u001b[0m\u001b[0m\n",
      "\u001b[1;31mIndexError\u001b[0m: list index out of range"
     ]
    }
   ],
   "source": [
    "print(\"hello\")\n",
    "a=int(input(\"ENTER A NUMBER:\"))\n",
    "b=int(input(\"ENTER A NUMBER:\"))\n",
    "d=[]\n",
    "try:\n",
    "    c=a/b \n",
    "    e=d[5] \n",
    "except ZeroDivisionError:\n",
    "    print(\"Exception is caught   ZeroDivisionError \")\n",
    "else:\n",
    "    print(c)\n",
    "\n",
    "finally:\n",
    "    print(\"last\")    \n",
    "            "
   ]
  },
  {
   "cell_type": "markdown",
   "metadata": {},
   "source": [
    "# raising our own exception"
   ]
  },
  {
   "cell_type": "code",
   "execution_count": 4,
   "metadata": {},
   "outputs": [],
   "source": [
    "#we can define our own exception"
   ]
  },
  {
   "cell_type": "code",
   "execution_count": 18,
   "metadata": {},
   "outputs": [],
   "source": [
    "class student():\n",
    "    def __init__(self,name,age):\n",
    "        if age>80 or age<16:\n",
    "            raise Exception (\"Age can not be less than 16 and more than 80\")\n",
    "        self.name=name\n",
    "        self.age=age"
   ]
  },
  {
   "cell_type": "code",
   "execution_count": 19,
   "metadata": {},
   "outputs": [
    {
     "ename": "Exception",
     "evalue": "Age can not be less than 16 and more than 80",
     "output_type": "error",
     "traceback": [
      "\u001b[1;31m---------------------------------------------------------------------------\u001b[0m",
      "\u001b[1;31mException\u001b[0m                                 Traceback (most recent call last)",
      "\u001b[1;32m<ipython-input-19-a51a34ecbf8c>\u001b[0m in \u001b[0;36m<module>\u001b[1;34m\u001b[0m\n\u001b[1;32m----> 1\u001b[1;33m \u001b[0mstudent1\u001b[0m\u001b[1;33m=\u001b[0m\u001b[0mstudent\u001b[0m\u001b[1;33m(\u001b[0m\u001b[1;34m\"bilal\"\u001b[0m\u001b[1;33m,\u001b[0m\u001b[1;36m15\u001b[0m\u001b[1;33m)\u001b[0m\u001b[1;33m\u001b[0m\u001b[1;33m\u001b[0m\u001b[0m\n\u001b[0m",
      "\u001b[1;32m<ipython-input-18-f7806462b5a9>\u001b[0m in \u001b[0;36m__init__\u001b[1;34m(self, name, age)\u001b[0m\n\u001b[0;32m      2\u001b[0m     \u001b[1;32mdef\u001b[0m \u001b[0m__init__\u001b[0m\u001b[1;33m(\u001b[0m\u001b[0mself\u001b[0m\u001b[1;33m,\u001b[0m\u001b[0mname\u001b[0m\u001b[1;33m,\u001b[0m\u001b[0mage\u001b[0m\u001b[1;33m)\u001b[0m\u001b[1;33m:\u001b[0m\u001b[1;33m\u001b[0m\u001b[1;33m\u001b[0m\u001b[0m\n\u001b[0;32m      3\u001b[0m         \u001b[1;32mif\u001b[0m \u001b[0mage\u001b[0m\u001b[1;33m>\u001b[0m\u001b[1;36m80\u001b[0m \u001b[1;32mor\u001b[0m \u001b[0mage\u001b[0m\u001b[1;33m<\u001b[0m\u001b[1;36m16\u001b[0m\u001b[1;33m:\u001b[0m\u001b[1;33m\u001b[0m\u001b[1;33m\u001b[0m\u001b[0m\n\u001b[1;32m----> 4\u001b[1;33m             \u001b[1;32mraise\u001b[0m \u001b[0mException\u001b[0m \u001b[1;33m(\u001b[0m\u001b[1;34m\"Age can not be less than 16 and more than 80\"\u001b[0m\u001b[1;33m)\u001b[0m\u001b[1;33m\u001b[0m\u001b[1;33m\u001b[0m\u001b[0m\n\u001b[0m\u001b[0;32m      5\u001b[0m         \u001b[0mself\u001b[0m\u001b[1;33m.\u001b[0m\u001b[0mname\u001b[0m\u001b[1;33m=\u001b[0m\u001b[0mname\u001b[0m\u001b[1;33m\u001b[0m\u001b[1;33m\u001b[0m\u001b[0m\n\u001b[0;32m      6\u001b[0m         \u001b[0mself\u001b[0m\u001b[1;33m.\u001b[0m\u001b[0mage\u001b[0m\u001b[1;33m=\u001b[0m\u001b[0mage\u001b[0m\u001b[1;33m\u001b[0m\u001b[1;33m\u001b[0m\u001b[0m\n",
      "\u001b[1;31mException\u001b[0m: Age can not be less than 16 and more than 80"
     ]
    }
   ],
   "source": [
    "student1=student(\"bilal\",15)"
   ]
  },
  {
   "cell_type": "code",
   "execution_count": 20,
   "metadata": {},
   "outputs": [],
   "source": [
    "#here exception is raised which we want"
   ]
  },
  {
   "cell_type": "code",
   "execution_count": 21,
   "metadata": {},
   "outputs": [
    {
     "name": "stdout",
     "output_type": "stream",
     "text": [
      "exception +Age can not be less than 16 and more than 80\n"
     ]
    }
   ],
   "source": [
    "try:\n",
    "    st=student(\"bilal\",15)\n",
    "except Exception as e:\n",
    "    print(f\"exception +{str(e)}\")\n",
    "else:\n",
    "    print(\"last\")"
   ]
  },
  {
   "cell_type": "markdown",
   "metadata": {},
   "source": [
    "#  IMPORTANT"
   ]
  },
  {
   "cell_type": "code",
   "execution_count": 22,
   "metadata": {},
   "outputs": [],
   "source": [
    "class student():\n",
    "    def __init__(self,name,age):\n",
    "        if age>80 or age<16:\n",
    "            raise Exception (\"Age can not be less than 16 and more than 80\")\n",
    "        self.name=name\n",
    "        self.age=age\n",
    "class StudentAgeException(Exception):\n",
    "    pass"
   ]
  },
  {
   "cell_type": "markdown",
   "metadata": {},
   "source": [
    "# NumPy"
   ]
  },
  {
   "cell_type": "code",
   "execution_count": 3,
   "metadata": {},
   "outputs": [],
   "source": [
    "list_1=[1,2,3,4,5]\n",
    "empty=[]\n",
    "for i in list_1:\n",
    "    empty.append(i*5)\n"
   ]
  },
  {
   "cell_type": "code",
   "execution_count": 4,
   "metadata": {},
   "outputs": [
    {
     "data": {
      "text/plain": [
       "[5, 10, 15, 20, 25]"
      ]
     },
     "execution_count": 4,
     "metadata": {},
     "output_type": "execute_result"
    }
   ],
   "source": [
    "empty"
   ]
  },
  {
   "cell_type": "code",
   "execution_count": 5,
   "metadata": {},
   "outputs": [],
   "source": [
    "import numpy as np"
   ]
  },
  {
   "cell_type": "code",
   "execution_count": 7,
   "metadata": {},
   "outputs": [
    {
     "data": {
      "text/plain": [
       "array([ 4,  8, 12, 16, 20])"
      ]
     },
     "execution_count": 7,
     "metadata": {},
     "output_type": "execute_result"
    }
   ],
   "source": [
    "num=np.array([1,2,3,4,5])\n",
    "a=num*4\n",
    "a"
   ]
  },
  {
   "cell_type": "code",
   "execution_count": 8,
   "metadata": {},
   "outputs": [
    {
     "data": {
      "text/plain": [
       "array([False, False,  True,  True,  True])"
      ]
     },
     "execution_count": 8,
     "metadata": {},
     "output_type": "execute_result"
    }
   ],
   "source": [
    " a>10"
   ]
  },
  {
   "cell_type": "code",
   "execution_count": 9,
   "metadata": {},
   "outputs": [
    {
     "data": {
      "text/plain": [
       "array([  1.,  24., 543.])"
      ]
     },
     "execution_count": 9,
     "metadata": {},
     "output_type": "execute_result"
    }
   ],
   "source": [
    "a1=np.array([1.0,24,543])\n",
    "a1"
   ]
  },
  {
   "cell_type": "code",
   "execution_count": 10,
   "metadata": {},
   "outputs": [
    {
     "data": {
      "text/plain": [
       "array([   1,    2, 3423,   65, 2342])"
      ]
     },
     "execution_count": 10,
     "metadata": {},
     "output_type": "execute_result"
    }
   ],
   "source": [
    "a2=np.array([1,2,3423,65.32,2342.4432],dtype=int)\n",
    "a2"
   ]
  },
  {
   "cell_type": "code",
   "execution_count": 12,
   "metadata": {},
   "outputs": [],
   "source": [
    "def square(a):\n",
    "    result=[]\n",
    "    for i in a:\n",
    "        result.append(a)\n",
    "    return result"
   ]
  },
  {
   "cell_type": "code",
   "execution_count": 13,
   "metadata": {},
   "outputs": [],
   "source": [
    "to_sq=range(100000)"
   ]
  },
  {
   "cell_type": "code",
   "execution_count": 14,
   "metadata": {},
   "outputs": [
    {
     "name": "stdout",
     "output_type": "stream",
     "text": [
      "10.5 ms ± 668 µs per loop (mean ± std. dev. of 7 runs, 100 loops each)\n"
     ]
    }
   ],
   "source": [
    "%timeit  square(to_sq)"
   ]
  },
  {
   "cell_type": "code",
   "execution_count": 15,
   "metadata": {},
   "outputs": [],
   "source": [
    "c=np.arange(100000)"
   ]
  },
  {
   "cell_type": "code",
   "execution_count": 17,
   "metadata": {},
   "outputs": [
    {
     "name": "stdout",
     "output_type": "stream",
     "text": [
      "77.3 µs ± 4.86 µs per loop (mean ± std. dev. of 7 runs, 10000 loops each)\n"
     ]
    }
   ],
   "source": [
    "%timeit c**2"
   ]
  },
  {
   "cell_type": "code",
   "execution_count": 18,
   "metadata": {},
   "outputs": [],
   "source": [
    "n3=np.array([0]*10)"
   ]
  },
  {
   "cell_type": "code",
   "execution_count": 19,
   "metadata": {},
   "outputs": [
    {
     "data": {
      "text/plain": [
       "array([0, 0, 0, 0, 0, 0, 0, 0, 0, 0])"
      ]
     },
     "execution_count": 19,
     "metadata": {},
     "output_type": "execute_result"
    }
   ],
   "source": [
    "n3"
   ]
  },
  {
   "cell_type": "code",
   "execution_count": 30,
   "metadata": {},
   "outputs": [
    {
     "data": {
      "text/plain": [
       "array([10,  9,  8,  7,  6,  5,  4,  3,  2,  1])"
      ]
     },
     "execution_count": 30,
     "metadata": {},
     "output_type": "execute_result"
    }
   ],
   "source": [
    "a=np.arange(10,0,-1)\n",
    "a"
   ]
  },
  {
   "cell_type": "code",
   "execution_count": 24,
   "metadata": {},
   "outputs": [
    {
     "data": {
      "text/plain": [
       "array([0., 0., 0., 0., 0., 0., 0., 0., 0., 0.])"
      ]
     },
     "execution_count": 24,
     "metadata": {},
     "output_type": "execute_result"
    }
   ],
   "source": [
    "np.zeros(10)"
   ]
  },
  {
   "cell_type": "code",
   "execution_count": 27,
   "metadata": {},
   "outputs": [],
   "source": [
    "a=np.ones(5)"
   ]
  },
  {
   "cell_type": "code",
   "execution_count": 28,
   "metadata": {},
   "outputs": [
    {
     "data": {
      "text/plain": [
       "array([1., 1., 1., 1., 1.])"
      ]
     },
     "execution_count": 28,
     "metadata": {},
     "output_type": "execute_result"
    }
   ],
   "source": [
    "a"
   ]
  },
  {
   "cell_type": "code",
   "execution_count": 31,
   "metadata": {},
   "outputs": [
    {
     "data": {
      "text/plain": [
       "array([0, 0, 0, 0, 0, 0, 0, 0, 0, 0])"
      ]
     },
     "execution_count": 31,
     "metadata": {},
     "output_type": "execute_result"
    }
   ],
   "source": [
    "np.zeros_like(a)"
   ]
  },
  {
   "cell_type": "code",
   "execution_count": 32,
   "metadata": {},
   "outputs": [
    {
     "data": {
      "text/plain": [
       "array([1, 1, 1, 1, 1, 1, 1, 1, 1, 1])"
      ]
     },
     "execution_count": 32,
     "metadata": {},
     "output_type": "execute_result"
    }
   ],
   "source": [
    "np.ones_like(a)"
   ]
  },
  {
   "cell_type": "markdown",
   "metadata": {},
   "source": [
    "# 2D ARRAY"
   ]
  },
  {
   "cell_type": "code",
   "execution_count": 39,
   "metadata": {},
   "outputs": [],
   "source": [
    "_2d=np.array([[1,2,3],[4,5,6],[7,8,9]])"
   ]
  },
  {
   "cell_type": "code",
   "execution_count": 40,
   "metadata": {},
   "outputs": [
    {
     "data": {
      "text/plain": [
       "array([[1, 2, 3],\n",
       "       [4, 5, 6],\n",
       "       [7, 8, 9]])"
      ]
     },
     "execution_count": 40,
     "metadata": {},
     "output_type": "execute_result"
    }
   ],
   "source": [
    "_2d"
   ]
  },
  {
   "cell_type": "code",
   "execution_count": 41,
   "metadata": {},
   "outputs": [
    {
     "data": {
      "text/plain": [
       "9"
      ]
     },
     "execution_count": 41,
     "metadata": {},
     "output_type": "execute_result"
    }
   ],
   "source": [
    "np.size(_2d)"
   ]
  },
  {
   "cell_type": "code",
   "execution_count": 42,
   "metadata": {},
   "outputs": [
    {
     "data": {
      "text/plain": [
       "3"
      ]
     },
     "execution_count": 42,
     "metadata": {},
     "output_type": "execute_result"
    }
   ],
   "source": [
    "len(_2d)"
   ]
  },
  {
   "cell_type": "code",
   "execution_count": 43,
   "metadata": {},
   "outputs": [
    {
     "data": {
      "text/plain": [
       "(3, 3)"
      ]
     },
     "execution_count": 43,
     "metadata": {},
     "output_type": "execute_result"
    }
   ],
   "source": [
    "_2d.shape"
   ]
  },
  {
   "cell_type": "code",
   "execution_count": 45,
   "metadata": {},
   "outputs": [],
   "source": [
    "abc=np.arange(25).reshape(5,5)"
   ]
  },
  {
   "cell_type": "code",
   "execution_count": 46,
   "metadata": {},
   "outputs": [
    {
     "data": {
      "text/plain": [
       "array([[ 0,  1,  2,  3,  4],\n",
       "       [ 5,  6,  7,  8,  9],\n",
       "       [10, 11, 12, 13, 14],\n",
       "       [15, 16, 17, 18, 19],\n",
       "       [20, 21, 22, 23, 24]])"
      ]
     },
     "execution_count": 46,
     "metadata": {},
     "output_type": "execute_result"
    }
   ],
   "source": [
    "abc"
   ]
  },
  {
   "cell_type": "code",
   "execution_count": 47,
   "metadata": {},
   "outputs": [
    {
     "data": {
      "text/plain": [
       "25"
      ]
     },
     "execution_count": 47,
     "metadata": {},
     "output_type": "execute_result"
    }
   ],
   "source": [
    "np.size(abc)"
   ]
  },
  {
   "cell_type": "code",
   "execution_count": 49,
   "metadata": {},
   "outputs": [
    {
     "data": {
      "text/plain": [
       "5"
      ]
     },
     "execution_count": 49,
     "metadata": {},
     "output_type": "execute_result"
    }
   ],
   "source": [
    "np.size(abc,0)#row"
   ]
  },
  {
   "cell_type": "code",
   "execution_count": 50,
   "metadata": {},
   "outputs": [
    {
     "data": {
      "text/plain": [
       "5"
      ]
     },
     "execution_count": 50,
     "metadata": {},
     "output_type": "execute_result"
    }
   ],
   "source": [
    "np.size(abc,1)#column"
   ]
  },
  {
   "cell_type": "code",
   "execution_count": 51,
   "metadata": {},
   "outputs": [
    {
     "data": {
      "text/plain": [
       "array([ 0,  1,  2,  3,  4,  5,  6,  7,  8,  9, 10, 11, 12, 13, 14, 15, 16,\n",
       "       17, 18, 19, 20, 21, 22, 23, 24])"
      ]
     },
     "execution_count": 51,
     "metadata": {},
     "output_type": "execute_result"
    }
   ],
   "source": [
    "abc.reshape(25)"
   ]
  },
  {
   "cell_type": "code",
   "execution_count": 2,
   "metadata": {},
   "outputs": [],
   "source": [
    "import numpy as np"
   ]
  },
  {
   "cell_type": "code",
   "execution_count": 3,
   "metadata": {},
   "outputs": [
    {
     "data": {
      "text/plain": [
       "array([ 1.  ,  3.25,  5.5 ,  7.75, 10.  ])"
      ]
     },
     "execution_count": 3,
     "metadata": {},
     "output_type": "execute_result"
    }
   ],
   "source": [
    "np.linspace(1,10,5)"
   ]
  },
  {
   "cell_type": "code",
   "execution_count": 4,
   "metadata": {},
   "outputs": [
    {
     "data": {
      "text/plain": [
       "array([[-0.58080284, -0.16922632,  0.98836411,  1.22953099],\n",
       "       [-0.35136453, -0.23085704, -0.38618891,  0.95784583],\n",
       "       [-0.76076601,  1.85265467,  0.79380822, -0.90367671],\n",
       "       [-1.37778031,  0.34919315,  0.01818485, -1.5027943 ],\n",
       "       [ 0.61378016,  1.6888117 ,  1.38236784,  1.54329319]])"
      ]
     },
     "execution_count": 4,
     "metadata": {},
     "output_type": "execute_result"
    }
   ],
   "source": [
    "a=np.random.randn(20).reshape(5,4)#normal distribution\n",
    "a"
   ]
  },
  {
   "cell_type": "code",
   "execution_count": 5,
   "metadata": {},
   "outputs": [
    {
     "data": {
      "text/plain": [
       "array([[ 0,  1,  2,  3,  4],\n",
       "       [ 5,  6,  7,  8,  9],\n",
       "       [10, 11, 12, 13, 14],\n",
       "       [15, 16, 17, 18, 19]])"
      ]
     },
     "execution_count": 5,
     "metadata": {},
     "output_type": "execute_result"
    }
   ],
   "source": [
    "b=np.arange(20).reshape(4,5)\n",
    "b"
   ]
  },
  {
   "cell_type": "code",
   "execution_count": 6,
   "metadata": {},
   "outputs": [
    {
     "data": {
      "text/plain": [
       "17"
      ]
     },
     "execution_count": 6,
     "metadata": {},
     "output_type": "execute_result"
    }
   ],
   "source": [
    "b[3,2] # first one row and second column"
   ]
  },
  {
   "cell_type": "code",
   "execution_count": 7,
   "metadata": {},
   "outputs": [
    {
     "data": {
      "text/plain": [
       "4"
      ]
     },
     "execution_count": 7,
     "metadata": {},
     "output_type": "execute_result"
    }
   ],
   "source": [
    "b[0,4]"
   ]
  },
  {
   "cell_type": "code",
   "execution_count": 9,
   "metadata": {},
   "outputs": [
    {
     "data": {
      "text/plain": [
       "array([5, 6, 7, 8, 9])"
      ]
     },
     "execution_count": 9,
     "metadata": {},
     "output_type": "execute_result"
    }
   ],
   "source": [
    "b[1,]"
   ]
  },
  {
   "cell_type": "code",
   "execution_count": 10,
   "metadata": {},
   "outputs": [
    {
     "data": {
      "text/plain": [
       "array([[ 6,  7],\n",
       "       [11, 12]])"
      ]
     },
     "execution_count": 10,
     "metadata": {},
     "output_type": "execute_result"
    }
   ],
   "source": [
    "b[1:3,1:3]"
   ]
  },
  {
   "cell_type": "code",
   "execution_count": 12,
   "metadata": {},
   "outputs": [
    {
     "data": {
      "text/plain": [
       "array([[12]])"
      ]
     },
     "execution_count": 12,
     "metadata": {},
     "output_type": "execute_result"
    }
   ],
   "source": [
    "b[2:3,2:3] # row into column"
   ]
  },
  {
   "cell_type": "code",
   "execution_count": 17,
   "metadata": {},
   "outputs": [
    {
     "data": {
      "text/plain": [
       "array([[ 5,  6,  7,  8,  9],\n",
       "       [10, 11, 12, 13, 14]])"
      ]
     },
     "execution_count": 17,
     "metadata": {},
     "output_type": "execute_result"
    }
   ],
   "source": [
    "b[1:3,0:]"
   ]
  },
  {
   "cell_type": "code",
   "execution_count": 18,
   "metadata": {},
   "outputs": [
    {
     "data": {
      "text/plain": [
       "array([[ 0,  1,  2,  3,  4],\n",
       "       [ 5,  6,  7,  8,  9],\n",
       "       [10, 11, 12, 13, 14],\n",
       "       [15, 16, 17, 18, 19]])"
      ]
     },
     "execution_count": 18,
     "metadata": {},
     "output_type": "execute_result"
    }
   ],
   "source": [
    "b"
   ]
  },
  {
   "cell_type": "code",
   "execution_count": 19,
   "metadata": {},
   "outputs": [
    {
     "data": {
      "text/plain": [
       "array([ 4,  9, 14, 19])"
      ]
     },
     "execution_count": 19,
     "metadata": {},
     "output_type": "execute_result"
    }
   ],
   "source": [
    "b[:,4]"
   ]
  },
  {
   "cell_type": "code",
   "execution_count": 20,
   "metadata": {},
   "outputs": [
    {
     "data": {
      "text/plain": [
       "array([ 1,  6, 11, 16])"
      ]
     },
     "execution_count": 20,
     "metadata": {},
     "output_type": "execute_result"
    }
   ],
   "source": [
    "b[:,1]"
   ]
  },
  {
   "cell_type": "code",
   "execution_count": 30,
   "metadata": {},
   "outputs": [
    {
     "data": {
      "text/plain": [
       "array([15, 16, 17, 18, 19])"
      ]
     },
     "execution_count": 30,
     "metadata": {},
     "output_type": "execute_result"
    }
   ],
   "source": [
    "b[3,]      #SAME"
   ]
  },
  {
   "cell_type": "code",
   "execution_count": 31,
   "metadata": {},
   "outputs": [
    {
     "data": {
      "text/plain": [
       "array([[15, 16, 17, 18, 19]])"
      ]
     },
     "execution_count": 31,
     "metadata": {},
     "output_type": "execute_result"
    }
   ],
   "source": [
    "b[3:4,0:5]  #SAME"
   ]
  },
  {
   "cell_type": "code",
   "execution_count": 28,
   "metadata": {},
   "outputs": [
    {
     "data": {
      "text/plain": [
       "array([15, 16, 17, 18, 19])"
      ]
     },
     "execution_count": 28,
     "metadata": {},
     "output_type": "execute_result"
    }
   ],
   "source": [
    "b[3,:]      #SAME"
   ]
  },
  {
   "cell_type": "code",
   "execution_count": null,
   "metadata": {},
   "outputs": [],
   "source": []
  }
 ],
 "metadata": {
  "kernelspec": {
   "display_name": "Python 3",
   "language": "python",
   "name": "python3"
  },
  "language_info": {
   "codemirror_mode": {
    "name": "ipython",
    "version": 3
   },
   "file_extension": ".py",
   "mimetype": "text/x-python",
   "name": "python",
   "nbconvert_exporter": "python",
   "pygments_lexer": "ipython3",
   "version": "3.7.3"
  }
 },
 "nbformat": 4,
 "nbformat_minor": 2
}
